{
 "cells": [
  {
   "cell_type": "code",
   "execution_count": null,
   "metadata": {},
   "outputs": [],
   "source": [
    "%matplotlib inline\n",
    "import numpy as np \n",
    "import matplotlib.pyplot as plt\n",
    "import os\n",
    "from matplotlib.collections import LineCollection\n",
    "\n",
    "os.getcwd()"
   ]
  },
  {
   "cell_type": "code",
   "execution_count": null,
   "metadata": {},
   "outputs": [],
   "source": [
    "num_iters = 4\n",
    "\n",
    "steps_list =[]\n",
    "temps_list = []\n",
    "estds_list = []\n",
    "energies_list = []\n",
    "for i in range(num_iters):\n",
    "    data = np.loadtxt(f\"iteration{i+1}_data_ext.csv\",delimiter=\",\",skiprows=1)\n",
    "    steps      = data[:,0]\n",
    "    temps      = data[:,1]\n",
    "    energies   = data[:,2]\n",
    "    energy_std = data[:,3]\n",
    "\n",
    "    steps_list.append(steps)\n",
    "    temps_list.append(temps)\n",
    "    energies_list.append(energies)\n",
    "    estds_list.append(energy_std)\n"
   ]
  },
  {
   "cell_type": "code",
   "execution_count": null,
   "metadata": {},
   "outputs": [],
   "source": [
    "iter_idx = 3\n",
    "window = 2500\n",
    "melt_step = 58000\n",
    "fig, axs = plt.subplots(2,1,sharex=True,figsize=(8,6),gridspec_kw={\"hspace\":0.10})\n",
    "axs[0].plot(steps_list[iter_idx],energies_list[iter_idx],lw=0.5,color=\"k\")\n",
    "window_avg_e = np.convolve(energies_list[iter_idx], np.ones((window,))/window,mode=\"valid\")\n",
    "num_pad_steps = len(steps_list[iter_idx]) - len(window_avg_e)\n",
    "pad_array = np.full((num_pad_steps),-1040)\n",
    "window_avg_e = np.insert(window_avg_e,0,pad_array)\n",
    "axs[0].plot(steps_list[iter_idx],window_avg_e,lw=0.8,color=\"turquoise\")\n",
    "\n",
    "axs[0].set_yticks([-1060,-1040,-1020,-1000,-980])\n",
    "axs[0].set_yticklabels([-1060,-1040,-1020,-1000,-980])\n",
    "axs[0].tick_params(axis=\"both\", labelsize=20)\n",
    "\n",
    "axs[0].axvline(melt_step,linestyle=\"--\",color=\"slategrey\")\n",
    "\n",
    "axs[1].plot(steps_list[iter_idx],temps_list[iter_idx],lw=0.5,color=\"k\")\n",
    "window_avg= np.convolve(temps_list[iter_idx], np.ones((window,))/window, mode=\"valid\")\n",
    "num_pad_steps = len(steps_list[iter_idx]) - len(window_avg)\n",
    "pad_array = np.full((num_pad_steps),2800)\n",
    "window_avg = np.insert(window_avg, 0,pad_array)\n",
    "axs[1].plot(steps_list[iter_idx],window_avg,lw=0.8,color=\"indianred\")\n",
    "\n",
    "axs[1].set_yticks([2000,3000,4000,5000,6000])\n",
    "axs[1].set_yticklabels([2000,3000,4000,5000,6000])\n",
    "axs[1].tick_params(axis=\"both\", labelsize=20)\n",
    "\n",
    "axs[1].axvline(melt_step,linestyle=\"--\",color=\"slategrey\")\n",
    "print(window_avg[melt_step])\n",
    "\n",
    "axs[0].set_ylim([-1070,-980])\n",
    "axs[1].set_ylim([2000,6500])\n",
    "\n",
    "axs[1].set_xticks([0,25000,50000,75000,100000,125000,150000,175000,200000])\n",
    "axs[1].set_xticklabels([0,25,50,75,100,125,150,175,200])\n",
    "\n",
    "plt.savefig(\"energy_temp_plot.png\",dpi=1000)"
   ]
  },
  {
   "cell_type": "code",
   "execution_count": null,
   "metadata": {},
   "outputs": [],
   "source": []
  }
 ],
 "metadata": {
  "language_info": {
   "name": "python"
  }
 },
 "nbformat": 4,
 "nbformat_minor": 2
}
