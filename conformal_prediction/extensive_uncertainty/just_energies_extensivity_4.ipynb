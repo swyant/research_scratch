{
 "cells": [
  {
   "cell_type": "markdown",
   "id": "68f9a653",
   "metadata": {},
   "source": [
    "Explored the per-atom verion of heuristic uncertainty, went all the way through to regressing thne doing the calibration curve. "
   ]
  },
  {
   "cell_type": "code",
   "execution_count": null,
   "id": "a35e3735",
   "metadata": {},
   "outputs": [],
   "source": [
    "using Revise\n",
    "using Pkg; Pkg.activate(\".\")"
   ]
  },
  {
   "cell_type": "code",
   "execution_count": null,
   "id": "2643b76d",
   "metadata": {},
   "outputs": [],
   "source": [
    "using Unitful\n",
    "using PotentialLearning\n",
    "using Random: randperm\n",
    "using JLD2\n",
    "using InteratomicPotentials\n",
    "using AtomsBase, AtomsCalculators\n",
    "using Statistics\n",
    "using CairoMakie, ColorSchemes\n",
    "using LinearAlgebra"
   ]
  },
  {
   "cell_type": "code",
   "execution_count": null,
   "id": "a8cc79c3",
   "metadata": {},
   "outputs": [],
   "source": [
    "includet(\"../files/conformal_prediction_utils.jl\")\n",
    "includet(\"../files/committee_potentials.jl\")\n",
    "includet(\"../files/committee_qois.jl\")\n",
    "includet(\"../files/conformal_prediction_plots.jl\")"
   ]
  },
  {
   "cell_type": "code",
   "execution_count": null,
   "id": "730cb4e0",
   "metadata": {},
   "outputs": [],
   "source": [
    "training_data_dict = load(\"training_data.jld2\")\n",
    "frenkel_train_ds = training_data_dict[\"frenkel_train_ds\"]\n",
    "pristine_train_ds = training_data_dict[\"pristine_train_ds\"]"
   ]
  },
  {
   "cell_type": "code",
   "execution_count": null,
   "id": "8a624eb4",
   "metadata": {},
   "outputs": [],
   "source": [
    "total_train = concat_dataset([frenkel_train_ds, pristine_train_ds])"
   ]
  },
  {
   "cell_type": "code",
   "execution_count": null,
   "id": "a08b6038",
   "metadata": {},
   "outputs": [],
   "source": [
    "calibtest_datasets = load(\"../cesmix_prez/datasets_with_descriptors.jld2\")\n",
    "pristine_base_calib_ds = calibtest_datasets[\"pristine_base_calib_ds\"]\n",
    "pristine_base_test_ds = calibtest_datasets[\"pristine_base_test_ds\"]\n",
    "frenkel_base_calib_ds = calibtest_datasets[\"frenkel_base_calib_ds\"]\n",
    "frenkel_base_test_ds = calibtest_datasets[\"frenkel_base_test_ds\"]"
   ]
  },
  {
   "cell_type": "code",
   "execution_count": null,
   "id": "a463296a",
   "metadata": {},
   "outputs": [],
   "source": [
    "combined_calib_ds = concat_dataset([pristine_base_calib_ds; frenkel_base_calib_ds])\n",
    "combined_test_ds = concat_dataset([pristine_base_test_ds; frenkel_base_test_ds])"
   ]
  },
  {
   "cell_type": "code",
   "execution_count": null,
   "id": "7f5cff25",
   "metadata": {},
   "outputs": [],
   "source": [
    "ace_cmte_dict = load(\"../cesmix_prez/ace_cmte1.jld2\")\n",
    "ensemble_members = ace_cmte_dict[\"members\"]"
   ]
  },
  {
   "cell_type": "code",
   "execution_count": null,
   "id": "811262a9",
   "metadata": {},
   "outputs": [],
   "source": [
    "ace = ACE(species            = [:Hf],\n",
    "          body_order         = 4,\n",
    "          polynomial_degree  = 10,\n",
    "          wL                 = 1.5,\n",
    "          csp                = 1.0,\n",
    "          r0                 = 2.15,\n",
    "          rcutoff            = 5.0)"
   ]
  },
  {
   "cell_type": "code",
   "execution_count": null,
   "id": "584dcbc4",
   "metadata": {},
   "outputs": [],
   "source": [
    "my_cmte = CommitteePotential(ensemble_members; energy_units=u\"eV\", length_units=u\"Å\")\n",
    "cmte_energy = CmteEnergy(Statistics.std, strip_units=true)\n",
    "atomic_energies_qoi = CmteAtomicEnergies(Statistics.var, true) # actually this should be std, but whatever I don't think it matters for this notebook"
   ]
  },
  {
   "cell_type": "markdown",
   "id": "6e11735c",
   "metadata": {},
   "source": [
    "Obtain qhat score and quick eval"
   ]
  },
  {
   "cell_type": "code",
   "execution_count": null,
   "id": "09837e37",
   "metadata": {},
   "outputs": [],
   "source": [
    "ecalib_pred = [ustrip(PotentialLearning.potential_energy(sys,my_cmte)) for sys in combined_calib_ds]\n",
    "ecalib_ref = [get_values(get_energy(config)) for config in combined_calib_ds]\n",
    "calib_uq = [ustrip(compute(cmte_energy,config,my_cmte)) for config in combined_calib_ds]\n",
    "\n",
    "qhat = calibrate(ecalib_pred, ecalib_ref, calib_uq, 0.1)\n",
    "\n",
    "etest_pred = [ustrip(PotentialLearning.potential_energy(config,my_cmte)) for config in combined_test_ds]\n",
    "etest_ref = [ustrip(get_values(get_energy(config))) for config in combined_test_ds]\n",
    "test_uq = [ustrip(compute(cmte_energy, config, my_cmte)) for config in combined_test_ds]\n",
    "\n",
    "num_test = length(etest_pred)\n",
    "test_abs_residuals = abs.(etest_pred .- etest_ref)\n",
    "\n",
    "qhat_scores = qhat*test_uq\n",
    "coverage = sum(test_abs_residuals .> qhat_scores) / num_test"
   ]
  },
  {
   "cell_type": "code",
   "execution_count": null,
   "id": "82c4701d",
   "metadata": {},
   "outputs": [],
   "source": [
    "train_uq = [ustrip(compute(cmte_energy, config, my_cmte)) for config in total_train]\n",
    "train_ci = qhat .* train_uq"
   ]
  },
  {
   "cell_type": "code",
   "execution_count": null,
   "id": "e4e978b5",
   "metadata": {},
   "outputs": [],
   "source": [
    "function simple_regression(xvecs, yvec, lambda=0.01)\n",
    "    A = reduce(hcat,xvecs)'\n",
    "    b = yvec\n",
    "    AtA = A'*A\n",
    "    Atb = A'*b\n",
    "    coeffs = (AtA + lambda*I) \\ Atb\n",
    "    coeffs\n",
    "end"
   ]
  },
  {
   "cell_type": "code",
   "execution_count": null,
   "id": "9b31bc0a",
   "metadata": {},
   "outputs": [],
   "source": [
    "sum(get_values(get_local_descriptors(total_train[1])))"
   ]
  },
  {
   "cell_type": "code",
   "execution_count": null,
   "id": "431904b8",
   "metadata": {},
   "outputs": [],
   "source": [
    "#total_train_gds = [sum.(get_values(get_local_descriptors(config))) for config in total_train] # THIS WAS WRONG BEFORE\n",
    "total_train_gds = [sum(get_values(get_local_descriptors(config))) for config in total_train]"
   ]
  },
  {
   "cell_type": "code",
   "execution_count": null,
   "id": "3354a32f",
   "metadata": {},
   "outputs": [],
   "source": [
    "new_coeffs = simple_regression(total_train_gds, log.(train_uq))"
   ]
  },
  {
   "cell_type": "code",
   "execution_count": null,
   "id": "e50c2f04",
   "metadata": {},
   "outputs": [],
   "source": [
    "preds = [exp(new_coeffs'*gd) for gd in total_train_gds]"
   ]
  },
  {
   "cell_type": "code",
   "execution_count": null,
   "id": "6189997a",
   "metadata": {},
   "outputs": [],
   "source": [
    "basic_parity_plot(train_uq, preds; min_val=0.0, max_val=0.23, marker_size=4)"
   ]
  },
  {
   "cell_type": "code",
   "execution_count": null,
   "id": "f3485bc1",
   "metadata": {},
   "outputs": [],
   "source": [
    "@show mean(abs.(train_uq .- preds))\n",
    "@show sqrt(mean((train_uq .- preds).^2))"
   ]
  },
  {
   "cell_type": "code",
   "execution_count": null,
   "id": "ba4351a8",
   "metadata": {},
   "outputs": [],
   "source": [
    "total_train_lds = [get_values(get_local_descriptors(config)) for config in total_train]"
   ]
  },
  {
   "cell_type": "code",
   "execution_count": null,
   "id": "c9b4d56a",
   "metadata": {},
   "outputs": [],
   "source": [
    "total_train_atomic_energies_std = [compute(atomic_energies_qoi,config,my_cmte) for config in total_train]"
   ]
  },
  {
   "cell_type": "code",
   "execution_count": null,
   "id": "5503561a",
   "metadata": {},
   "outputs": [],
   "source": [
    "total_train_atomic_energies_std[1]"
   ]
  },
  {
   "cell_type": "code",
   "execution_count": null,
   "id": "c8613b06",
   "metadata": {},
   "outputs": [],
   "source": [
    "total_train_lds[1]"
   ]
  },
  {
   "cell_type": "code",
   "execution_count": null,
   "id": "455d5af4",
   "metadata": {},
   "outputs": [],
   "source": [
    "#[vec(total_train_atomic_energies_std[1]).*total_train_lds[1]]\n",
    "intermediate = [vec(total_train_atomic_energies_std[i]) .* total_train_lds[i] for i in 1:length(total_train_lds)]"
   ]
  },
  {
   "cell_type": "code",
   "execution_count": null,
   "id": "2668100a",
   "metadata": {},
   "outputs": [],
   "source": [
    "sum(intermediate[1])"
   ]
  },
  {
   "cell_type": "code",
   "execution_count": null,
   "id": "7f279303",
   "metadata": {},
   "outputs": [],
   "source": [
    "intermediate[1]"
   ]
  },
  {
   "cell_type": "code",
   "execution_count": null,
   "id": "da22bc5f",
   "metadata": {},
   "outputs": [],
   "source": [
    "my_sum =0.0\n",
    "for arr in intermediate[1]\n",
    "    @show arr[1]\n",
    "    my_sum += arr[1]\n",
    "end\n",
    "my_sum"
   ]
  },
  {
   "cell_type": "code",
   "execution_count": null,
   "id": "dce857b6",
   "metadata": {},
   "outputs": [],
   "source": [
    "adjusted_gds_total_train = [sum(inter) for inter in intermediate]"
   ]
  },
  {
   "cell_type": "code",
   "execution_count": null,
   "id": "496208c5",
   "metadata": {},
   "outputs": [],
   "source": [
    "alt_coeffs = simple_regression(adjusted_gds_total_train, log.(train_uq))"
   ]
  },
  {
   "cell_type": "code",
   "execution_count": null,
   "id": "3d119321",
   "metadata": {},
   "outputs": [],
   "source": [
    "alt_preds = [exp(alt_coeffs'*gd) for gd in adjusted_gds_total_train]"
   ]
  },
  {
   "cell_type": "code",
   "execution_count": null,
   "id": "e7a7d35d",
   "metadata": {},
   "outputs": [],
   "source": [
    "basic_parity_plot(train_uq, alt_preds; min_val=0.0, max_val=0.23, marker_size=4)"
   ]
  },
  {
   "cell_type": "code",
   "execution_count": null,
   "id": "09da9619",
   "metadata": {},
   "outputs": [],
   "source": [
    "@show mean(abs.(train_uq .- alt_preds))\n",
    "@show sqrt(mean((train_uq .- alt_preds).^2))"
   ]
  },
  {
   "cell_type": "code",
   "execution_count": null,
   "id": "bcfd08a2",
   "metadata": {},
   "outputs": [],
   "source": [
    "function compute_basic_estimated_uqs(configs, coeffs)\n",
    "    gds = [sum(get_values(get_local_descriptors(config))) for config in configs]\n",
    "    preds = [exp(coeffs'*gd) for gd in gds]\n",
    "    preds\n",
    "end"
   ]
  },
  {
   "cell_type": "code",
   "execution_count": null,
   "id": "c4ff158f",
   "metadata": {},
   "outputs": [],
   "source": [
    "compute_basic_estimated_uqs(combined_test_ds, new_coeffs)"
   ]
  },
  {
   "cell_type": "code",
   "execution_count": null,
   "id": "7e7631e1",
   "metadata": {},
   "outputs": [],
   "source": [
    "test_uq = [ustrip(compute(cmte_energy, config, my_cmte)) for config in combined_test_ds]"
   ]
  },
  {
   "cell_type": "code",
   "execution_count": null,
   "id": "22f192e3",
   "metadata": {},
   "outputs": [],
   "source": [
    "#ecalib_pred = [ustrip(PotentialLearning.potential_energy(sys,my_cmte)) for sys in combined_calib_ds]\n",
    "#ecalib_ref = [get_values(get_energy(config)) for config in combined_calib_ds]\n",
    "#calib_uq = [ustrip(compute(cmte_energy,config,my_cmte)) for config in combined_calib_ds]\n",
    "#etest_pred = [ustrip(PotentialLearning.potential_energy(config,my_cmte)) for config in combined_test_ds]\n",
    "#etest_ref = [ustrip(get_values(get_energy(config))) for config in combined_test_ds]\n",
    "calib_scores = abs.(ecalib_pred .- ecalib_ref) ./ calib_uq\n",
    "test_abs_residuals = abs.(etest_pred .- etest_ref)\n",
    "\n",
    "test_uq = [ustrip(compute(cmte_energy, config, my_cmte)) for config in combined_test_ds]\n",
    "est_test_uq = compute_basic_estimated_uqs(combined_test_ds, new_coeffs)\n",
    "\n",
    "test_abs_residuals = abs.(etest_pred .- etest_ref)\n",
    "\n",
    "alpha_complements = collect(range(0.01,0.99,step=0.01))\n",
    "alpha_refs = 1 .- alpha_complements\n",
    "\n",
    "alpha_pred = generate_predicted_alphas(calib_scores,test_uq, test_abs_residuals)"
   ]
  },
  {
   "cell_type": "code",
   "execution_count": null,
   "id": "1aaebd86",
   "metadata": {},
   "outputs": [],
   "source": [
    "make_custom_calibration_plot1(alpha_refs,alpha_pred; text_size=24, label_size=28)"
   ]
  },
  {
   "cell_type": "code",
   "execution_count": null,
   "id": "92b368df",
   "metadata": {},
   "outputs": [],
   "source": [
    "compute_miscalibration_area(alpha_refs, alpha_pred)"
   ]
  },
  {
   "cell_type": "code",
   "execution_count": null,
   "id": "3f24e1e1",
   "metadata": {},
   "outputs": [],
   "source": [
    "est_alpha_pred = generate_predicted_alphas(calib_scores,est_test_uq, test_abs_residuals)"
   ]
  },
  {
   "cell_type": "code",
   "execution_count": null,
   "id": "b5ff5336",
   "metadata": {},
   "outputs": [],
   "source": [
    "make_custom_calibration_plot1(alpha_refs,est_alpha_pred; text_size=24, label_size=28)"
   ]
  },
  {
   "cell_type": "code",
   "execution_count": null,
   "id": "18edcf67",
   "metadata": {},
   "outputs": [],
   "source": [
    "compute_miscalibration_area(alpha_refs, est_alpha_pred)"
   ]
  },
  {
   "cell_type": "code",
   "execution_count": null,
   "id": "03cc6f04",
   "metadata": {},
   "outputs": [],
   "source": [
    "save(\"dumb_coeffs_for_heuristic_uq.jld2\", Dict(\"basic_coeffs\" => new_coeffs,\n",
    "                                               \"alt_coeffs\" => alt_coeffs))"
   ]
  },
  {
   "cell_type": "code",
   "execution_count": null,
   "id": "40ec1fa9",
   "metadata": {},
   "outputs": [],
   "source": []
  }
 ],
 "metadata": {
  "language_info": {
   "name": "julia"
  }
 },
 "nbformat": 4,
 "nbformat_minor": 5
}
