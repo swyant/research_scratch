{
 "cells": [
  {
   "cell_type": "code",
   "execution_count": null,
   "id": "802c439f",
   "metadata": {},
   "outputs": [],
   "source": [
    "using Revise\n",
    "using Pkg; Pkg.activate(\".\")"
   ]
  },
  {
   "cell_type": "code",
   "execution_count": null,
   "id": "d26c009f",
   "metadata": {},
   "outputs": [],
   "source": [
    "using Unitful\n",
    "using PotentialLearning\n",
    "using Random: randperm\n",
    "using JLD2\n",
    "using InteratomicPotentials\n",
    "using AtomsBase, AtomsCalculators\n",
    "using Statistics\n",
    "using CairoMakie, ColorSchemes\n",
    "using LinearAlgebra"
   ]
  },
  {
   "cell_type": "code",
   "execution_count": null,
   "id": "b3892f3c",
   "metadata": {},
   "outputs": [],
   "source": [
    "includet(\"../files/conformal_prediction_utils.jl\")\n",
    "includet(\"../files/committee_potentials.jl\")\n",
    "includet(\"../files/committee_qois.jl\")\n",
    "includet(\"../files/conformal_prediction_plots.jl\")"
   ]
  },
  {
   "cell_type": "code",
   "execution_count": null,
   "id": "ffb4978f",
   "metadata": {},
   "outputs": [],
   "source": [
    "basic_coeffs = load(\"dumb_coeffs_for_heuristic_uq.jld2\", \"basic_coeffs\")"
   ]
  },
  {
   "cell_type": "code",
   "execution_count": null,
   "id": "3cee02e9",
   "metadata": {},
   "outputs": [],
   "source": [
    "calibtest_datasets = load(\"../cesmix_prez/datasets_with_descriptors.jld2\")\n",
    "pristine_base_calib_ds = calibtest_datasets[\"pristine_base_calib_ds\"]\n",
    "pristine_base_test_ds = calibtest_datasets[\"pristine_base_test_ds\"]\n",
    "frenkel_base_calib_ds = calibtest_datasets[\"frenkel_base_calib_ds\"]\n",
    "frenkel_base_test_ds = calibtest_datasets[\"frenkel_base_test_ds\"]"
   ]
  },
  {
   "cell_type": "code",
   "execution_count": null,
   "id": "b2fe4ac2",
   "metadata": {},
   "outputs": [],
   "source": [
    "combined_calib_ds = concat_dataset([pristine_base_calib_ds; frenkel_base_calib_ds])\n",
    "combined_test_ds = concat_dataset([pristine_base_test_ds; frenkel_base_test_ds])"
   ]
  },
  {
   "cell_type": "code",
   "execution_count": null,
   "id": "d6c091a9",
   "metadata": {},
   "outputs": [],
   "source": [
    "ace_cmte_dict = load(\"../cesmix_prez/ace_cmte1.jld2\")\n",
    "ensemble_members = ace_cmte_dict[\"members\"]"
   ]
  },
  {
   "cell_type": "code",
   "execution_count": null,
   "id": "affbcd79",
   "metadata": {},
   "outputs": [],
   "source": [
    "ace = ACE(species            = [:Hf],\n",
    "          body_order         = 4,\n",
    "          polynomial_degree  = 10,\n",
    "          wL                 = 1.5,\n",
    "          csp                = 1.0,\n",
    "          r0                 = 2.15,\n",
    "          rcutoff            = 5.0)"
   ]
  },
  {
   "cell_type": "code",
   "execution_count": null,
   "id": "7bfeb1cc",
   "metadata": {},
   "outputs": [],
   "source": [
    "my_cmte = CommitteePotential(ensemble_members; energy_units=u\"eV\", length_units=u\"Å\")\n",
    "cmte_energy = CmteEnergy(Statistics.std, strip_units=true)"
   ]
  },
  {
   "cell_type": "code",
   "execution_count": null,
   "id": "4fcfd6a8",
   "metadata": {},
   "outputs": [],
   "source": [
    "ecalib_pred = [ustrip(PotentialLearning.potential_energy(sys,my_cmte)) for sys in combined_calib_ds]\n",
    "ecalib_ref = [get_values(get_energy(config)) for config in combined_calib_ds]\n",
    "calib_uq = [ustrip(compute(cmte_energy,config,my_cmte)) for config in combined_calib_ds]\n",
    "\n",
    "etest_pred = [ustrip(PotentialLearning.potential_energy(config,my_cmte)) for config in combined_test_ds]\n",
    "etest_ref = [ustrip(get_values(get_energy(config))) for config in combined_test_ds]"
   ]
  },
  {
   "cell_type": "code",
   "execution_count": null,
   "id": "bf9cf688",
   "metadata": {},
   "outputs": [],
   "source": [
    "function compute_basic_estimated_uqs(configs, coeffs)\n",
    "    gds = [sum(get_values(get_local_descriptors(config))) for config in configs]\n",
    "    preds = [exp(coeffs'*gd) for gd in gds]\n",
    "    preds\n",
    "end"
   ]
  },
  {
   "cell_type": "code",
   "execution_count": null,
   "id": "cbee4964",
   "metadata": {},
   "outputs": [],
   "source": [
    "calib_scores = abs.(ecalib_pred .- ecalib_ref) ./ calib_uq\n",
    "test_abs_residuals = abs.(etest_pred .- etest_ref)\n",
    "\n",
    "test_uq = [ustrip(compute(cmte_energy, config, my_cmte)) for config in combined_test_ds]\n",
    "est_test_uq = compute_basic_estimated_uqs(combined_test_ds, basic_coeffs)\n",
    "\n",
    "alpha_complements = collect(range(0.01,0.99,step=0.01))\n",
    "alpha_refs = 1 .- alpha_complements\n",
    "\n",
    "alpha_pred = generate_predicted_alphas(calib_scores,test_uq, test_abs_residuals)"
   ]
  },
  {
   "cell_type": "code",
   "execution_count": null,
   "id": "9aa9a8c5",
   "metadata": {},
   "outputs": [],
   "source": [
    "test_uq"
   ]
  },
  {
   "cell_type": "code",
   "execution_count": null,
   "id": "c4b15370",
   "metadata": {},
   "outputs": [],
   "source": [
    "get_values(get_local_descriptors(combined_test_ds[1]))"
   ]
  },
  {
   "cell_type": "code",
   "execution_count": null,
   "id": "fe1415b6",
   "metadata": {},
   "outputs": [],
   "source": [
    "make_custom_calibration_plot1(alpha_refs,alpha_pred; text_size=24, label_size=28)"
   ]
  },
  {
   "cell_type": "code",
   "execution_count": null,
   "id": "db02b423",
   "metadata": {},
   "outputs": [],
   "source": [
    "pristine_8x_ds, frenkel_8x_ds, dilute_8x_ds = load(\"large_8x_data.jld2\", \"pristine_8x_ds\", \"frenkel_8x_ds\", \"dilute_8x_ds\")"
   ]
  },
  {
   "cell_type": "code",
   "execution_count": null,
   "id": "65160cb7",
   "metadata": {},
   "outputs": [],
   "source": [
    "large_pristine_uq = [ustrip(compute(cmte_energy, config, my_cmte)) for config in pristine_8x_ds]\n",
    "est_large_pristine_uq = compute_basic_estimated_uqs(pristine_8x_ds,basic_coeffs)\n",
    "\n",
    "large_frenkel_uq = [ustrip(compute(cmte_energy, config, my_cmte)) for config in frenkel_8x_ds]\n",
    "est_large_frenkel_uq = compute_basic_estimated_uqs(frenkel_8x_ds,basic_coeffs)\n",
    "\n",
    "large_dilute_frenkel_uq = [ustrip(compute(cmte_energy, config, my_cmte)) for config in dilute_8x_ds]\n",
    "est_large_dilute_frenkel_uq = compute_basic_estimated_uqs(dilute_8x_ds,basic_coeffs)"
   ]
  },
  {
   "cell_type": "code",
   "execution_count": null,
   "id": "9d8a16f5",
   "metadata": {},
   "outputs": [],
   "source": [
    "large_pristine_pred = [ustrip(PotentialLearning.potential_energy(config,my_cmte)) for config in pristine_8x_ds]\n",
    "large_pristine_ref = [ustrip(get_values(get_energy(config))) for config in pristine_8x_ds]\n",
    "\n",
    "large_frenkel_pred = [ustrip(PotentialLearning.potential_energy(config,my_cmte)) for config in frenkel_8x_ds]\n",
    "large_frenkel_ref = [ustrip(get_values(get_energy(config))) for config in frenkel_8x_ds]\n",
    "\n",
    "large_dilute_pred = [ustrip(PotentialLearning.potential_energy(config,my_cmte)) for config in dilute_8x_ds]\n",
    "large_dilute_ref = [ustrip(get_values(get_energy(config))) for config in dilute_8x_ds]"
   ]
  },
  {
   "cell_type": "code",
   "execution_count": null,
   "id": "78f6c710",
   "metadata": {},
   "outputs": [],
   "source": [
    "total_large_uq = [large_pristine_uq; large_frenkel_uq; large_dilute_frenkel_uq]\n",
    "total_est_large_uq = [est_large_pristine_uq; est_large_frenkel_uq; est_large_dilute_frenkel_uq]\n",
    "\n",
    "total_large_pred = [large_pristine_pred; large_frenkel_pred; large_dilute_pred]\n",
    "total_large_ref = [large_pristine_ref; large_frenkel_ref; large_dilute_ref]"
   ]
  },
  {
   "cell_type": "code",
   "execution_count": null,
   "id": "b4f3d60b",
   "metadata": {},
   "outputs": [],
   "source": [
    "total_large_uq"
   ]
  },
  {
   "cell_type": "code",
   "execution_count": null,
   "id": "43b32db1",
   "metadata": {},
   "outputs": [],
   "source": [
    "total_est_large_uq"
   ]
  },
  {
   "cell_type": "code",
   "execution_count": null,
   "id": "3898e659",
   "metadata": {},
   "outputs": [],
   "source": [
    "etest_pred = large_pristine_pred\n",
    "etest_ref = large_pristine_ref\n",
    "test_uq = large_pristine_uq\n",
    "\n",
    "test_abs_residuals = abs.(etest_pred .- etest_ref)\n",
    "alpha_pred = generate_predicted_alphas(calib_scores,test_uq, test_abs_residuals)\n",
    "@show compute_miscalibration_area(alpha_refs, alpha_pred)\n",
    "make_custom_calibration_plot1(alpha_refs,alpha_pred; text_size=24, label_size=28)"
   ]
  },
  {
   "cell_type": "code",
   "execution_count": null,
   "id": "736b2760",
   "metadata": {},
   "outputs": [],
   "source": [
    "etest_pred = [ustrip(PotentialLearning.potential_energy(config,my_cmte)) for config in combined_test_ds]\n",
    "etest_ref = [ustrip(get_values(get_energy(config))) for config in combined_test_ds]"
   ]
  },
  {
   "cell_type": "code",
   "execution_count": null,
   "id": "dec15588",
   "metadata": {},
   "outputs": [],
   "source": [
    "mean(abs.(etest_pred .- etest_ref))"
   ]
  },
  {
   "cell_type": "code",
   "execution_count": null,
   "id": "90c14a75",
   "metadata": {},
   "outputs": [],
   "source": [
    "mean(abs.(ecalib_pred .- ecalib_ref))"
   ]
  }
 ],
 "metadata": {
  "language_info": {
   "name": "julia"
  }
 },
 "nbformat": 4,
 "nbformat_minor": 5
}
