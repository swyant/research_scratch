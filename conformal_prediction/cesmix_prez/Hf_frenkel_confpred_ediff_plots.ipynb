{
 "cells": [
  {
   "cell_type": "code",
   "execution_count": null,
   "metadata": {},
   "outputs": [],
   "source": [
    "using Revise\n",
    "using Pkg; Pkg.activate(\".\")"
   ]
  },
  {
   "cell_type": "code",
   "execution_count": null,
   "metadata": {},
   "outputs": [],
   "source": [
    "using Unitful\n",
    "using PotentialLearning\n",
    "using Random: randperm\n",
    "using JLD2\n",
    "using InteratomicPotentials\n",
    "using AtomsBase, AtomsCalculators\n",
    "using Statistics\n",
    "using CairoMakie, ColorSchemes"
   ]
  },
  {
   "cell_type": "code",
   "execution_count": null,
   "metadata": {},
   "outputs": [],
   "source": [
    "ensemble_members = load(\"ace_cmte1.jld2\", \"members\")"
   ]
  },
  {
   "cell_type": "code",
   "execution_count": null,
   "metadata": {},
   "outputs": [],
   "source": [
    "includet(\"../files/committee_potentials.jl\")\n",
    "includet(\"../files/committee_qois.jl\")"
   ]
  },
  {
   "cell_type": "code",
   "execution_count": null,
   "metadata": {},
   "outputs": [],
   "source": [
    "my_cmte = CommitteePotential(ensemble_members; energy_units=u\"eV\", length_units=u\"Å\")\n",
    "cmte_energy = CmteEnergy(Statistics.var, strip_units=true)\n",
    "# !!!!! important, I changed this to be variance, not std"
   ]
  },
  {
   "cell_type": "code",
   "execution_count": null,
   "metadata": {},
   "outputs": [],
   "source": [
    "datasets = load(\"datasets_with_descriptors.jld2\")\n",
    "pristine_base_calib_ds = datasets[\"pristine_base_calib_ds\"]\n",
    "pristine_base_test_ds = datasets[\"pristine_base_test_ds\"]\n",
    "frenkel_base_calib_ds = datasets[\"frenkel_base_calib_ds\"]\n",
    "frenkel_base_test_ds = datasets[\"frenkel_base_test_ds\"]\n",
    "\n"
   ]
  },
  {
   "cell_type": "markdown",
   "metadata": {},
   "source": [
    "Just doing a single qhat for a single energy"
   ]
  },
  {
   "cell_type": "code",
   "execution_count": null,
   "metadata": {},
   "outputs": [],
   "source": [
    "includet(\"../files/conformal_prediction_utils.jl\")"
   ]
  },
  {
   "cell_type": "code",
   "execution_count": null,
   "metadata": {},
   "outputs": [],
   "source": [
    "# from subsampling_dpp.jl in PL.jl examples\n",
    "function concat_dataset(confs::Vector{DataSet})\n",
    "    N = length(confs)\n",
    "    confs_vec = [[confs[i][j] for j = 1:length(confs[i])] for i = 1:N]\n",
    "    confs_all = reduce(vcat, confs_vec)\n",
    "    return DataSet(confs_all)\n",
    "end"
   ]
  },
  {
   "cell_type": "code",
   "execution_count": null,
   "metadata": {},
   "outputs": [],
   "source": [
    "orig_combined_calib_ds = concat_dataset([pristine_base_calib_ds; frenkel_base_calib_ds])\n",
    "orig_combined_test_ds = concat_dataset([pristine_base_test_ds; frenkel_base_test_ds])"
   ]
  },
  {
   "cell_type": "code",
   "execution_count": null,
   "metadata": {},
   "outputs": [],
   "source": [
    "rand_idxs = randperm(1500)\n",
    "combined_calib_ds = orig_combined_calib_ds[rand_idxs]\n",
    "combined_test_ds = orig_combined_test_ds[rand_idxs]"
   ]
  },
  {
   "cell_type": "code",
   "execution_count": null,
   "metadata": {},
   "outputs": [],
   "source": [
    "cmte_cov_energy = CmteEnergyCov(true)"
   ]
  },
  {
   "cell_type": "code",
   "execution_count": null,
   "metadata": {},
   "outputs": [],
   "source": [
    "# Already random, so just take every two\n",
    "ediff_combined_calib_ref = Float64[]\n",
    "ediff_combined_calib_pred = Float64[]\n",
    "sys1_combined_calib_uqs = Float64[]\n",
    "sys2_combined_calib_uqs = Float64[]\n",
    "ediff_combined_calib_cov_uq = Float64[]\n",
    "\n",
    "sys1_combined_calib_epreds = Float64[]\n",
    "sys2_combined_calib_epreds = Float64[]\n",
    "for i in 1:2:length(combined_calib_ds)\n",
    "    sys1 = combined_calib_ds[i]\n",
    "    sys2 = combined_calib_ds[i+1]\n",
    "    e1_ref = ustrip(get_values(get_energy(sys1)))\n",
    "    e2_ref = ustrip(get_values(get_energy(sys2)))\n",
    "\n",
    "    push!(ediff_combined_calib_ref, e2_ref - e1_ref)\n",
    "\n",
    "    e1_pred = ustrip(PotentialLearning.potential_energy(sys1, my_cmte))\n",
    "    push!(sys1_combined_calib_epreds,e1_pred)\n",
    "    e2_pred = ustrip(PotentialLearning.potential_energy(sys2, my_cmte))\n",
    "    sys2_epreds = push!(sys2_combined_calib_epreds,e2_pred)\n",
    "\n",
    "    push!(ediff_combined_calib_pred, e2_pred - e1_pred)\n",
    "\n",
    "    sys1_uq = ustrip(compute(cmte_energy,sys1,my_cmte))\n",
    "    push!(sys1_combined_calib_uqs,sys1_uq)\n",
    "    sys2_uq = ustrip(compute(cmte_energy,sys2,my_cmte))\n",
    "    push!(sys2_combined_calib_uqs,sys2_uq)\n",
    "\n",
    "    cov_uq = ustrip(compute(cmte_cov_energy,sys1,sys2,my_cmte; flip_second_sign=true))\n",
    "    push!(ediff_combined_calib_cov_uq, cov_uq)\n",
    "\n",
    "end"
   ]
  },
  {
   "cell_type": "code",
   "execution_count": null,
   "metadata": {},
   "outputs": [],
   "source": [
    "# Already random, so just take every two\n",
    "ediff_combined_test_ref = Float64[]\n",
    "ediff_combined_test_pred = Float64[]\n",
    "sys1_combined_test_uqs = Float64[]\n",
    "sys2_combined_test_uqs = Float64[]\n",
    "ediff_combined_test_cov_uq = Float64[]\n",
    "\n",
    "sys1_combined_test_epreds = Float64[]\n",
    "sys2_combined_test_epreds = Float64[]\n",
    "for i in 1:2:length(combined_test_ds)\n",
    "    sys1 = combined_test_ds[i]\n",
    "    sys2 = combined_test_ds[i+1]\n",
    "    e1_ref = ustrip(get_values(get_energy(sys1)))\n",
    "    e2_ref = ustrip(get_values(get_energy(sys2)))\n",
    "\n",
    "    push!(ediff_combined_test_ref, e2_ref - e1_ref)\n",
    "\n",
    "    e1_pred = ustrip(PotentialLearning.potential_energy(sys1, my_cmte))\n",
    "    push!(sys1_combined_test_epreds,e1_pred)\n",
    "    e2_pred = ustrip(PotentialLearning.potential_energy(sys2, my_cmte))\n",
    "    sys2_epreds = push!(sys2_combined_test_epreds,e2_pred)\n",
    "\n",
    "    push!(ediff_combined_test_pred, e2_pred - e1_pred)\n",
    "\n",
    "    sys1_uq = ustrip(compute(cmte_energy,sys1,my_cmte))\n",
    "    push!(sys1_combined_test_uqs,sys1_uq)\n",
    "    sys2_uq = ustrip(compute(cmte_energy,sys2,my_cmte))\n",
    "    push!(sys2_combined_test_uqs,sys2_uq)\n",
    "\n",
    "    cov_uq = ustrip(compute(cmte_cov_energy,sys1,sys2,my_cmte; flip_second_sign=true))\n",
    "    push!(ediff_combined_test_cov_uq, cov_uq)\n",
    "end"
   ]
  },
  {
   "cell_type": "code",
   "execution_count": null,
   "metadata": {},
   "outputs": [],
   "source": [
    "# Var(X1) + Var(-X2) + 2*Cov(X1,-X2), note Var(-X2) = Var(X2)\n",
    "test_ediff_uq = sqrt.(sys1_combined_test_uqs .+ sys2_combined_test_uqs .+ 2*ediff_combined_test_cov_uq)\n",
    "calib_ediff_uq = sqrt.(sys1_combined_calib_uqs .+ sys2_combined_calib_uqs .+ 2*ediff_combined_calib_cov_uq)"
   ]
  },
  {
   "cell_type": "code",
   "execution_count": null,
   "metadata": {},
   "outputs": [],
   "source": [
    "ediff_combined_calib_scores = abs.(ediff_combined_calib_pred .- ediff_combined_calib_ref) ./ calib_ediff_uq\n",
    "test_abs_residuals_combined = abs.(ediff_combined_test_pred .- ediff_combined_test_ref)\n",
    "alpha_complements = collect(range(0.01,0.99,step=0.01))\n",
    "alpha_refs = 1 .- alpha_complements\n",
    "\n",
    "alpha_pred = generate_predicted_alphas(ediff_combined_calib_scores,test_ediff_uq, test_abs_residuals_combined)"
   ]
  },
  {
   "cell_type": "code",
   "execution_count": null,
   "metadata": {},
   "outputs": [],
   "source": [
    "using ColorSchemes\n",
    "\n",
    "function make_custom_calibration_plot1(expected_ps, observed_ps;\n",
    "                                      width=600,\n",
    "                                      colormap=:viridis,\n",
    "                                      color_value=0.6,  # Value between 0-1 in the colormap\n",
    "                                      main_line_width=3.0,\n",
    "                                      band_alpha=0.2,\n",
    "                                      axis_color=:black,\n",
    "                                      text_size=18,\n",
    "                                      label_size=22,\n",
    "                                      grid_visible=true,\n",
    "                                      grid_color=(:gray, 0.3),\n",
    "                                      grid_width=0.5)\n",
    "    # Convert to percentages\n",
    "    #expected_ps = expected_ps .* 100\n",
    "    #observed_ps = observed_ps .* 100\n",
    "\n",
    "    expected_ps = (1.0 .- expected_ps).* 100\n",
    "    observed_ps = (1.0 .- observed_ps).* 100\n",
    "\n",
    "    # Get color from colormap\n",
    "    colormap = :managua\n",
    "    #axis_color = get(ColorSchemes.colorschemes[colormap], 0.4)\n",
    "    #grid_color = (axis_color, 0.3)\n",
    "    base_band_color = get(ColorSchemes.colorschemes[colormap], 0.5)\n",
    "    band_color = (base_band_color, band_alpha)\n",
    "\n",
    "    line_color = get(ColorSchemes.colorschemes[colormap], 0.5)\n",
    "\n",
    "    # Get color from colormap\n",
    "    #color = get(ColorSchemes.colorschemes[colormap], color_value)\n",
    "    #band_color = (color, band_alpha)\n",
    "    #line_color=:black\n",
    "\n",
    "    fig = Figure(resolution=(width, width), fontsize=text_size, figure_padding=30)\n",
    "    ax = Axis(fig[1, 1],\n",
    "        aspect=DataAspect(),\n",
    "        xlabel=\"Expected Confidence Level\",\n",
    "        ylabel=\"Observed Confidence Level\",\n",
    "        limits=(0, 100, 0, 100),\n",
    "        xlabelsize=label_size,\n",
    "        ylabelsize=label_size,\n",
    "        xticklabelsize=text_size,\n",
    "        yticklabelsize=text_size,\n",
    "        spinewidth=1.5,\n",
    "        xgridvisible=grid_visible,\n",
    "        ygridvisible=grid_visible,\n",
    "        xgridcolor=grid_color,\n",
    "        ygridcolor=grid_color,\n",
    "        xgridwidth=grid_width,\n",
    "        ygridwidth=grid_width\n",
    "    )\n",
    "\n",
    "    #Set spine and tick colors\n",
    "    ax.bottomspinecolor = axis_color\n",
    "    ax.leftspinecolor = axis_color\n",
    "    ax.rightspinecolor = axis_color\n",
    "    ax.topspinecolor = axis_color\n",
    "\n",
    "    ax.xticklabelcolor = axis_color\n",
    "    ax.yticklabelcolor = axis_color\n",
    "    ax.xlabelcolor = axis_color\n",
    "    ax.ylabelcolor = axis_color\n",
    "\n",
    "    # Main line - made bolder\n",
    "    lines!(ax, expected_ps, observed_ps, color=line_color, linewidth=main_line_width)\n",
    "\n",
    "    # Diagonal reference line\n",
    "    lines!(ax, expected_ps, expected_ps, linestyle=:dash, color=line_color, alpha=0.6, linewidth=1.5)\n",
    "\n",
    "    # Filled area between curves\n",
    "    band!(ax, expected_ps, expected_ps, observed_ps, color=band_color)\n",
    "    #band!(ax, expected_ps, expected_ps, observed_ps, color=(:blue, 0.2))\n",
    "\n",
    "    # Configure ticks\n",
    "    ax.xticks = 0:20:100\n",
    "    ax.yticks = 0:20:100\n",
    "\n",
    "    # Add percentage signs to ticks\n",
    "    ax.xtickformat = xs -> [\"$(Int(x))%\" for x in xs]\n",
    "    ax.ytickformat = xs -> [\"$(Int(x))%\" for x in xs]\n",
    "\n",
    "    return fig\n",
    "end"
   ]
  },
  {
   "cell_type": "code",
   "execution_count": null,
   "metadata": {},
   "outputs": [],
   "source": [
    "ediff_fig = make_custom_calibration_plot1(alpha_refs,alpha_pred; text_size=24, label_size=28)\n",
    "save(\"basic_ediff_calibration.svg\", ediff_fig)"
   ]
  },
  {
   "cell_type": "code",
   "execution_count": null,
   "metadata": {},
   "outputs": [],
   "source": [
    "compute_miscalibration_area(alpha_refs,alpha_pred)"
   ]
  },
  {
   "cell_type": "code",
   "execution_count": null,
   "metadata": {},
   "outputs": [],
   "source": [
    "new_rand_idxs = randperm(length(pristine_base_test_ds))\n",
    "pristine_test_ds = pristine_base_test_ds[new_rand_idxs]\n",
    "frenkel_test_ds = frenkel_base_test_ds[new_rand_idxs]"
   ]
  },
  {
   "cell_type": "code",
   "execution_count": null,
   "metadata": {},
   "outputs": [],
   "source": [
    "# pristine-pristine\n",
    "pp_ediff_combined_test_ref = Float64[]\n",
    "pp_ediff_combined_test_pred = Float64[]\n",
    "pp_sys1_combined_test_uqs = Float64[]\n",
    "pp_sys2_combined_test_uqs = Float64[]\n",
    "pp_ediff_combined_test_cov_uq = Float64[]\n",
    "\n",
    "pp_sys1_combined_test_epreds = Float64[]\n",
    "pp_sys2_combined_test_epreds = Float64[]\n",
    "for i in 1:2:length(pristine_test_ds)\n",
    "    sys1 = pristine_test_ds[i]\n",
    "    sys2 = pristine_test_ds[i+1]\n",
    "    e1_ref = ustrip(get_values(get_energy(sys1)))\n",
    "    e2_ref = ustrip(get_values(get_energy(sys2)))\n",
    "\n",
    "    push!(pp_ediff_combined_test_ref, e2_ref - e1_ref)\n",
    "\n",
    "    e1_pred = ustrip(PotentialLearning.potential_energy(sys1, my_cmte))\n",
    "    push!(pp_sys1_combined_test_epreds,e1_pred)\n",
    "    e2_pred = ustrip(PotentialLearning.potential_energy(sys2, my_cmte))\n",
    "    sys2_epreds = push!(pp_sys2_combined_test_epreds,e2_pred)\n",
    "\n",
    "    push!(pp_ediff_combined_test_pred, e2_pred - e1_pred)\n",
    "\n",
    "    sys1_uq = ustrip(compute(cmte_energy,sys1,my_cmte))\n",
    "    push!(pp_sys1_combined_test_uqs,sys1_uq)\n",
    "    sys2_uq = ustrip(compute(cmte_energy,sys2,my_cmte))\n",
    "    push!(pp_sys2_combined_test_uqs,sys2_uq)\n",
    "\n",
    "    cov_uq = ustrip(compute(cmte_cov_energy,sys1,sys2,my_cmte; flip_second_sign=true))\n",
    "    push!(pp_ediff_combined_test_cov_uq, cov_uq)\n",
    "end"
   ]
  },
  {
   "cell_type": "code",
   "execution_count": null,
   "metadata": {},
   "outputs": [],
   "source": [
    "pp_test_ediff_uq = sqrt.(pp_sys1_combined_test_uqs .+ pp_sys2_combined_test_uqs .+ 2*pp_ediff_combined_test_cov_uq)"
   ]
  },
  {
   "cell_type": "code",
   "execution_count": null,
   "metadata": {},
   "outputs": [],
   "source": [
    "ediff_combined_calib_scores = abs.(ediff_combined_calib_pred .- ediff_combined_calib_ref) ./ calib_ediff_uq\n",
    "pp_test_abs_residuals_combined = abs.(pp_ediff_combined_test_pred .- pp_ediff_combined_test_ref)\n",
    "alpha_complements = collect(range(0.01,0.99,step=0.01))\n",
    "alpha_refs = 1 .- alpha_complements\n",
    "\n",
    "pp_alpha_pred = generate_predicted_alphas(ediff_combined_calib_scores,pp_test_ediff_uq, pp_test_abs_residuals_combined)"
   ]
  },
  {
   "cell_type": "code",
   "execution_count": null,
   "metadata": {},
   "outputs": [],
   "source": [
    "using ColorSchemes\n",
    "\n",
    "function make_custom_calibration_plot2(expected_ps, observed_ps;\n",
    "                                      width=600,\n",
    "                                      colormap=:viridis,\n",
    "                                      color_value=0.6,  # Value between 0-1 in the colormap\n",
    "                                      main_line_width=3.0,\n",
    "                                      band_alpha=0.2,\n",
    "                                      axis_color=:black,\n",
    "                                      text_size=18,\n",
    "                                      label_size=22,\n",
    "                                      grid_visible=true,\n",
    "                                      grid_color=(:gray, 0.3),\n",
    "                                      grid_width=0.5)\n",
    "    # Convert to percentages\n",
    "    #expected_ps = expected_ps .* 100\n",
    "    #observed_ps = observed_ps .* 100\n",
    "\n",
    "    expected_ps = (1.0 .- expected_ps).* 100\n",
    "    observed_ps = (1.0 .- observed_ps).* 100\n",
    "\n",
    "    # Get color from colormap\n",
    "    colormap = :managua\n",
    "    #axis_color = get(ColorSchemes.colorschemes[colormap], 0.4)\n",
    "    #grid_color = (axis_color, 0.3)\n",
    "    base_band_color = get(ColorSchemes.colorschemes[colormap], 0.35)\n",
    "    band_color = (base_band_color, band_alpha)\n",
    "\n",
    "    line_color = get(ColorSchemes.colorschemes[colormap], 0.35)\n",
    "\n",
    "    # Get color from colormap\n",
    "    #color = get(ColorSchemes.colorschemes[colormap], color_value)\n",
    "    #band_color = (color, band_alpha)\n",
    "    #line_color=:black\n",
    "\n",
    "    fig = Figure(resolution=(width, width), fontsize=text_size, figure_padding=40)\n",
    "    ax = Axis(fig[1, 1],\n",
    "        aspect=DataAspect(),\n",
    "        #xlabel=\"Expected Confidence Level\",\n",
    "        #ylabel=\"Observed Confidence Level\",\n",
    "        limits=(0, 100, 0, 100),\n",
    "        xlabelsize=label_size,\n",
    "        ylabelsize=label_size,\n",
    "        xticklabelsize=text_size,\n",
    "        yticklabelsize=text_size,\n",
    "        spinewidth=1.5,\n",
    "        xgridvisible=grid_visible,\n",
    "        ygridvisible=grid_visible,\n",
    "        xgridcolor=grid_color,\n",
    "        ygridcolor=grid_color,\n",
    "        xgridwidth=grid_width,\n",
    "        ygridwidth=grid_width\n",
    "    )\n",
    "\n",
    "    #Set spine and tick colors\n",
    "    ax.bottomspinecolor = axis_color\n",
    "    ax.leftspinecolor = axis_color\n",
    "    ax.rightspinecolor = axis_color\n",
    "    ax.topspinecolor = axis_color\n",
    "\n",
    "    ax.xticklabelcolor = axis_color\n",
    "    ax.yticklabelcolor = axis_color\n",
    "    ax.xlabelcolor = axis_color\n",
    "    ax.ylabelcolor = axis_color\n",
    "\n",
    "    # Main line - made bolder\n",
    "    lines!(ax, expected_ps, observed_ps, color=line_color, linewidth=main_line_width)\n",
    "\n",
    "    # Diagonal reference line\n",
    "    lines!(ax, expected_ps, expected_ps, linestyle=:dash, color=line_color, alpha=0.6, linewidth=1.5)\n",
    "\n",
    "    # Filled area between curves\n",
    "    band!(ax, expected_ps, expected_ps, observed_ps, color=band_color)\n",
    "    #band!(ax, expected_ps, expected_ps, observed_ps, color=(:blue, 0.2))\n",
    "\n",
    "    # Configure ticks\n",
    "    ax.xticks = 0:20:100\n",
    "    ax.yticks = 0:20:100\n",
    "\n",
    "    # Add percentage signs to ticks\n",
    "    ax.xtickformat = xs -> [\"$(Int(x))%\" for x in xs]\n",
    "    ax.ytickformat = xs -> [\"$(Int(x))%\" for x in xs]\n",
    "\n",
    "    return fig\n",
    "end"
   ]
  },
  {
   "cell_type": "code",
   "execution_count": null,
   "metadata": {},
   "outputs": [],
   "source": [
    "pp_ediff_fig = make_custom_calibration_plot2(alpha_refs,pp_alpha_pred; text_size=28, label_size=28)\n",
    "save(\"pp_calibration.svg\", pp_ediff_fig)"
   ]
  },
  {
   "cell_type": "code",
   "execution_count": null,
   "metadata": {},
   "outputs": [],
   "source": [
    "compute_miscalibration_area(alpha_refs,pp_alpha_pred)"
   ]
  },
  {
   "cell_type": "code",
   "execution_count": null,
   "metadata": {},
   "outputs": [],
   "source": [
    "# frenkel-frenkel\n",
    "ff_ediff_combined_test_ref = Float64[]\n",
    "ff_ediff_combined_test_pred = Float64[]\n",
    "ff_sys1_combined_test_uqs = Float64[]\n",
    "ff_sys2_combined_test_uqs = Float64[]\n",
    "ff_ediff_combined_test_cov_uq = Float64[]\n",
    "\n",
    "ff_sys1_combined_test_epreds = Float64[]\n",
    "ff_sys2_combined_test_epreds = Float64[]\n",
    "for i in 1:2:length(frenkel_test_ds)\n",
    "    sys1 = frenkel_test_ds[i]\n",
    "    sys2 = frenkel_test_ds[i+1]\n",
    "    e1_ref = ustrip(get_values(get_energy(sys1)))\n",
    "    e2_ref = ustrip(get_values(get_energy(sys2)))\n",
    "\n",
    "    push!(ff_ediff_combined_test_ref, e2_ref - e1_ref)\n",
    "\n",
    "    e1_pred = ustrip(PotentialLearning.potential_energy(sys1, my_cmte))\n",
    "    push!(ff_sys1_combined_test_epreds,e1_pred)\n",
    "    e2_pred = ustrip(PotentialLearning.potential_energy(sys2, my_cmte))\n",
    "    sys2_epreds = push!(ff_sys2_combined_test_epreds,e2_pred)\n",
    "\n",
    "    push!(ff_ediff_combined_test_pred, e2_pred - e1_pred)\n",
    "\n",
    "    sys1_uq = ustrip(compute(cmte_energy,sys1,my_cmte))\n",
    "    push!(ff_sys1_combined_test_uqs,sys1_uq)\n",
    "    sys2_uq = ustrip(compute(cmte_energy,sys2,my_cmte))\n",
    "    push!(ff_sys2_combined_test_uqs,sys2_uq)\n",
    "\n",
    "    cov_uq = ustrip(compute(cmte_cov_energy,sys1,sys2,my_cmte; flip_second_sign=true))\n",
    "    push!(ff_ediff_combined_test_cov_uq, cov_uq)\n",
    "end"
   ]
  },
  {
   "cell_type": "code",
   "execution_count": null,
   "metadata": {},
   "outputs": [],
   "source": [
    "ff_test_ediff_uq = sqrt.(ff_sys1_combined_test_uqs .+ ff_sys2_combined_test_uqs .+ 2*ff_ediff_combined_test_cov_uq)"
   ]
  },
  {
   "cell_type": "code",
   "execution_count": null,
   "metadata": {},
   "outputs": [],
   "source": [
    "ediff_combined_calib_scores = abs.(ediff_combined_calib_pred .- ediff_combined_calib_ref) ./ calib_ediff_uq\n",
    "ff_test_abs_residuals_combined = abs.(ff_ediff_combined_test_pred .- ff_ediff_combined_test_ref)\n",
    "alpha_complements = collect(range(0.01,0.99,step=0.01))\n",
    "alpha_refs = 1 .- alpha_complements\n",
    "\n",
    "ff_alpha_pred = generate_predicted_alphas(ediff_combined_calib_scores,ff_test_ediff_uq, ff_test_abs_residuals_combined)"
   ]
  },
  {
   "cell_type": "code",
   "execution_count": null,
   "metadata": {},
   "outputs": [],
   "source": [
    "ff_ediff_fig = make_custom_calibration_plot2(alpha_refs,ff_alpha_pred; text_size=24, label_size=28)\n",
    "save(\"ff_calibration.svg\", ff_ediff_fig)"
   ]
  },
  {
   "cell_type": "code",
   "execution_count": null,
   "metadata": {},
   "outputs": [],
   "source": [
    "compute_miscalibration_area(alpha_refs,ff_alpha_pred)"
   ]
  },
  {
   "cell_type": "code",
   "execution_count": null,
   "metadata": {},
   "outputs": [],
   "source": [
    "# frenkel-pristine\n",
    "fp_ediff_combined_test_ref = Float64[]\n",
    "fp_ediff_combined_test_pred = Float64[]\n",
    "fp_sys1_combined_test_uqs = Float64[]\n",
    "fp_sys2_combined_test_uqs = Float64[]\n",
    "fp_ediff_combined_test_cov_uq = Float64[]\n",
    "\n",
    "fp_sys1_combined_test_epreds = Float64[]\n",
    "fp_sys2_combined_test_epreds = Float64[]\n",
    "for i in 1:2:length(pristine_test_ds)\n",
    "    sys1 = pristine_test_ds[i]\n",
    "    sys2 = frenkel_test_ds[i+1]\n",
    "    e1_ref = ustrip(get_values(get_energy(sys1)))\n",
    "    e2_ref = ustrip(get_values(get_energy(sys2)))\n",
    "\n",
    "    push!(fp_ediff_combined_test_ref, e2_ref - e1_ref)\n",
    "\n",
    "    e1_pred = ustrip(PotentialLearning.potential_energy(sys1, my_cmte))\n",
    "    push!(fp_sys1_combined_test_epreds,e1_pred)\n",
    "    e2_pred = ustrip(PotentialLearning.potential_energy(sys2, my_cmte))\n",
    "    sys2_epreds = push!(fp_sys2_combined_test_epreds,e2_pred)\n",
    "\n",
    "    push!(fp_ediff_combined_test_pred, e2_pred - e1_pred)\n",
    "\n",
    "    sys1_uq = ustrip(compute(cmte_energy,sys1,my_cmte))\n",
    "    push!(fp_sys1_combined_test_uqs,sys1_uq)\n",
    "    sys2_uq = ustrip(compute(cmte_energy,sys2,my_cmte))\n",
    "    push!(fp_sys2_combined_test_uqs,sys2_uq)\n",
    "\n",
    "    cov_uq = ustrip(compute(cmte_cov_energy,sys1,sys2,my_cmte; flip_second_sign=true))\n",
    "    push!(fp_ediff_combined_test_cov_uq, cov_uq)\n",
    "end"
   ]
  },
  {
   "cell_type": "code",
   "execution_count": null,
   "metadata": {},
   "outputs": [],
   "source": [
    "fp_test_ediff_uq = sqrt.(fp_sys1_combined_test_uqs .+ fp_sys2_combined_test_uqs .+ 2*fp_ediff_combined_test_cov_uq)"
   ]
  },
  {
   "cell_type": "code",
   "execution_count": null,
   "metadata": {},
   "outputs": [],
   "source": [
    "ediff_combined_calib_scores = abs.(ediff_combined_calib_pred .- ediff_combined_calib_ref) ./ calib_ediff_uq\n",
    "fp_test_abs_residuals_combined = abs.(fp_ediff_combined_test_pred .- fp_ediff_combined_test_ref)\n",
    "alpha_complements = collect(range(0.01,0.99,step=0.01))\n",
    "alpha_refs = 1 .- alpha_complements\n",
    "\n",
    "fp_alpha_pred = generate_predicted_alphas(ediff_combined_calib_scores,fp_test_ediff_uq, fp_test_abs_residuals_combined)"
   ]
  },
  {
   "cell_type": "code",
   "execution_count": null,
   "metadata": {},
   "outputs": [],
   "source": [
    "fp_ediff_fig = make_custom_calibration_plot2(alpha_refs,fp_alpha_pred; text_size=24, label_size=28)\n",
    "save(\"fp_calibration.svg\", fp_ediff_fig)"
   ]
  },
  {
   "cell_type": "code",
   "execution_count": null,
   "metadata": {},
   "outputs": [],
   "source": [
    "compute_miscalibration_area(alpha_refs,fp_alpha_pred)"
   ]
  },
  {
   "cell_type": "code",
   "execution_count": null,
   "metadata": {},
   "outputs": [],
   "source": []
  }
 ],
 "metadata": {
  "language_info": {
   "name": "julia"
  }
 },
 "nbformat": 4,
 "nbformat_minor": 2
}
