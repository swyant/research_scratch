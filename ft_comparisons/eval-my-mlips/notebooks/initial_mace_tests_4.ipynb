{
 "cells": [
  {
   "cell_type": "code",
   "execution_count": null,
   "id": "85ef73cc",
   "metadata": {},
   "outputs": [],
   "source": [
    "import torch\n",
    "torch.set_default_dtype(torch.float32)\n",
    "small_f32_model = torch.load(f=\"../models/small_float32.model\", map_location=\"mps\", weights_only=False)\n",
    "import eval_my_mlips.utils as emu\n",
    "from mace.calculators import MACECalculator\n",
    "data_dir = \"/Users/swyant/cesmix/datasets/HfO2_cesmix/april_2025_data_mv/processed_and_split/\"\n",
    "reference_configs = emu.load_configurations(data_dir)\n",
    "sample_atoms = reference_configs[\"HfOx_test_0K\"][1]\n",
    "calc_f32 = MACECalculator(models=[small_f32_model,],device=\"mps\", default_dtype=\"float32\")\n",
    "sample_atoms.calc = calc_f32"
   ]
  },
  {
   "cell_type": "markdown",
   "id": "0f61ecdb",
   "metadata": {},
   "source": [
    "This only works with my bugfix if I go back to the 0.3.14"
   ]
  },
  {
   "cell_type": "code",
   "execution_count": null,
   "id": "048cd82a",
   "metadata": {},
   "outputs": [],
   "source": [
    "sample_atoms.get_potential_energy()"
   ]
  },
  {
   "cell_type": "code",
   "execution_count": null,
   "id": "62836d7b",
   "metadata": {},
   "outputs": [],
   "source": [
    "predicted_configs = emu.compute_predictions(reference_configs, calc_f32)"
   ]
  },
  {
   "cell_type": "markdown",
   "id": "363db0f0",
   "metadata": {},
   "source": [
    "Yea I guess mps on my M1 really isn't that fast. 4min 50 and I only get to \n",
    "Computing predictions for 6218 configurations...\n",
    "\n",
    "Processing Hf_trainval_0K: 228 configurations\n",
    "  Processed 100/228 configs\n",
    "  Processed 200/228 configs\n",
    "  Processed 228/228 configs\n",
    "  Successfully processed 228/228 configs\n",
    "\n",
    "Processing Hf_trainval_no0K: 1874 configurations\n",
    "  Processed 100/1874 configs\n",
    "  Processed 200/1874 configs\n",
    "  Processed 300/1874 configs\n",
    "  Processed 400/1874 configs"
   ]
  },
  {
   "cell_type": "markdown",
   "id": "6a3835a3",
   "metadata": {},
   "source": []
  }
 ],
 "metadata": {
  "language_info": {
   "name": "python"
  }
 },
 "nbformat": 4,
 "nbformat_minor": 5
}
