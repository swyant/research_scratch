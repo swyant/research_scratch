{
 "cells": [
  {
   "cell_type": "code",
   "execution_count": null,
   "metadata": {},
   "outputs": [],
   "source": [
    "import ase.io \n",
    "import glob \n",
    "from os.path import join\n",
    "import re\n",
    "import json\n",
    "from random import shuffle"
   ]
  },
  {
   "cell_type": "code",
   "execution_count": null,
   "metadata": {},
   "outputs": [],
   "source": [
    "#test_vasprun_file = \"./aln_gan_sic_vaspruns/equil/aln/533_orthog/vasprun.xml\"\n",
    "test_vasprun_file = \"./aln_gan_sic_vaspruns/aimd/interface_aln-gan_aln-lp/set1_nvt/300K/vasprun1443.xml\"\n",
    "metal_al_vasprun = \"./aln_gan_sic_vaspruns/sample_al_vasprun.xml\"\n"
   ]
  },
  {
   "cell_type": "code",
   "execution_count": null,
   "metadata": {},
   "outputs": [],
   "source": [
    "test_structure = ase.io.read(test_vasprun_file)\n",
    "al_structure = ase.io.read(metal_al_vasprun)"
   ]
  },
  {
   "cell_type": "code",
   "execution_count": null,
   "metadata": {},
   "outputs": [],
   "source": [
    "test_structure.get_total_energy()"
   ]
  },
  {
   "cell_type": "markdown",
   "metadata": {},
   "source": [
    "-2891.63088361\n",
    "compared with:\n",
    "```\n",
    "2976   <energy>\n",
    "2977    <i name=\"e_fr_energy\">  -2891.63088361 </i>\n",
    "2978    <i name=\"e_wo_entrp\">  -2891.63088361 </i>\n",
    "2979    <i name=\"e_0_energy\">     -0.00000000 </i>\n",
    "```"
   ]
  },
  {
   "cell_type": "code",
   "execution_count": null,
   "metadata": {},
   "outputs": [],
   "source": [
    "ase.io.write(\"test_vasprun_AlN-GaN_set1_300K_1443.xyz\", test_structure, format=\"extxyz\")"
   ]
  },
  {
   "cell_type": "code",
   "execution_count": null,
   "metadata": {},
   "outputs": [],
   "source": [
    "calc = test_structure.get_calculator()\n",
    "calc.get_property(\"free_energy\")\n",
    "test_structure.get_potential_energy()"
   ]
  },
  {
   "cell_type": "code",
   "execution_count": null,
   "metadata": {},
   "outputs": [],
   "source": [
    "print(al_structure.get_potential_energy())\n",
    "print(al_structure.get_potential_energy(force_consistent=True))\n",
    "print(al_structure.get_calculator().get_property(\"free_energy\"))\n",
    "print(al_structure.calc.results)"
   ]
  },
  {
   "cell_type": "markdown",
   "metadata": {},
   "source": [
    "Al (metallic) system does have different free energies vs energy --> 0\n",
    "-537.64340722\n",
    "-537.64368131\n",
    "-537.64368131\n",
    "{'energy': -537.64340722, 'forces': array([[-0.,  0., -0.],\n",
    "...\n",
    "       [ 0., -0., -0.]]), 'stress': array([-0.02452045, -0.03148586,  0.00181242, -0.        , -0.00148918,\n",
    "       -0.        ]), 'free_energy': -537.64368131}"
   ]
  },
  {
   "cell_type": "code",
   "execution_count": null,
   "metadata": {},
   "outputs": [],
   "source": [
    "al_structure.calc.results[\"energy\"] = 1.0\n",
    "print(al_structure.get_potential_energy())\n",
    "print(al_structure.get_potential_energy(force_consistent=True))\n"
   ]
  },
  {
   "cell_type": "code",
   "execution_count": null,
   "metadata": {},
   "outputs": [],
   "source": [
    "def compute_binding_energy(raw_atoms, atomic_energy_dict):\n",
    "    elems = raw_atoms.get_chemical_symbols()\n",
    "\n",
    "    #For MLIP fitting, only care about free energies (consistent w/ forces)\n",
    "    #See: https://libatoms.github.io/GAP/gap_fit.html\n",
    "\n",
    "    pot_eng = raw_atoms.get_potential_energy(force_consistent=True)\n",
    "    assert pot_eng == raw_atoms.get_calculator().get_property(\"free_energy\") # for my own sanity\n",
    "\n",
    "    atomic_e_contrib = 0.0\n",
    "    for elem in elems:\n",
    "        atomic_e_contrib += atomic_energy_dict[elem]\n",
    "    \n",
    "    cohesive_eng = pot_eng - atomic_e_contrib\n",
    "\n",
    "    return cohesive_eng\n"
   ]
  },
  {
   "cell_type": "code",
   "execution_count": null,
   "metadata": {},
   "outputs": [],
   "source": [
    "atomic_energy_dict = {\"Al\": -0.01050279,\n",
    "                      \"Ga\": -0.01074943, \n",
    "                      \"N\" : -0.01594183,\n",
    "                      \"Si\": -0.01624861, \n",
    "                      \"C\" : -0.01677834,}"
   ]
  },
  {
   "cell_type": "code",
   "execution_count": null,
   "metadata": {},
   "outputs": [],
   "source": [
    "test_structure.calc.results[\"energy\"] = compute_binding_energy(test_structure, atomic_energy_dict)"
   ]
  },
  {
   "cell_type": "code",
   "execution_count": null,
   "metadata": {},
   "outputs": [],
   "source": [
    "ase.io.write(\"test2_vasprun_AlN-GaN_set1_300K_1443.xyz\", test_structure, format=\"extxyz\")"
   ]
  },
  {
   "cell_type": "code",
   "execution_count": null,
   "metadata": {},
   "outputs": [],
   "source": [
    "test_folder = \"./aln_gan_sic_vaspruns/aimd/interface_aln-gan_aln-lp/set1_nvt/300K/\"\n",
    "vasprun_fnames = join(test_folder, \"vasprun*.xml\")\n",
    "vasprun_files = sorted(glob.glob(vasprun_fnames), key=lambda x: int(re.match(r\".*vasprun(\\d+)\\.xml$\",x).group(1)))"
   ]
  },
  {
   "cell_type": "code",
   "execution_count": null,
   "metadata": {},
   "outputs": [],
   "source": [
    "configs = []\n",
    "for vasp_xml_fname in vasprun_files:\n",
    "    cfg = ase.io.read(vasp_xml_fname)\n",
    "    cfg.calc.results[\"energy\"] = compute_binding_energy(cfg,atomic_energy_dict)\n",
    "    configs.append(cfg)"
   ]
  },
  {
   "cell_type": "code",
   "execution_count": null,
   "metadata": {},
   "outputs": [],
   "source": [
    "ase.io.write(\"multiple_files_test.xyz\", configs, format=\"extxyz\")"
   ]
  },
  {
   "cell_type": "code",
   "execution_count": null,
   "metadata": {},
   "outputs": [],
   "source": [
    "# from scripts I used to convert vaspruns to raw arrays/numpy arrays\n",
    "def get_xml_files(xmldir, file_nums):\n",
    "    filelist = []\n",
    "    if file_nums  == '*':\n",
    "        filelist = glob.glob(join(xmldir, 'vasprun*.xml'))\n",
    "\n",
    "    elif isinstance(file_nums,list):\n",
    "        for num_range in file_nums:\n",
    "            single_num = re.match(r'^(\\d+)$', num_range)\n",
    "            number_range = re.match(r'^(\\d+)\\.\\.(\\d+)$', num_range)\n",
    "\n",
    "            if single_num:\n",
    "               filelist.append(join(xmldir,'vasprun{:d}.xml'.format(int(single_num[1]))))\n",
    "            elif number_range and (int(number_range[1]) < int(number_range[2])):\n",
    "               just_vaspruns = glob.glob(join(xmldir, 'vasprun*.xml'))\n",
    "               filelist = filelist + [f  for f in just_vaspruns \\\n",
    "                                      if ( int(number_range[1]) <= int(re.findall(r'\\d+', f)[-1]) <= int(number_range[2]) ) ]\n",
    "            else:\n",
    "                print(\"ERROR: incorrectly specifiec number range for xml files for \" + xmldir)\n",
    "    else:\n",
    "       print(\"ERROR: incorrectly specifiec file_nums dict value for \" + xmldir)\n",
    "\n",
    "    filelist = sorted(filelist, key=lambda s: list(map(int, re.findall(r'\\d+', s))))\n",
    "    return filelist"
   ]
  },
  {
   "cell_type": "code",
   "execution_count": null,
   "metadata": {},
   "outputs": [],
   "source": [
    "settype_dict = {\"trainval\": \"simple_sic-gan-aln_trainval_data.json\", \n",
    "                \"test\"    : \"simple_sic-gan-aln_test_data.json\"}\n",
    "xyz_repo_dir = \"./xyz_files\"\n",
    "for (settype, json_fname) in settype_dict.items():\n",
    "    print(settype)\n",
    "    outdir = join(xyz_repo_dir, settype)\n",
    "\n",
    "    with open(json_fname, \"r\") as inputjsonfile:\n",
    "        set_spec = json.load(inputjsonfile)\n",
    "    for system in set_spec[\"systems\"]:\n",
    "        print(system[\"name\"])\n",
    "\n",
    "        sys_xml_files = []\n",
    "        for file_set in system[\"trainval\"]:\n",
    "            xml_files = get_xml_files(file_set[\"xml_dir\"],file_set[\"file_nums\"])\n",
    "            sys_xml_files += xml_files\n",
    "        print(sys_xml_files)\n",
    "            \n",
    "        shuffle(sys_xml_files)\n",
    "        \n",
    "        if settype == \"trainval\":\n",
    "            equil_vasprun = system[\"equil\"][0][\"xml_file\"]\n",
    "            sys_xml_files = [equil_vasprun] + sys_xml_files\n",
    "\n",
    "        sys_configs = []\n",
    "        for sys_xml_file in sys_xml_files:\n",
    "            cfg = ase.io.read(sys_xml_file)\n",
    "            cfg.calc.results[\"energy\"] = compute_binding_energy(cfg,atomic_energy_dict)\n",
    "            sys_configs.append(cfg)\n",
    "        \n",
    "        out_fname = f'{system[\"name\"]}_{settype}.xyz'\n",
    "        print(join(outdir,out_fname))\n",
    "        ase.io.write(join(outdir,out_fname), sys_configs, format=\"extxyz\")\n",
    "        "
   ]
  },
  {
   "cell_type": "code",
   "execution_count": null,
   "metadata": {},
   "outputs": [],
   "source": []
  }
 ],
 "metadata": {
  "language_info": {
   "name": "python"
  }
 },
 "nbformat": 4,
 "nbformat_minor": 2
}
