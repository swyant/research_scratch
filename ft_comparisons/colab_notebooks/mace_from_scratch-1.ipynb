{
 "cells": [
  {
   "cell_type": "code",
   "execution_count": null,
   "metadata": {},
   "outputs": [],
   "source": [
    "!pip install mace-torch[wandb]\n",
    "!pip install cuequivariance cuequivariance-torch cuequivariance-ops-torch-cu12"
   ]
  },
  {
   "cell_type": "code",
   "execution_count": null,
   "metadata": {},
   "outputs": [],
   "source": [
    "from google.colab import drive\n",
    "drive.mount('/content/drive')"
   ]
  },
  {
   "cell_type": "code",
   "execution_count": null,
   "metadata": {},
   "outputs": [],
   "source": [
    "import sys\n",
    "sys.path.append('/content/drive/My Drive/colab_temp/mace_fine-tuning_expts/scripts')"
   ]
  },
  {
   "cell_type": "code",
   "execution_count": null,
   "metadata": {},
   "outputs": [],
   "source": [
    "import wandb\n",
    "wandb.login()"
   ]
  },
  {
   "cell_type": "code",
   "execution_count": null,
   "metadata": {},
   "outputs": [],
   "source": [
    "%cd \"drive/MyDrive/colab_temp/mace_fine-tuning_expts\""
   ]
  },
  {
   "cell_type": "code",
   "execution_count": null,
   "metadata": {},
   "outputs": [],
   "source": [
    "import json\n",
    "import mace.tools.scripts_utils as scripts_utils\n",
    "import argparse\n",
    "import logging\n",
    "import json\n",
    "import numpy as np\n",
    "from mace import tools\n",
    "from mace.data import KeySpecification\n",
    "\n",
    "def patched_setup_wandb(args: argparse.Namespace):\n",
    "    logging.info(\"Using Weights and Biases for logging\")\n",
    "    import wandb\n",
    "\n",
    "    wandb_config = {}\n",
    "    args_dict = vars(args)\n",
    "\n",
    "    for key, value in args_dict.items():\n",
    "        if isinstance(value, np.ndarray):\n",
    "            args_dict[key] = value.tolist()\n",
    "\n",
    "    class CustomEncoder(json.JSONEncoder):\n",
    "        def default(self, o):\n",
    "            if isinstance(o, KeySpecification):\n",
    "                return o.__dict__\n",
    "            return super().default(o)\n",
    "\n",
    "    clean_dict = {}\n",
    "    for k,v in args_dict.items():\n",
    "        if k == 'compute_atomic_dipole':\n",
    "            print(\"found the bad one\")\n",
    "            continue\n",
    "        clean_dict[k] = v\n",
    "\n",
    "    args_dict_json = json.dumps(clean_dict, cls=CustomEncoder)\n",
    "    for key in args.wandb_log_hypers:\n",
    "        wandb_config[key] = args_dict[key]\n",
    "    tools.init_wandb(\n",
    "        project=args.wandb_project,\n",
    "        entity=args.wandb_entity,\n",
    "        name=args.wandb_name,\n",
    "        config=wandb_config,\n",
    "        directory=args.wandb_dir,\n",
    "    )\n",
    "    wandb.run.summary[\"params\"] = args_dict_json\n",
    "\n",
    "scripts_utils.setup_wandb = patched_setup_wandb"
   ]
  },
  {
   "cell_type": "code",
   "execution_count": null,
   "metadata": {},
   "outputs": [],
   "source": [
    "from ase.units import create_units\n",
    "units_2006 = create_units('2006')\n",
    "\n",
    "E0_Hf_Ry = -112.32894189\n",
    "E0_O_Ry = -32.66561248\n",
    "\n",
    "# Convert to eV using ASE units\n",
    "E0_Hf_eV = E0_Hf_Ry * units_2006['Ry']  # Rydberg to eV conversion\n",
    "E0_O_eV = E0_O_Ry * units_2006['Ry']\n",
    "\n",
    "new_E0s = {8:  E0_O_eV,\n",
    "           72: E0_Hf_eV}\n",
    "print(new_E0s)"
   ]
  },
  {
   "cell_type": "code",
   "execution_count": null,
   "metadata": {},
   "outputs": [],
   "source": [
    "%%writefile configs/from_scratch-3.yml\n",
    "\n",
    "model: 'MACE'\n",
    "hidden_irreps: '256x0e + 256x1o'\n",
    "correlation: 3\n",
    "max_ell: 3\n",
    "r_max: 6.0\n",
    "train_file: 'data/nothing_above_5/new_dpp_train.xyz'\n",
    "valid_file: 'data/nothing_above_5/new_dpp_validation.xyz'\n",
    "test_file: 'data/nothing_above_5/test.xyz'\n",
    "energy_key: \"REF_energy\"\n",
    "forces_key: \"REF_forces\"\n",
    "E0s: {8: -444.4382601985303, 72: -1528.3129784907499}\n",
    "name: \"HfOx_from-scratch\"\n",
    "model_dir: \"models/HfOx_from-scratch_3\"\n",
    "log_dir: \"models/HfOx_from-scratch_3\"\n",
    "results_dir: \"models/HfOx_from-scratch_3\"\n",
    "checkpoints_dir: \"models/HfOx_from-scratch_3\"\n",
    "device: cuda\n",
    "batch_size: 3\n",
    "max_num_epochs: 100\n",
    "lr: 0.005\n",
    "ema: True\n",
    "ema_decay: 0.99\n",
    "optimizer: adam\n",
    "weight_decay: 5e-7\n",
    "swa: True\n",
    "seed: 123\n",
    "stress_weight: 0.0\n",
    "forces_weight: 100.0\n",
    "energy_weight: 1.0\n",
    "#scheduler_patience: 20\n",
    "#lr_factor: 0.2\n",
    "huber_delta: 0.001\n",
    "wandb: True\n",
    "enable_cueq: True\n",
    "wandb_project: \"MACE_HfOx_from-scratch\"\n",
    "wandb_name: \"HfOx-3\"\n",
    "wandb_log_hypers: [\"lr\", \"lr_factor\", \"lr_scheduler_gamma\", \"scheduler\",\n",
    "                   \"swa\", \"swa_lr\", \"start_swa\", \"scheduler_patience\",\n",
    "                   \"swa_energy_weight\", \"swa_forces_weight\",\n",
    "                   \"energy_weight\", \"forces_weight\",\n",
    "                   \"ema\", \"ema_decay\", \"weight_decay\",\n",
    "                   \"huber_delta\", \"optimizer\", \"amsgrad\", \"beta\",\n",
    "                   \"batch_size\", \"max_num_epochs\", \"seed\"]\n",
    "\n"
   ]
  },
  {
   "cell_type": "code",
   "execution_count": null,
   "metadata": {},
   "outputs": [],
   "source": [
    "import warnings\n",
    "warnings.filterwarnings(\"ignore\")\n",
    "from mace.cli.run_train import main as mace_run_train_main\n",
    "import sys\n",
    "import logging\n",
    "\n",
    "def train_mace(config_file_path):\n",
    "    logging.getLogger().handlers.clear()\n",
    "    sys.argv = [\"program\", \"--config\", config_file_path, \"--plot\", \"true\", \"--plot_frequency\", \"10\"]\n",
    "    mace_run_train_main()"
   ]
  },
  {
   "cell_type": "code",
   "execution_count": null,
   "metadata": {},
   "outputs": [],
   "source": [
    "train_mace(\"configs/from_scratch-3.yml\")"
   ]
  },
  {
   "cell_type": "code",
   "execution_count": null,
   "metadata": {},
   "outputs": [],
   "source": []
  }
 ],
 "metadata": {
  "language_info": {
   "name": "python"
  }
 },
 "nbformat": 4,
 "nbformat_minor": 0
}
