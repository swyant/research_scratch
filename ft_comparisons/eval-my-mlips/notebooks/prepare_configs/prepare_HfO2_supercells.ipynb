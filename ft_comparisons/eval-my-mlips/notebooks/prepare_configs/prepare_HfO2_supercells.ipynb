{
 "cells": [
  {
   "cell_type": "code",
   "execution_count": null,
   "id": "46b46913",
   "metadata": {},
   "outputs": [],
   "source": [
    "import os\n",
    "\n",
    "from ase.io import write as ase_write\n",
    "from ase.optimize import BFGS\n",
    "from ase import Atoms\n",
    "\n",
    "from pymatgen.ext.matproj import MPRester\n",
    "from pymatgen.symmetry.analyzer import SpacegroupAnalyzer\n",
    "from pymatgen.io.ase import AseAtomsAdaptor\n"
   ]
  },
  {
   "cell_type": "code",
   "execution_count": null,
   "id": "de1afd2d",
   "metadata": {},
   "outputs": [],
   "source": [
    "import os\n",
    "env_var = \"MP_API_KEY\"\n",
    "mp_api_key = os.environ.get(env_var, None)"
   ]
  },
  {
   "cell_type": "code",
   "execution_count": null,
   "id": "83ee3549",
   "metadata": {},
   "outputs": [],
   "source": [
    "mp_id=\"mp-352\"\n",
    "with MPRester(mp_api_key) as m:\n",
    "    struct = m.get_structure_by_material_id(mp_id)"
   ]
  },
  {
   "cell_type": "code",
   "execution_count": null,
   "id": "ae6da0c3",
   "metadata": {},
   "outputs": [],
   "source": [
    "sga = SpacegroupAnalyzer(struct, symprec=1e-4)\n",
    "conv = sga.get_conventional_standard_structure()\n",
    "\n",
    "conv_atoms = AseAtomsAdaptor.get_atoms(conv)"
   ]
  },
  {
   "cell_type": "code",
   "execution_count": null,
   "id": "5358b138",
   "metadata": {},
   "outputs": [],
   "source": [
    "conv_atoms"
   ]
  },
  {
   "cell_type": "code",
   "execution_count": null,
   "id": "23047e0f",
   "metadata": {},
   "outputs": [],
   "source": [
    "ase_write(\"ref_HfO2.xyz\", conv_atoms, format=\"extxyz\")"
   ]
  },
  {
   "cell_type": "code",
   "execution_count": null,
   "id": "554f72a0",
   "metadata": {},
   "outputs": [],
   "source": [
    "import matplotlib.pyplot as plt\n",
    "from ase.visualize.plot import plot_atoms\n",
    "\n",
    "fig, ax = plt.subplots()\n",
    "plot_atoms(conv_atoms, ax, radii=0.3, rotation=('45x,45y,90z'))\n",
    "ax.set_title(conv_atoms.get_chemical_formula())\n",
    "ax.set_axis_off()\n",
    "plt.show()"
   ]
  },
  {
   "cell_type": "code",
   "execution_count": null,
   "id": "1480d479",
   "metadata": {},
   "outputs": [],
   "source": [
    "ase_write(\"mp_conv_monoclinic_HfO2.xyz\", conv_atoms, format=\"extxyz\")"
   ]
  },
  {
   "cell_type": "code",
   "execution_count": null,
   "id": "b2f01a30",
   "metadata": {},
   "outputs": [],
   "source": [
    "from mace.calculators import MACECalculator\n",
    "mace_calc = MACECalculator(model_paths=\"../../models/HfOx_128x0e_100725_1007_from-scratch_stagetwo.model\", device=\"cpu\")"
   ]
  },
  {
   "cell_type": "code",
   "execution_count": null,
   "id": "93209e90",
   "metadata": {},
   "outputs": [],
   "source": [
    "conv_atoms.set_calculator(mace_calc)"
   ]
  },
  {
   "cell_type": "code",
   "execution_count": null,
   "id": "1c1394d6",
   "metadata": {},
   "outputs": [],
   "source": [
    "from ase.filters import ExpCellFilter\n",
    "from ase.io.trajectory import Trajectory\n",
    "\n",
    "ecf = ExpCellFilter(conv_atoms, hydrostatic_strain=True)\n",
    "opt = BFGS(ecf, logfile=\"relax.txt\")\n",
    "traj = Trajectory(\"conv_monoclinic_HfO2_relax.traj\", \"w\", conv_atoms)\n",
    "opt.attach(traj)\n",
    "opt.run(fmax=0.05)"
   ]
  },
  {
   "cell_type": "code",
   "execution_count": null,
   "id": "fa9a9343",
   "metadata": {},
   "outputs": [],
   "source": [
    "from ase.io import read as ase_read\n",
    "to_write_traj = traj = ase_read(\"conv_monoclinic_HfO2_relax.traj\", index=\":\")\n",
    "ase_write(\"relaxation.xyz\", to_write_traj)"
   ]
  },
  {
   "cell_type": "code",
   "execution_count": null,
   "id": "2996b3a2",
   "metadata": {},
   "outputs": [],
   "source": [
    "import numpy as np\n",
    "\n",
    "cell = conv_atoms.cell.array\n",
    "conv_atoms.set_cell(np.round(cell,decimals=15))"
   ]
  },
  {
   "cell_type": "markdown",
   "id": "84137a04",
   "metadata": {},
   "source": [
    "What it was:\n",
    "{'array': array([[-2.15712578e-17,  5.15141070e+00,  0.00000000e+00],\n",
    "        [ 5.20851486e+00, -2.68855741e-19,  0.00000000e+00],\n",
    "        [ 8.30070492e-19, -8.86013196e-01, -5.26141137e+00]])}"
   ]
  },
  {
   "cell_type": "code",
   "execution_count": null,
   "id": "c706dbd7",
   "metadata": {},
   "outputs": [],
   "source": [
    "conv_atoms.cell.array"
   ]
  },
  {
   "cell_type": "code",
   "execution_count": null,
   "id": "65ec2f94",
   "metadata": {},
   "outputs": [],
   "source": [
    "len(conv_atoms)"
   ]
  },
  {
   "cell_type": "code",
   "execution_count": null,
   "id": "de51b4a0",
   "metadata": {},
   "outputs": [],
   "source": [
    "HfO2_555 = conv_atoms.repeat((5,5,5))"
   ]
  },
  {
   "cell_type": "code",
   "execution_count": null,
   "id": "faa82cb5",
   "metadata": {},
   "outputs": [],
   "source": [
    "HfO2_222 = conv_atoms.repeat((2,2,2))"
   ]
  },
  {
   "cell_type": "code",
   "execution_count": null,
   "id": "05b749a9",
   "metadata": {},
   "outputs": [],
   "source": [
    "ase_write(\"HfO2_222_MACE100725_DATA\", HfO2_222, format=\"lammps-data\", masses=True)"
   ]
  },
  {
   "cell_type": "code",
   "execution_count": null,
   "id": "1cf96e4c",
   "metadata": {},
   "outputs": [],
   "source": [
    "fig, ax = plt.subplots()\n",
    "plot_atoms(HfO2_555, ax, radii=0.3, rotation=('45x,45y,90z'))\n",
    "ax.set_title(HfO2_555.get_chemical_formula())\n",
    "ax.set_axis_off()\n",
    "plt.show()"
   ]
  },
  {
   "cell_type": "code",
   "execution_count": null,
   "id": "6deabf4d",
   "metadata": {},
   "outputs": [],
   "source": [
    "HfO2_101010 = conv_atoms.repeat((10,10,10))"
   ]
  },
  {
   "cell_type": "code",
   "execution_count": null,
   "id": "0660980f",
   "metadata": {},
   "outputs": [],
   "source": [
    "len(HfO2_101010)"
   ]
  },
  {
   "cell_type": "code",
   "execution_count": null,
   "id": "9706d878",
   "metadata": {},
   "outputs": [],
   "source": [
    "HfO2_212121 = conv_atoms.repeat((21,21,21))"
   ]
  },
  {
   "cell_type": "code",
   "execution_count": null,
   "id": "bbfefc53",
   "metadata": {},
   "outputs": [],
   "source": [
    "ase_write(\"HfO2_555_MACE100725_DATA\", HfO2_555, format=\"lammps-data\", masses=True)"
   ]
  },
  {
   "cell_type": "code",
   "execution_count": null,
   "id": "8376cb30",
   "metadata": {},
   "outputs": [],
   "source": [
    "ase_write(\"HfO2_101010_MACE100725_DATA\", HfO2_101010, format=\"lammps-data\", masses=True)\n",
    "ase_write(\"HfO2_212121_MACE100725_DATA\", HfO2_212121, format=\"lammps-data\", masses=True)"
   ]
  },
  {
   "cell_type": "code",
   "execution_count": null,
   "id": "23340d94",
   "metadata": {},
   "outputs": [],
   "source": []
  }
 ],
 "metadata": {
  "language_info": {
   "name": "python"
  }
 },
 "nbformat": 4,
 "nbformat_minor": 5
}
