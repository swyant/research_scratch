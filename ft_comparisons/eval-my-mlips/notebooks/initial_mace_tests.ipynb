{
 "cells": [
  {
   "cell_type": "code",
   "execution_count": null,
   "id": "63e87765",
   "metadata": {},
   "outputs": [],
   "source": [
    "import eval_my_mlips.utils as emu\n",
    "from mace.calculators import MACECalculator"
   ]
  },
  {
   "cell_type": "code",
   "execution_count": null,
   "id": "f97a03fe",
   "metadata": {},
   "outputs": [],
   "source": [
    "# So if I'm using mps, neead Float32\n",
    "calculator = MACECalculator(model_paths=\"../models/2023-12-10-mace-128-L0_energy_epoch-249.model\", device=\"mps\") # small model\n",
    "# TypeError: Cannot convert a MPS Tensor to float64 dtype as the MPS framework doesn't support float64. Please use float32 instead."
   ]
  },
  {
   "cell_type": "code",
   "execution_count": null,
   "id": "99ba22a4",
   "metadata": {},
   "outputs": [],
   "source": [
    "# still doesn't work\n",
    "calculator = MACECalculator(model_paths=\"../models/2023-12-10-mace-128-L0_energy_epoch-249.model\",\n",
    "                            device=\"mps\",\n",
    "                            default_dtype = \"float32\") # small model"
   ]
  },
  {
   "cell_type": "code",
   "execution_count": null,
   "id": "30e15d0b",
   "metadata": {},
   "outputs": [],
   "source": [
    "calculator = MACECalculator(model_paths=\"../models/2023-12-10-mace-128-L0_energy_epoch-249.model\")"
   ]
  },
  {
   "cell_type": "code",
   "execution_count": null,
   "id": "ea9857dd",
   "metadata": {},
   "outputs": [],
   "source": [
    "data_dir = \"/Users/swyant/cesmix/datasets/HfO2_cesmix/april_2025_data_mv/processed_and_split/\""
   ]
  },
  {
   "cell_type": "code",
   "execution_count": null,
   "id": "eb37d6b3",
   "metadata": {},
   "outputs": [],
   "source": [
    "reference_configs = emu.load_configurations(data_dir)"
   ]
  },
  {
   "cell_type": "markdown",
   "id": "f4d0260a",
   "metadata": {},
   "source": [
    "So I key oversight, I thought you'd be able to pass in E0s, to at least get a sense of the raw initial error for the model, but I think they are just baked into the model. in the same way that the model. This will make this initial pass kind of useless"
   ]
  },
  {
   "cell_type": "code",
   "execution_count": null,
   "id": "ddb36fb8",
   "metadata": {},
   "outputs": [],
   "source": [
    "import torch"
   ]
  },
  {
   "cell_type": "code",
   "execution_count": null,
   "id": "5909f454",
   "metadata": {},
   "outputs": [],
   "source": [
    "small_model = torch.load(f=\"../models/2023-12-10-mace-128-L0_energy_epoch-249.model\", map_location=\"cpu\")"
   ]
  },
  {
   "cell_type": "code",
   "execution_count": null,
   "id": "e0d90812",
   "metadata": {},
   "outputs": [],
   "source": [
    "print(small_model)"
   ]
  },
  {
   "cell_type": "code",
   "execution_count": null,
   "id": "a2068aac",
   "metadata": {},
   "outputs": [],
   "source": [
    "small_model.float()"
   ]
  },
  {
   "cell_type": "code",
   "execution_count": null,
   "id": "ecaa44ab",
   "metadata": {},
   "outputs": [],
   "source": [
    "torch.save(small_model, \"../models/small_float32.model\")"
   ]
  },
  {
   "cell_type": "code",
   "execution_count": null,
   "id": "2c16e134",
   "metadata": {},
   "outputs": [],
   "source": [
    "calc_f32 = calculator = MACECalculator(model_paths=\"../models/small_float32.model\",\n",
    "                            device=\"mps\",\n",
    "                            default_dtype = \"float32\")"
   ]
  },
  {
   "cell_type": "markdown",
   "id": "56c2abfb",
   "metadata": {},
   "source": [
    "I feel like I shouldn't need to do that, but I think saving it to float32 worked?"
   ]
  },
  {
   "cell_type": "code",
   "execution_count": null,
   "id": "b65f0979",
   "metadata": {},
   "outputs": [],
   "source": [
    "small_model.__dict__"
   ]
  },
  {
   "cell_type": "code",
   "execution_count": null,
   "id": "ecdfae12",
   "metadata": {},
   "outputs": [],
   "source": [
    "predicted_configs = emu.compute_predictions(reference_configs, calc_f32)"
   ]
  },
  {
   "cell_type": "markdown",
   "id": "4608ca11",
   "metadata": {},
   "source": [
    "Nope, still doesn't work"
   ]
  },
  {
   "cell_type": "code",
   "execution_count": null,
   "id": "a90cd4a9",
   "metadata": {},
   "outputs": [],
   "source": [
    "predicted_configs = emu.compute_predictions(reference_configs, calculator)"
   ]
  },
  {
   "cell_type": "code",
   "execution_count": null,
   "id": "963f888e",
   "metadata": {},
   "outputs": [],
   "source": [
    "small_model.__dict__"
   ]
  },
  {
   "cell_type": "code",
   "execution_count": null,
   "id": "d420e5ae",
   "metadata": {},
   "outputs": [],
   "source": [
    "sample_config = reference_configs[\"HfOx_test_0K\"][0].copy()"
   ]
  },
  {
   "cell_type": "code",
   "execution_count": null,
   "id": "d411d66f",
   "metadata": {},
   "outputs": [],
   "source": [
    "sample_config.calc = calculator"
   ]
  },
  {
   "cell_type": "code",
   "execution_count": null,
   "id": "63a8f649",
   "metadata": {},
   "outputs": [],
   "source": [
    "model_atomic_numbers = calculator.z_table.zs"
   ]
  },
  {
   "cell_type": "code",
   "execution_count": null,
   "id": "4f008d6a",
   "metadata": {},
   "outputs": [],
   "source": [
    "# Get the tensor of isolated energies [num_elements, num_heads]\n",
    "atomic_energies_tensor = calculator.models[0].atomic_energies_fn.atomic_energies.cpu().numpy()\n"
   ]
  },
  {
   "cell_type": "code",
   "execution_count": null,
   "id": "6b18813d",
   "metadata": {},
   "outputs": [],
   "source": [
    "atomic_energies_tensor"
   ]
  },
  {
   "cell_type": "code",
   "execution_count": null,
   "id": "17cd02ea",
   "metadata": {},
   "outputs": [],
   "source": [
    "calculator.available_heads.index(calculator.head)"
   ]
  },
  {
   "cell_type": "code",
   "execution_count": null,
   "id": "3475107c",
   "metadata": {},
   "outputs": [],
   "source": [
    "energy_map = dict(zip(model_atomic_numbers, atomic_energies_tensor[:]))"
   ]
  },
  {
   "cell_type": "code",
   "execution_count": null,
   "id": "c64e4938",
   "metadata": {},
   "outputs": [],
   "source": [
    "energy_map"
   ]
  },
  {
   "cell_type": "code",
   "execution_count": null,
   "id": "9958d8d5",
   "metadata": {},
   "outputs": [],
   "source": [
    "config_atomic_numbers = sample_config.get_atomic_numbers()"
   ]
  },
  {
   "cell_type": "code",
   "execution_count": null,
   "id": "9386caa2",
   "metadata": {},
   "outputs": [],
   "source": [
    "config_atomic_numbers"
   ]
  },
  {
   "cell_type": "code",
   "execution_count": null,
   "id": "544f76d7",
   "metadata": {},
   "outputs": [],
   "source": [
    "total_isolated_energy = sum([energy_map[z] for z in config_atomic_numbers])"
   ]
  },
  {
   "cell_type": "code",
   "execution_count": null,
   "id": "f7b99f84",
   "metadata": {},
   "outputs": [],
   "source": [
    "binding_energy = total_energy - total_isolated_energy"
   ]
  },
  {
   "cell_type": "code",
   "execution_count": null,
   "id": "1ef7c79c",
   "metadata": {},
   "outputs": [],
   "source": [
    "total_energy = sample_config.get_potential_energy()\n"
   ]
  },
  {
   "cell_type": "code",
   "execution_count": null,
   "id": "a59c1a4c",
   "metadata": {},
   "outputs": [],
   "source": [
    "sample_config.calc.results[\"node_energy\"].sum()"
   ]
  },
  {
   "cell_type": "code",
   "execution_count": null,
   "id": "87129ab1",
   "metadata": {},
   "outputs": [],
   "source": [
    "binding_energy = total_energy - total_isolated_energy"
   ]
  },
  {
   "cell_type": "code",
   "execution_count": null,
   "id": "db9ddef4",
   "metadata": {},
   "outputs": [],
   "source": [
    "binding_energy"
   ]
  },
  {
   "cell_type": "code",
   "execution_count": null,
   "id": "987a4f3c",
   "metadata": {},
   "outputs": [],
   "source": [
    "new_sample_config = sample_config.copy()"
   ]
  },
  {
   "cell_type": "code",
   "execution_count": null,
   "id": "1828f319",
   "metadata": {},
   "outputs": [],
   "source": [
    "new_sample_config.calc = calc_f32"
   ]
  },
  {
   "cell_type": "code",
   "execution_count": null,
   "id": "4297fce4",
   "metadata": {},
   "outputs": [],
   "source": [
    "new_sample_config.get_potential_energy()"
   ]
  },
  {
   "cell_type": "code",
   "execution_count": null,
   "id": "1dafdef0",
   "metadata": {},
   "outputs": [],
   "source": []
  }
 ],
 "metadata": {
  "language_info": {
   "name": "python"
  }
 },
 "nbformat": 4,
 "nbformat_minor": 5
}
