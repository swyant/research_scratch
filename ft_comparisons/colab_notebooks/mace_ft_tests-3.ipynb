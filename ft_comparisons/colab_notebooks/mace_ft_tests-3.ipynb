{
 "cells": [
  {
   "cell_type": "code",
   "execution_count": null,
   "metadata": {},
   "outputs": [],
   "source": [
    "!pip install mace-torch\n",
    "!pip install cuequivariance cuequivariance-torch cuequivariance-ops-torch-cu12"
   ]
  },
  {
   "cell_type": "code",
   "execution_count": null,
   "metadata": {},
   "outputs": [],
   "source": [
    "from google.colab import drive\n",
    "drive.mount('/content/drive')"
   ]
  },
  {
   "cell_type": "code",
   "execution_count": null,
   "metadata": {},
   "outputs": [],
   "source": [
    "\n",
    "import sys\n",
    "sys.path.append('/content/drive/My Drive/colab_temp/mace_fine-tuning_expts/scripts')"
   ]
  },
  {
   "cell_type": "code",
   "execution_count": null,
   "metadata": {},
   "outputs": [],
   "source": [
    "import utils"
   ]
  },
  {
   "cell_type": "code",
   "execution_count": null,
   "metadata": {},
   "outputs": [],
   "source": [
    "%cd \"drive/MyDrive/colab_temp/mace_fine-tuning_expts\""
   ]
  },
  {
   "cell_type": "code",
   "execution_count": null,
   "metadata": {},
   "outputs": [],
   "source": [
    "from ase.units import create_units\n",
    "units_2006 = create_units('2006')\n",
    "\n",
    "# The values I back-computed with 2006 CODATA values\n",
    "E0_Hf_Ry = -112.41607411999959316330\n",
    "E0_O_Ry = -32.6203517400001970321\n",
    "\n",
    "# Convert to eV using ASE units\n",
    "E0_Hf_eV = E0_Hf_Ry * units_2006['Ry']  # Rydberg to eV conversion\n",
    "E0_O_eV = E0_O_Ry * units_2006['Ry']\n",
    "\n",
    "new_E0s = {8:  E0_O_eV,\n",
    "           72: E0_Hf_eV}"
   ]
  },
  {
   "cell_type": "code",
   "execution_count": null,
   "metadata": {},
   "outputs": [],
   "source": [
    "%%writefile configs/small_ft-HfOx_v0.2.yml\n",
    "\n",
    "model: 'MACE'\n",
    "foundation_model: 'small'\n",
    "multiheads_finetuning: False\n",
    "train_file: 'data/HfOx_Hf_trainval.xyz'\n",
    "valid_fraction: 0.1\n",
    "test_file: 'data/HfOx_Hf_test.xyz'\n",
    "energy_key: \"REF_energy\"\n",
    "forces_key: \"REF_forces\"\n",
    "E0s: {8: -443.8224565134432, 72: -1529.4984727695407}\n",
    "name: \"small_ft-HfOx_v0.2\"\n",
    "model_dir: \"models/small_HfOx-ft_2\"\n",
    "log_dir: \"models/small_HfOx-ft_2\"\n",
    "results_dir: \"models/small_HfOx-ft_2\"\n",
    "checkpoints_dir: \"models/small_HfOx-ft_2\"\n",
    "device: cuda\n",
    "batch_size: 5\n",
    "max_num_epochs: 500\n",
    "lr: 0.01\n",
    "swa: True\n",
    "seed: 123\n",
    "stress_weight: 0.0\n",
    "forces_weight: 50.0\n",
    "energy_weight: 1.0"
   ]
  },
  {
   "cell_type": "code",
   "execution_count": null,
   "metadata": {},
   "outputs": [],
   "source": [
    "import warnings\n",
    "warnings.filterwarnings(\"ignore\")\n",
    "from mace.cli.run_train import main as mace_run_train_main\n",
    "import sys\n",
    "import logging\n",
    "\n",
    "def train_mace(config_file_path):\n",
    "    logging.getLogger().handlers.clear()\n",
    "    sys.argv = [\"program\", \"--config\", config_file_path, \"--plot\", \"true\", \"--plot_frequency\", \"10\"]\n",
    "    mace_run_train_main()"
   ]
  },
  {
   "cell_type": "markdown",
   "metadata": {
    "id": "NPIrTdA4DbEn"
   },
   "source": []
  },
  {
   "cell_type": "code",
   "execution_count": null,
   "metadata": {},
   "outputs": [],
   "source": [
    "train_mace(\"configs/small_ft-HfOx_v0.2.yml\")"
   ]
  },
  {
   "cell_type": "code",
   "execution_count": null,
   "metadata": {},
   "outputs": [],
   "source": []
  },
  {
   "cell_type": "code",
   "execution_count": null,
   "metadata": {},
   "outputs": [],
   "source": [
    "import warnings\n",
    "warnings.filterwarnings(\"ignore\")\n",
    "from mace.cli.plot_train import main as mace_plot_train_main\n",
    "import sys\n",
    "import logging\n",
    "\n",
    "def train_mace(config_file_path):\n",
    "    logging.getLogger().handlers.clear()\n",
    "    sys.argv = [\"program\", \"--config\", config_file_path]\n",
    "    mace_run_train_main()"
   ]
  }
 ],
 "metadata": {
  "language_info": {
   "name": "python"
  }
 },
 "nbformat": 4,
 "nbformat_minor": 0
}
