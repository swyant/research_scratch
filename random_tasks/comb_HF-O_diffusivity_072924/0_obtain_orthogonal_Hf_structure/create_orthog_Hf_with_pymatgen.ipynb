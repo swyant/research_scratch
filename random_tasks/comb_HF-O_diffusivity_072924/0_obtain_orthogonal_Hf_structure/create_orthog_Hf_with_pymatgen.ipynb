{
 "cells": [
  {
   "cell_type": "code",
   "execution_count": null,
   "metadata": {},
   "outputs": [],
   "source": [
    "with open(\"../pymatgen_api_key\", \"r\") as f:\n",
    "    MP_API_KEY = f.read().strip()"
   ]
  },
  {
   "cell_type": "code",
   "execution_count": null,
   "metadata": {},
   "outputs": [],
   "source": [
    "from  mp_api.client import MPRester\n",
    "from pymatgen.io.lammps.data import LammpsData\n",
    "from pymatgen.transformations.advanced_transformations import CubicSupercellTransformation"
   ]
  },
  {
   "cell_type": "code",
   "execution_count": null,
   "metadata": {},
   "outputs": [],
   "source": [
    "with MPRester(MP_API_KEY) as mpr:\n",
    "    Hf_struct = mpr.get_structure_by_material_id(\"mp-103\")"
   ]
  },
  {
   "cell_type": "markdown",
   "metadata": {},
   "source": []
  },
  {
   "cell_type": "code",
   "execution_count": null,
   "metadata": {},
   "outputs": [],
   "source": [
    "Hf_struct"
   ]
  },
  {
   "cell_type": "code",
   "execution_count": null,
   "metadata": {},
   "outputs": [],
   "source": [
    "#orthog_supercell_generator = CubicSupercellTransformation(max_atoms=8)\n",
    "orthog_supercell_generator = CubicSupercellTransformation()\n",
    "orthog_Hf = orthog_supercell_generator.apply_transformation(Hf_struct)"
   ]
  },
  {
   "cell_type": "code",
   "execution_count": null,
   "metadata": {},
   "outputs": [],
   "source": [
    "len(orthog_Hf.sites)"
   ]
  }
 ],
 "metadata": {
  "language_info": {
   "name": "python"
  }
 },
 "nbformat": 4,
 "nbformat_minor": 2
}
