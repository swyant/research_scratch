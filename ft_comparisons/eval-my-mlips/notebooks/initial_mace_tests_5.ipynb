{
 "cells": [
  {
   "cell_type": "code",
   "execution_count": null,
   "id": "684d0e3c",
   "metadata": {},
   "outputs": [],
   "source": [
    "%load_ext autoreload\n",
    "%autoreload 2\n",
    "# What is also essential to install the local package as editable via `uv add --dev --editable .` ?"
   ]
  },
  {
   "cell_type": "code",
   "execution_count": null,
   "id": "e45af0a7",
   "metadata": {},
   "outputs": [],
   "source": [
    "import eval_my_mlips.utils as emu\n",
    "from mace.calculators import MACECalculator"
   ]
  },
  {
   "cell_type": "code",
   "execution_count": null,
   "id": "42c3e995",
   "metadata": {},
   "outputs": [],
   "source": [
    "calculator = MACECalculator(model_paths=\"../models/2023-12-10-mace-128-L0_energy_epoch-249.model\")"
   ]
  },
  {
   "cell_type": "code",
   "execution_count": null,
   "id": "ed7596ee",
   "metadata": {},
   "outputs": [],
   "source": [
    "data_dir = \"/Users/swyant/cesmix/datasets/HfO2_cesmix/april_2025_data_mv/processed_and_split/\"\n",
    "reference_configs = emu.load_configurations(data_dir)"
   ]
  },
  {
   "cell_type": "code",
   "execution_count": null,
   "id": "69dac6a6",
   "metadata": {},
   "outputs": [],
   "source": [
    "sample_config = reference_configs[\"HfOx_test_0K\"][0]\n",
    "sample_config.calc = calculator"
   ]
  },
  {
   "cell_type": "code",
   "execution_count": null,
   "id": "61b323e2",
   "metadata": {},
   "outputs": [],
   "source": [
    "sample_config.get_potential_energy()"
   ]
  },
  {
   "cell_type": "code",
   "execution_count": null,
   "id": "1dfb3fa4",
   "metadata": {},
   "outputs": [],
   "source": [
    "from ase.units import create_units\n",
    "units_2006 = create_units('2006')\n",
    "\n",
    "# The values I back-computed with 2006 CODATA values\n",
    "E0_Hf_Ry = -112.41607411999959316330\n",
    "E0_O_Ry = -32.6203517400001970321\n",
    "\n",
    "# Convert to eV using ASE units\n",
    "E0_Hf_eV = E0_Hf_Ry * units_2006['Ry']  # Rydberg to eV conversion\n",
    "E0_O_eV = E0_O_Ry * units_2006['Ry']\n",
    "\n",
    "new_E0s = {8:  E0_O_eV,\n",
    "           72: E0_Hf_eV}"
   ]
  },
  {
   "cell_type": "code",
   "execution_count": null,
   "id": "45929dd8",
   "metadata": {},
   "outputs": [],
   "source": [
    "alt_configs = {\"HfOx_test_no0K\": reference_configs[\"HfOx_test_no0K\"]}"
   ]
  },
  {
   "cell_type": "code",
   "execution_count": null,
   "id": "0dc33ad8",
   "metadata": {},
   "outputs": [],
   "source": [
    "#predicted_configs = emu.compute_predictions(reference_configs[\"\"], calculator)\n",
    "predicted_configs = emu.compute_predictions(alt_configs, calculator)"
   ]
  },
  {
   "cell_type": "code",
   "execution_count": null,
   "id": "4ff592af",
   "metadata": {},
   "outputs": [],
   "source": [
    "#predicted_configs[\"HfOx_test_no0K\"][0].get_potential_energy()"
   ]
  },
  {
   "cell_type": "code",
   "execution_count": null,
   "id": "9d0aede3",
   "metadata": {},
   "outputs": [],
   "source": [
    "predicted_configs[\"HfOx_test_no0K\"][0].calc.results[\"energy\"]"
   ]
  },
  {
   "cell_type": "code",
   "execution_count": null,
   "id": "85ca646d",
   "metadata": {},
   "outputs": [],
   "source": [
    "predicted_configs[\"HfOx_test_no0K\"][0].calc.results[\"energy\"] = -1.0\n",
    "predicted_configs[\"HfOx_test_no0K\"][0].calc.results[\"free_energy\"] = -1.0"
   ]
  },
  {
   "cell_type": "code",
   "execution_count": null,
   "id": "c06d8dcd",
   "metadata": {},
   "outputs": [],
   "source": [
    "predicted_configs[\"HfOx_test_no0K\"][0].calc.results[\"energy\"]"
   ]
  },
  {
   "cell_type": "code",
   "execution_count": null,
   "id": "07d4e5e5",
   "metadata": {},
   "outputs": [],
   "source": [
    "#predicted_configs[\"HfOx_test_no0K\"][0].get_potential_energy()"
   ]
  },
  {
   "cell_type": "code",
   "execution_count": null,
   "id": "bf644d9e",
   "metadata": {},
   "outputs": [],
   "source": [
    "alt_predicted_configs = emu.compute_predictions(alt_configs, calculator, new_E0s)"
   ]
  },
  {
   "cell_type": "code",
   "execution_count": null,
   "id": "f2eda431",
   "metadata": {},
   "outputs": [],
   "source": [
    "alt_predicted_configs[\"HfOx_test_no0K\"][0].info"
   ]
  },
  {
   "cell_type": "code",
   "execution_count": null,
   "id": "6d74d944",
   "metadata": {},
   "outputs": [],
   "source": [
    "errors = emu.calculate_errors(alt_configs, alt_predicted_configs)"
   ]
  },
  {
   "cell_type": "markdown",
   "id": "d59563ce",
   "metadata": {},
   "source": []
  },
  {
   "cell_type": "code",
   "execution_count": null,
   "id": "f107f18a",
   "metadata": {},
   "outputs": [],
   "source": [
    "alt_predicted_configs[\"HfOx_test_no0K\"][0].info"
   ]
  },
  {
   "cell_type": "code",
   "execution_count": null,
   "id": "70e01984",
   "metadata": {},
   "outputs": [],
   "source": [
    "print(errors)"
   ]
  },
  {
   "cell_type": "code",
   "execution_count": null,
   "id": "580d0faa",
   "metadata": {},
   "outputs": [],
   "source": [
    "emu.display_errors(errors)"
   ]
  },
  {
   "cell_type": "code",
   "execution_count": null,
   "id": "e1b7621d",
   "metadata": {},
   "outputs": [],
   "source": [
    "alt_predicted_configs['HfOx_test_no0K']"
   ]
  },
  {
   "cell_type": "code",
   "execution_count": null,
   "id": "db697628",
   "metadata": {},
   "outputs": [],
   "source": [
    "for config in alt_predicted_configs['HfOx_test_no0K']:\n",
    "    print(f\"{config.info['REF_energy']} {config.info['orig_predicted_energy']} {config.info['fixed_predicted_energy']}\")"
   ]
  },
  {
   "cell_type": "code",
   "execution_count": null,
   "id": "520963ac",
   "metadata": {},
   "outputs": [],
   "source": [
    "alt_predicted_configs[\"HfOx_test_no0K\"][-20].__dict__"
   ]
  },
  {
   "cell_type": "code",
   "execution_count": null,
   "id": "19120fe9",
   "metadata": {},
   "outputs": [],
   "source": [
    "alt_predicted_configs[\"HfOx_test_no0K\"][100].calc.results"
   ]
  },
  {
   "cell_type": "code",
   "execution_count": null,
   "id": "81ecc5e0",
   "metadata": {},
   "outputs": [],
   "source": [
    "alt_predicted_configs[\"HfOx_test_no0K\"][0].get_potential_energy()"
   ]
  },
  {
   "cell_type": "code",
   "execution_count": null,
   "id": "d53016ba",
   "metadata": {},
   "outputs": [],
   "source": [
    "print(f\"{predicted_configs[\"HfOx_test_no0K\"][0].info[\"REF_energy\"]}\")"
   ]
  },
  {
   "cell_type": "code",
   "execution_count": null,
   "id": "34fd23b3",
   "metadata": {},
   "outputs": [],
   "source": [
    "alt_predicted_configs[\"HfOx_test_no0K\"][0].info[\"REF_energy\"]"
   ]
  },
  {
   "cell_type": "code",
   "execution_count": null,
   "id": "84cde1d7",
   "metadata": {},
   "outputs": [],
   "source": [
    "for base, alt in zip(predicted_configs[\"HfOx_test_no0K\"], alt_predicted_configs[\"HfOx_test_no0K\"]):\n",
    "    print(f\"{base.info[\"REF_energy\"]} {base.calc.results[\"energy\"]} {alt.calc.results[\"energy\"]}\")"
   ]
  },
  {
   "cell_type": "code",
   "execution_count": null,
   "id": "64d5417a",
   "metadata": {},
   "outputs": [],
   "source": []
  }
 ],
 "metadata": {
  "language_info": {
   "name": "python"
  }
 },
 "nbformat": 4,
 "nbformat_minor": 5
}
