{
 "cells": [
  {
   "cell_type": "code",
   "execution_count": null,
   "metadata": {},
   "outputs": [],
   "source": [
    "using Revise\n",
    "using Pkg; Pkg.activate(\".\")"
   ]
  },
  {
   "cell_type": "code",
   "execution_count": null,
   "metadata": {},
   "outputs": [],
   "source": [
    "using Unitful\n",
    "using PotentialLearning\n",
    "using Random: randperm\n",
    "using JLD2\n",
    "using InteratomicPotentials"
   ]
  },
  {
   "cell_type": "markdown",
   "metadata": {},
   "source": [
    "From all the data, I'm taking the first five runs as trainining data. Moreover, I want to subsample further, taking only 1 out of every 3 configs (roughly 1 every 900 fs)"
   ]
  },
  {
   "cell_type": "code",
   "execution_count": null,
   "metadata": {},
   "outputs": [],
   "source": [
    "pristine_base_train = Vector{DataSet}()\n",
    "frenkel_base_train = Vector{DataSet}()\n",
    "base_train_idxs = Dict{Tuple{Symbol, Int64}, Vector{Int64}}()\n",
    "\n",
    "#prisine\n",
    "for i in 1:5\n",
    "    println(i)\n",
    "    configs = load_data(\"./data/pristine_$(i).xyz\", ExtXYZ(u\"eV\", u\"Å\"))\n",
    "    indxs = randperm(1001)[1:300]\n",
    "\n",
    "    push!(pristine_base_train, configs[indxs])\n",
    "\n",
    "    base_train_idxs[(:pristine, i)] = indxs\n",
    "end\n",
    "\n",
    "#frenkel\n",
    "for i in 1:5\n",
    "    println(i)\n",
    "    configs = load_data(\"./data/frenkel_$(i).xyz\", ExtXYZ(u\"eV\", u\"Å\"))\n",
    "    indxs = randperm(1001)[1:300]\n",
    "\n",
    "    push!(frenkel_base_train, configs[indxs])\n",
    "\n",
    "    base_train_idxs[(:frenkel, i)] = indxs\n",
    "end"
   ]
  },
  {
   "cell_type": "code",
   "execution_count": null,
   "metadata": {},
   "outputs": [],
   "source": [
    "# from subsampling_dpp.jl in PL.jl examples\n",
    "function concat_dataset(confs::Vector{DataSet})\n",
    "    N = length(confs)\n",
    "    confs_vec = [[confs[i][j] for j = 1:length(confs[i])] for i = 1:N]\n",
    "    confs_all = reduce(vcat, confs_vec)\n",
    "    return DataSet(confs_all)\n",
    "end"
   ]
  },
  {
   "cell_type": "code",
   "execution_count": null,
   "metadata": {},
   "outputs": [],
   "source": [
    "base_train = concat_dataset([pristine_base_train; frenkel_base_train])"
   ]
  },
  {
   "cell_type": "markdown",
   "metadata": {},
   "source": [
    "Let's just figure out what a reasonable ace basis is"
   ]
  },
  {
   "cell_type": "code",
   "execution_count": null,
   "metadata": {},
   "outputs": [],
   "source": [
    "ace = ACE(species            = [:Hf],\n",
    "          body_order         = 4,\n",
    "          polynomial_degree  = 10,\n",
    "          wL                 = 1.5,\n",
    "          csp                = 1.0,\n",
    "          r0                 = 2.15,\n",
    "          rcutoff            = 5.0)"
   ]
  },
  {
   "cell_type": "code",
   "execution_count": null,
   "metadata": {},
   "outputs": [],
   "source": [
    "trial_indxs = randperm(3000)\n",
    "trial_train_indxs = trial_indxs[1:1000]\n",
    "trial_val_indxs = trial_indxs[1001:3000]"
   ]
  },
  {
   "cell_type": "markdown",
   "metadata": {},
   "source": [
    "Something was very weird about this calculation, because the local descriptor calculation was like an order of magnitude slower than the force descriptor calculation..."
   ]
  },
  {
   "cell_type": "code",
   "execution_count": null,
   "metadata": {},
   "outputs": [],
   "source": [
    "edescr_train_trial = compute_local_descriptors(base_train[trial_train_indxs],ace)\n",
    "fdescr_train_trial = compute_force_descriptors(base_train[trial_train_indxs],ace)\n",
    "\n",
    "trial_train_ds = DataSet(base_train[trial_train_indxs] .+ edescr_train_trial .+ fdescr_train_trial)"
   ]
  },
  {
   "cell_type": "code",
   "execution_count": null,
   "metadata": {},
   "outputs": [],
   "source": [
    "fdescr_train_trial[1][1].b[1]"
   ]
  },
  {
   "cell_type": "code",
   "execution_count": null,
   "metadata": {},
   "outputs": [],
   "source": [
    "trial_lb = LBasisPotential(ace)\n",
    "ws, int = [100.0, 0.0], false # changed to fitting to just energies\n",
    "\n",
    "lp = PotentialLearning.LinearProblem(trial_train_ds)\n",
    "learn!(lp, ws, int; λ=0.01)\n",
    "\n",
    "resize!(trial_lb.β, length(lp.β))\n",
    "trial_lb.β .= lp.β\n",
    "trial_lb.β0 .= lp.β0\n"
   ]
  },
  {
   "cell_type": "code",
   "execution_count": null,
   "metadata": {},
   "outputs": [],
   "source": [
    "trial_val_indxs = trial_val_indxs[1:500]\n",
    "edescr_trial_val = compute_local_descriptors(base_train[trial_val_indxs], ace)\n",
    "fdescr_trial_val = compute_force_descriptors(base_train[trial_val_indxs], ace)"
   ]
  },
  {
   "cell_type": "code",
   "execution_count": null,
   "metadata": {},
   "outputs": [],
   "source": [
    "trial_val_ds = DataSet(base_train[trial_val_indxs] .+ edescr_trial_val .+ fdescr_trial_val)"
   ]
  },
  {
   "cell_type": "code",
   "execution_count": null,
   "metadata": {},
   "outputs": [],
   "source": [
    "natoms = [length(position(sys)) for sys in get_system.(trial_val_ds)]\n",
    "e_val_trial_ref = get_all_energies(trial_val_ds)\n",
    "epa_val_trial_ref = e_val_trial_ref ./ natoms\n",
    "\n",
    "f_val_trial_ref = get_all_forces(trial_val_ds)"
   ]
  },
  {
   "cell_type": "code",
   "execution_count": null,
   "metadata": {},
   "outputs": [],
   "source": [
    "e_val_trial_pred = get_all_energies(trial_val_ds, trial_lb)\n",
    "epa_val_trial_pred = e_val_trial_pred ./natoms\n",
    "\n",
    "f_val_trial_pred = get_all_forces(trial_val_ds, trial_lb)"
   ]
  },
  {
   "cell_type": "code",
   "execution_count": null,
   "metadata": {},
   "outputs": [],
   "source": [
    "@show epa_mae, epa_rmse, epa_rsq = calc_metrics(epa_val_trial_pred, epa_val_trial_ref) # reran after just fitting to energies"
   ]
  },
  {
   "cell_type": "code",
   "execution_count": null,
   "metadata": {},
   "outputs": [],
   "source": [
    "@show f_mae, f_rmse, f_rsq = calc_metrics(f_val_trial_pred, f_val_trial_ref)"
   ]
  },
  {
   "cell_type": "code",
   "execution_count": null,
   "metadata": {},
   "outputs": [],
   "source": [
    "f_val_trial_pred[1:10\n",
    "]"
   ]
  },
  {
   "cell_type": "code",
   "execution_count": null,
   "metadata": {},
   "outputs": [],
   "source": [
    "f_val_trial_ref[1:10]"
   ]
  },
  {
   "cell_type": "markdown",
   "metadata": {},
   "source": [
    "OK let's push forward, we're going to fit 10 ensemble members"
   ]
  },
  {
   "cell_type": "code",
   "execution_count": null,
   "metadata": {},
   "outputs": [],
   "source": [
    "edescr_base_train = compute_local_descriptors(base_train,ace)\n",
    "fdescr_base_train = compute_force_descriptors(base_train,ace)\n",
    "\n",
    "full_base_train = DataSet(base_train .+ edescr_base_train .+ fdescr_base_train)"
   ]
  },
  {
   "cell_type": "code",
   "execution_count": null,
   "metadata": {},
   "outputs": [],
   "source": [
    "members = Vector{LBasisPotential}()\n",
    "relative2base_cmte_indxs = Dict{Int64, Vector{Int64}}()\n",
    "for i in 1:10\n",
    "    rand_idxs = randperm(3000)[1:750]\n",
    "    lp = PotentialLearning.LinearProblem(full_base_train[rand_idxs])\n",
    "\n",
    "    lb = LBasisPotential(ace)\n",
    "    ws, int = [1.0, 0.0], false # changed to fitting to just energies\n",
    "    learn!(lp, ws, int; λ=0.01)\n",
    "\n",
    "    resize!(lb.β, length(lp.β))\n",
    "    lb.β .= lp.β\n",
    "    lb.β0 .= lp.β0\n",
    "\n",
    "    push!(members, lb)\n",
    "    relative2base_cmte_indxs[i] = rand_idxs\n",
    "end\n"
   ]
  },
  {
   "cell_type": "code",
   "execution_count": null,
   "metadata": {},
   "outputs": [],
   "source": [
    "save(\"ace_cmte1.jld2\", Dict(\"members\" => members,\n",
    "                            \"relative2base_cmte_indxs\" => relative2base_cmte_indxs,\n",
    "                            \"base_train_idxs\" => base_train_idxs))"
   ]
  }
 ],
 "metadata": {
  "language_info": {
   "name": "julia"
  }
 },
 "nbformat": 4,
 "nbformat_minor": 2
}
