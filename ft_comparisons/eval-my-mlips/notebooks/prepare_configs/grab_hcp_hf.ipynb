{
 "cells": [
  {
   "cell_type": "code",
   "execution_count": null,
   "id": "847f1cda",
   "metadata": {},
   "outputs": [],
   "source": [
    "import os\n",
    "from ase.io import write as ase_write\n",
    "from pymatgen.ext.matproj import MPRester\n",
    "from pymatgen.symmetry.analyzer import SpacegroupAnalyzer\n",
    "from pymatgen.io.ase import AseAtomsAdaptor\n"
   ]
  },
  {
   "cell_type": "code",
   "execution_count": null,
   "id": "61e19e52",
   "metadata": {},
   "outputs": [],
   "source": [
    "import os\n",
    "env_var = \"MP_API_KEY\"\n",
    "mp_api_key = os.environ.get(env_var, None)"
   ]
  },
  {
   "cell_type": "code",
   "execution_count": null,
   "id": "73dfc7a1",
   "metadata": {},
   "outputs": [],
   "source": [
    "mp_id=\"mp-103\"\n",
    "with MPRester(mp_api_key) as m:\n",
    "    struct = m.get_structure_by_material_id(mp_id)\n",
    "#struct.to(fmt=\"xsf\", filename=\"Hf_hcp.xsf\")"
   ]
  },
  {
   "cell_type": "code",
   "execution_count": null,
   "id": "c9684b57",
   "metadata": {},
   "outputs": [],
   "source": [
    "sga = SpacegroupAnalyzer(struct, symprec=1e-4)\n",
    "conv = sga.get_conventional_standard_structure()\n",
    "\n",
    "conv_atoms = AseAtomsAdaptor.get_atoms(conv)"
   ]
  },
  {
   "cell_type": "code",
   "execution_count": null,
   "id": "b2dab0a4",
   "metadata": {},
   "outputs": [],
   "source": [
    "ase_write(\"simple_Hf_DATA\", conv_atoms, format=\"lammps-data\", masses=True)"
   ]
  },
  {
   "cell_type": "code",
   "execution_count": null,
   "id": "ad38ae23",
   "metadata": {},
   "outputs": [],
   "source": []
  }
 ],
 "metadata": {
  "language_info": {
   "name": "python"
  }
 },
 "nbformat": 4,
 "nbformat_minor": 5
}
