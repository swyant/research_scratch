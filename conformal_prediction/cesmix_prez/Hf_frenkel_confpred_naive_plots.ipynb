{
 "cells": [
  {
   "cell_type": "code",
   "execution_count": null,
   "metadata": {},
   "outputs": [],
   "source": [
    "using Revise\n",
    "using Pkg; Pkg.activate(\".\")"
   ]
  },
  {
   "cell_type": "code",
   "execution_count": null,
   "metadata": {},
   "outputs": [],
   "source": [
    "using Unitful\n",
    "using PotentialLearning\n",
    "using Random: randperm\n",
    "using JLD2\n",
    "using InteratomicPotentials\n",
    "using AtomsBase, AtomsCalculators\n",
    "using Statistics\n",
    "using CairoMakie, ColorSchemes"
   ]
  },
  {
   "cell_type": "code",
   "execution_count": null,
   "metadata": {},
   "outputs": [],
   "source": [
    "ensemble_members = load(\"ace_cmte1.jld2\", \"members\")"
   ]
  },
  {
   "cell_type": "code",
   "execution_count": null,
   "metadata": {},
   "outputs": [],
   "source": [
    "includet(\"../files/committee_potentials.jl\")\n",
    "includet(\"../files/committee_qois.jl\")"
   ]
  },
  {
   "cell_type": "code",
   "execution_count": null,
   "metadata": {},
   "outputs": [],
   "source": [
    "my_cmte = CommitteePotential(ensemble_members; energy_units=u\"eV\", length_units=u\"Å\")\n",
    "cmte_energy = CmteEnergy(Statistics.std, strip_units=true)"
   ]
  },
  {
   "cell_type": "code",
   "execution_count": null,
   "metadata": {},
   "outputs": [],
   "source": [
    "datasets = load(\"datasets_with_descriptors.jld2\")\n",
    "pristine_base_calib_ds = datasets[\"pristine_base_calib_ds\"]\n",
    "pristine_base_test_ds = datasets[\"pristine_base_test_ds\"]\n",
    "frenkel_base_calib_ds = datasets[\"frenkel_base_calib_ds\"]\n",
    "frenkel_base_test_ds = datasets[\"frenkel_base_test_ds\"]\n",
    "\n"
   ]
  },
  {
   "cell_type": "markdown",
   "metadata": {},
   "source": [
    "Just doing a single qhat for a single energy"
   ]
  },
  {
   "cell_type": "code",
   "execution_count": null,
   "metadata": {},
   "outputs": [],
   "source": [
    "includet(\"../files/conformal_prediction_utils.jl\")"
   ]
  },
  {
   "cell_type": "code",
   "execution_count": null,
   "metadata": {},
   "outputs": [],
   "source": [
    "# from subsampling_dpp.jl in PL.jl examples\n",
    "function concat_dataset(confs::Vector{DataSet})\n",
    "    N = length(confs)\n",
    "    confs_vec = [[confs[i][j] for j = 1:length(confs[i])] for i = 1:N]\n",
    "    confs_all = reduce(vcat, confs_vec)\n",
    "    return DataSet(confs_all)\n",
    "end"
   ]
  },
  {
   "cell_type": "code",
   "execution_count": null,
   "metadata": {},
   "outputs": [],
   "source": [
    "combined_calib_ds = concat_dataset([pristine_base_calib_ds; frenkel_base_calib_ds])\n",
    "orig_combined_test_ds = concat_dataset([pristine_base_test_ds; frenkel_base_test_ds])"
   ]
  },
  {
   "cell_type": "code",
   "execution_count": null,
   "metadata": {},
   "outputs": [],
   "source": [
    "ecalib_pred = [ustrip(PotentialLearning.potential_energy(sys,my_cmte)) for sys in combined_calib_ds]\n",
    "ecalib_ref = [get_values(get_energy(config)) for config in combined_calib_ds]\n",
    "calib_uq = [ustrip(compute(cmte_energy,config,my_cmte)) for config in combined_calib_ds]"
   ]
  },
  {
   "cell_type": "code",
   "execution_count": null,
   "metadata": {},
   "outputs": [],
   "source": [
    "num_test_raw = length(orig_combined_test_ds)\n",
    "rand_idxs = randperm(num_test_raw)\n",
    "combined_test_ds = orig_combined_test_ds[rand_idxs]"
   ]
  },
  {
   "cell_type": "code",
   "execution_count": null,
   "metadata": {},
   "outputs": [],
   "source": [
    "# Already random, so just take every two\n",
    "ediff_test_ref = Float64[]\n",
    "ediff_test_pred = Float64[]\n",
    "ediff_test_uq = Float64[]\n",
    "sys1_uqs = Float64[]\n",
    "sys2_uqs = Float64[]\n",
    "\n",
    "sys1_epreds = Float64[]\n",
    "sys2_epreds = Float64[]\n",
    "for i in 1:2:length(combined_test_ds)\n",
    "    sys1 = combined_test_ds[i]\n",
    "    sys2 = combined_test_ds[i+1]\n",
    "    e1_ref = ustrip(get_values(get_energy(sys1)))\n",
    "    e2_ref = ustrip(get_values(get_energy(sys2)))\n",
    "\n",
    "    push!(ediff_test_ref, e2_ref - e1_ref)\n",
    "\n",
    "    e1_pred = ustrip(PotentialLearning.potential_energy(sys1,my_cmte))\n",
    "    push!(sys1_epreds,e1_pred)\n",
    "    e2_pred = ustrip(PotentialLearning.potential_energy(sys2,my_cmte))\n",
    "    push!(sys2_epreds,e2_pred)\n",
    "\n",
    "    push!(ediff_test_pred, e2_pred - e1_pred)\n",
    "\n",
    "    sys1_uq = ustrip(compute(cmte_energy,sys1,my_cmte))\n",
    "    push!(sys1_uqs,sys1_uq)\n",
    "    sys2_uq = ustrip(compute(cmte_energy,sys2,my_cmte))\n",
    "    push!(sys2_uqs,sys2_uq)\n",
    "end"
   ]
  },
  {
   "cell_type": "code",
   "execution_count": null,
   "metadata": {},
   "outputs": [],
   "source": [
    "# for each (sys1,sys2) pair, output (low,high) for the prediction set of the energy difference\n",
    "function compute_ediff_prediction_sets(sys1_epreds,\n",
    "    sys2_epreds,\n",
    "    sys1_uqs,\n",
    "    sys2_uqs,\n",
    "    qhat)\n",
    "ediff_prediction_sets = Vector{Tuple{Float64,Float64}}()\n",
    "for idx in 1:length(sys1_epreds)\n",
    "band1 = qhat*sys1_uqs[idx]\n",
    "band2 = qhat*sys2_uqs[idx]\n",
    "\n",
    "upper_2 = sys2_epreds[idx] + band2\n",
    "lower_1 = sys1_epreds[idx] - band1\n",
    "bound1 = upper_2 - lower_1\n",
    "\n",
    "lower_2 = sys2_epreds[idx] - band2\n",
    "upper_1 = sys1_epreds[idx] + band1\n",
    "bound2 = lower_2 - upper_1\n",
    "\n",
    "push!(ediff_prediction_sets, tuple(sort([bound1,bound2])...))\n",
    "end\n",
    "\n",
    "ediff_prediction_sets\n",
    "end"
   ]
  },
  {
   "cell_type": "code",
   "execution_count": null,
   "metadata": {},
   "outputs": [],
   "source": [
    "# for each (sys1,sys2) pair, output (low,high) for the prediction set of the energy difference\n",
    "function correct_conservative_ediff_pred_sets(sys1_epreds,\n",
    "    sys2_epreds,\n",
    "    sys1_uqs,\n",
    "    sys2_uqs,\n",
    "    qhat)\n",
    "ediff_prediction_sets = Vector{Tuple{Float64,Float64}}()\n",
    "for idx in 1:length(sys1_epreds)\n",
    "band1 = qhat*sys1_uqs[idx]\n",
    "band2 = qhat*sys2_uqs[idx]\n",
    "\n",
    "upper_2 = sys2_epreds[idx] + band2\n",
    "lower_1 = sys1_epreds[idx] - band1\n",
    "\n",
    "lower_2 = sys2_epreds[idx] - band2\n",
    "upper_1 = sys1_epreds[idx] + band1\n",
    "\n",
    "bound1 = upper_2 - lower_1\n",
    "bound2 = upper_2 - upper_1\n",
    "bound3 = lower_2 - upper_1\n",
    "bound4 = lower_2 - lower_1\n",
    "\n",
    "max_bound = maximum([bound1,bound2,bound3,bound4])\n",
    "min_bound = minimum([bound1,bound2,bound3,bound4])\n",
    "push!(ediff_prediction_sets, (min_bound,max_bound))\n",
    "end\n",
    "\n",
    "ediff_prediction_sets\n",
    "end"
   ]
  },
  {
   "cell_type": "code",
   "execution_count": null,
   "metadata": {},
   "outputs": [],
   "source": [
    "num_test_ediff = length(ediff_test_ref)\n",
    "alpha_compls = collect(range(0.01,0.99,step=0.01))\n",
    "alpha_refs = 1 .- alpha_compls # i.e. iterate 0.99..0.01, but will then plot as 1-0.99...1-0.01\n",
    "\n",
    "conservative_predicted_alphas = Float64[]\n",
    "for alpha in alpha_refs\n",
    "    qh = calibrate(ecalib_pred, ecalib_ref, calib_uq, alpha)\n",
    "    ediff_pred_sets = correct_conservative_ediff_pred_sets(sys1_epreds,\n",
    "                                                sys2_epreds,\n",
    "                                                sys1_uqs,\n",
    "                                                sys2_uqs,\n",
    "                                                qh)\n",
    "\n",
    "    ediff_low_bounds = [bound[1] for bound in ediff_pred_sets]\n",
    "    ediff_high_bounds = [bound[2] for bound in ediff_pred_sets]\n",
    "    predicted_alpha_compl = sum(ediff_low_bounds .<= ediff_test_ref .<= ediff_high_bounds) / num_test_ediff\n",
    "    push!(conservative_predicted_alphas, 1.0 - predicted_alpha_compl)\n",
    "end"
   ]
  },
  {
   "cell_type": "code",
   "execution_count": null,
   "metadata": {},
   "outputs": [],
   "source": [
    "using ColorSchemes\n",
    "\n",
    "function make_custom_calibration_plot(expected_ps, observed_ps;\n",
    "                                      width=600,\n",
    "                                      colormap=:viridis,\n",
    "                                      color_value=0.6,  # Value between 0-1 in the colormap\n",
    "                                      main_line_width=3.0,\n",
    "                                      band_alpha=0.2,\n",
    "                                      axis_color=:black,\n",
    "                                      text_size=18,\n",
    "                                      label_size=22,\n",
    "                                      grid_visible=true,\n",
    "                                      grid_color=(:gray, 0.3),\n",
    "                                      grid_width=0.5)\n",
    "    # Convert to percentages\n",
    "    #expected_ps = expected_ps .* 100\n",
    "    #observed_ps = observed_ps .* 100\n",
    "    expected_ps = (1.0 .- expected_ps).* 100\n",
    "    observed_ps = (1.0 .- observed_ps).* 100\n",
    "\n",
    "    # Get color from colormap\n",
    "    colormap = :lajolla\n",
    "    #axis_color = get(ColorSchemes.colorschemes[colormap], 0.4)\n",
    "    #grid_color = (axis_color, 0.3)\n",
    "    base_band_color = get(ColorSchemes.colorschemes[colormap], 0.45)\n",
    "    band_color = (base_band_color, band_alpha)\n",
    "\n",
    "    line_color = get(ColorSchemes.colorschemes[colormap], 0.4)\n",
    "\n",
    "    fig = Figure(resolution=(width, width), fontsize=text_size, figure_padding=30)\n",
    "    ax = Axis(fig[1, 1],\n",
    "        aspect=DataAspect(),\n",
    "        xlabel=\"Expected Confidence Level\",\n",
    "        ylabel=\"Observed Confidence Level\",\n",
    "        limits=(0, 100, 0, 100),\n",
    "        xlabelsize=label_size,\n",
    "        ylabelsize=label_size,\n",
    "        xticklabelsize=text_size,\n",
    "        yticklabelsize=text_size,\n",
    "        spinewidth=1.5,\n",
    "        xgridvisible=grid_visible,\n",
    "        ygridvisible=grid_visible,\n",
    "        xgridcolor=grid_color,\n",
    "        ygridcolor=grid_color,\n",
    "        xgridwidth=grid_width,\n",
    "        ygridwidth=grid_width\n",
    "    )\n",
    "\n",
    "    #Set spine and tick colors\n",
    "    ax.bottomspinecolor = axis_color\n",
    "    ax.leftspinecolor = axis_color\n",
    "    ax.rightspinecolor = axis_color\n",
    "    ax.topspinecolor = axis_color\n",
    "\n",
    "    ax.xticklabelcolor = axis_color\n",
    "    ax.yticklabelcolor = axis_color\n",
    "    ax.xlabelcolor = axis_color\n",
    "    ax.ylabelcolor = axis_color\n",
    "\n",
    "    # Main line - made bolder\n",
    "    lines!(ax, expected_ps, observed_ps, color=line_color, linewidth=main_line_width)\n",
    "\n",
    "    # Diagonal reference line\n",
    "    lines!(ax, expected_ps, expected_ps, linestyle=:dash, color=line_color, alpha=0.6, linewidth=1.5)\n",
    "\n",
    "    # Filled area between curves\n",
    "    band!(ax, expected_ps, expected_ps, observed_ps, color=band_color)\n",
    "    #band!(ax, expected_ps, expected_ps, observed_ps, color=(:blue, 0.2))\n",
    "\n",
    "    # Configure ticks\n",
    "    ax.xticks = 0:20:100\n",
    "    ax.yticks = 0:20:100\n",
    "\n",
    "    # Add percentage signs to ticks\n",
    "    ax.xtickformat = xs -> [\"$(Int(x))%\" for x in xs]\n",
    "    ax.ytickformat = xs -> [\"$(Int(x))%\" for x in xs]\n",
    "\n",
    "    return fig\n",
    "end"
   ]
  },
  {
   "cell_type": "code",
   "execution_count": null,
   "metadata": {},
   "outputs": [],
   "source": [
    "naive_fig = make_custom_calibration_plot(alpha_refs,conservative_predicted_alphas; text_size=24, label_size=28)\n",
    "save(\"naive_calibration.svg\", naive_fig)"
   ]
  },
  {
   "cell_type": "code",
   "execution_count": null,
   "metadata": {},
   "outputs": [],
   "source": [
    "compute_miscalibration_area(alpha_refs,conservative_predicted_alphas)"
   ]
  },
  {
   "cell_type": "code",
   "execution_count": null,
   "metadata": {},
   "outputs": [],
   "source": []
  }
 ],
 "metadata": {
  "language_info": {
   "name": "julia"
  }
 },
 "nbformat": 4,
 "nbformat_minor": 2
}
