{
 "cells": [
  {
   "cell_type": "code",
   "execution_count": null,
   "id": "ff3645b8",
   "metadata": {},
   "outputs": [],
   "source": [
    "import dakota.interfacing"
   ]
  },
  {
   "cell_type": "code",
   "execution_count": null,
   "id": "eaa67701",
   "metadata": {},
   "outputs": [],
   "source": []
  }
 ],
 "metadata": {
  "language_info": {
   "name": "python"
  }
 },
 "nbformat": 4,
 "nbformat_minor": 5
}
