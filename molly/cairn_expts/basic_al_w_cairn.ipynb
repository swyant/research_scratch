{
 "cells": [
  {
   "cell_type": "code",
   "execution_count": null,
   "metadata": {},
   "outputs": [],
   "source": [
    "using Pkg; Pkg.activate(\".\")\n",
    "using Cairn\n",
    "using Molly \n",
    "using PotentialLearning\n",
    "using LinearAlgebra\n",
    "using SpecialPolynomials\n",
    "include(\"/Users/swyant/cesmix/dev/Cairn.jl/src/makie/makie.jl\") # Also uses ActiveSubspaces\n",
    "include(\"./my_misc_utils.jl\")"
   ]
  },
  {
   "cell_type": "code",
   "execution_count": null,
   "metadata": {},
   "outputs": [],
   "source": [
    "Pkg.status()"
   ]
  },
  {
   "cell_type": "code",
   "execution_count": null,
   "metadata": {},
   "outputs": [],
   "source": [
    "ref = Himmelblau()\n",
    "limits = [[-6.25,6.25],[-5.75,5.75]] # boundaries of main support"
   ]
  },
  {
   "cell_type": "code",
   "execution_count": null,
   "metadata": {},
   "outputs": [],
   "source": [
    "temp = 100.0u\"K\"\n",
    "\n",
    "sim_langevin = OverdampedLangevin(  dt=0.002u\"ps\",\n",
    "                                    temperature=temp,\n",
    "                                    friction=1.0u\"ps^-1\")\n",
    "sys0 = init_trajectory(ref, [4.5, -2], logstep=100)\n",
    "sys  = deepcopy(sys0)\n",
    "@time simulate!(sys, sim_langevin, 1_000_000)"
   ]
  },
  {
   "cell_type": "code",
   "execution_count": null,
   "metadata": {},
   "outputs": [],
   "source": [
    "# for plotting\n",
    "dist_units = u\"nm\"\n",
    "xcoord = Vector(limits[1][1]:0.05:limits[1][2]) .* dist_units\n",
    "ycoord = Vector(limits[2][1]:0.05:limits[2][2]) .* dist_units \n",
    "ctr_grid = [xcoord, ycoord]\n",
    "ctr_lvls = 0:25:350\n",
    "\n",
    "# plot\n",
    "f0 = plot_md_trajectory(sys, ctr_grid, fill=true, lvls=ctr_lvls)"
   ]
  },
  {
   "cell_type": "code",
   "execution_count": null,
   "metadata": {},
   "outputs": [],
   "source": [
    "pce = PolynomialChaos(5, 2, Jacobi{0.5,0.5}, xscl=limits)"
   ]
  },
  {
   "cell_type": "code",
   "execution_count": null,
   "metadata": {},
   "outputs": [],
   "source": [
    "\n",
    "# initialize system properties\n",
    "atom_mass = 1.0u\"g/mol\"\n",
    "boundary = RectangularBoundary(Inf*u\"nm\")"
   ]
  },
  {
   "cell_type": "code",
   "execution_count": null,
   "metadata": {},
   "outputs": [],
   "source": [
    "x_train = [[3.8464987622491895, -1.7801390420313014],\n",
    "[4.096079218176701, -1.9623723102484034],\n",
    "[3.794900754980532, -2.0790635268608757],\n",
    "[3.2997659303869744, -2.2798944543828574],\n",
    "[3.3921279139032157, -2.1410288797166183],\n",
    "[3.5889845930605545, -2.103609154541564],\n",
    "[3.367066701220913, -1.3277818179304328],\n",
    "[3.7936780458955686, -2.457270634134617],\n",
    "[3.4604931855508254, -1.6495593869168982],\n",
    "[3.591850102112664, -2.390778252852719],\n",
    "[3.8764987622491895, -1.8101390420313014],\n",
    "[4.066079218176701, -1.9323723102484034],\n",
    "[3.824900754980532, -2.1090635268608757],\n",
    "[3.2697659303869744, -2.2498944543828574],\n",
    "[3.4221279139032157, -2.1710288797166183],\n",
    "[3.5589845930605545, -2.133609154541564],\n",
    "[3.397066701220913, -1.3577818179304328],\n",
    "[3.8236780458955686, -2.427270634134617],\n",
    "[3.4304931855508254, -1.6195593869168982],\n",
    "[3.561850102112664, -2.420778252852719],\n",
    "[3.691850102112664, -2.290778252852719]]\n",
    "\n",
    "coords_train = [SVector(x[1], x[2])u\"nm\" for x in x_train]\n",
    "ntrain = length(coords_train)\n",
    "atoms_train = [Atom(mass=atom_mass, σ=1.0u\"nm\", ϵ=1.0u\"kJ * mol^-1\") for i in 1:ntrain]\n",
    "\n",
    "sys0 = [System(\n",
    "    atoms=[atoms_i],\n",
    "    coords=[coords_i],\n",
    "    boundary=boundary,\n",
    "    general_inters=(pce,), # doesn't actually get used with training though, since these systems are eval'd with himmelblau\n",
    "    # k = 1.0u\"kJ * K^-1 * mol^-1\",\n",
    ") for (atoms_i, coords_i) in zip(atoms_train, coords_train)]"
   ]
  },
  {
   "cell_type": "code",
   "execution_count": null,
   "metadata": {},
   "outputs": [],
   "source": [
    "pce0 = deepcopy(pce)\n",
    "train_potential_e!(sys0, ref, pce0) # wts=[1e4,1])"
   ]
  },
  {
   "cell_type": "code",
   "execution_count": null,
   "metadata": {},
   "outputs": [],
   "source": [
    "# plot\n",
    "ctr_lvls0 = -125:25:400\n",
    "f0, ax0 = plot_contours_2D(pce0, xcoord, ycoord; fill=true, lvls=ctr_lvls0)\n",
    "coordmat = reduce(hcat, get_values(coords_train))'\n",
    "scatter!(ax0, coordmat[:,1], coordmat[:,2], color=:red, label=\"training points\")\n",
    "axislegend(ax0)\n",
    "f0"
   ]
  },
  {
   "cell_type": "code",
   "execution_count": null,
   "metadata": {},
   "outputs": [],
   "source": [
    "ens0 = [System(\n",
    "    atoms=[atoms_i],\n",
    "    coords=[coords_i],\n",
    "    boundary=boundary,\n",
    "    general_inters=(pce0,), # this does get used this time\n",
    "    # k = 1.0u\"kJ * K^-1 * mol^-1\",\n",
    "    loggers=(\n",
    "        coords=CoordinateLogger(1; dims=2),\n",
    "        ksd=StepComponentLogger(1; dims=2),\n",
    "        # trigger=TriggerLogger(trigger2, 1),\n",
    "        params=TrainingLogger(),\n",
    "    )\n",
    ") for (atoms_i, coords_i) in zip(atoms_train[1:10], coords_train[1:10])] # note that these could have been at any points, arbitrarily taken to be the first ten training configs. Totally separate from training and the subsequent \"fixed\" points below"
   ]
  },
  {
   "cell_type": "code",
   "execution_count": null,
   "metadata": {},
   "outputs": [],
   "source": [
    "# define kernel\n",
    "rbf = RBF(Euclidean(2), β=0.2)\n",
    "\n",
    "# define fixed system using initial PCE potential\n",
    "sys_fix = [System(\n",
    "    atoms=[atoms_i],\n",
    "    coords=[coords_i],\n",
    "    boundary=boundary,\n",
    "    general_inters=(pce0,),\n",
    "    # k = 1.0u\"kJ * K^-1 * mol^-1\",\n",
    ") for (atoms_i, coords_i) in zip(atoms_train, coords_train)]\n",
    "\n",
    "# define simulator\n",
    "sim_svgd = StochasticSVGD(\n",
    "            dt=0.002u\"ps\",\n",
    "            kernel=rbf,\n",
    "            kernel_bandwidth=median_kernel_bandwidth,\n",
    "            sys_fix=sys_fix,\n",
    "            temperature=temp,\n",
    "            friction=1.0u\"ps^-1\")"
   ]
  },
  {
   "cell_type": "code",
   "execution_count": null,
   "metadata": {},
   "outputs": [],
   "source": [
    "trigger1 = TimeInterval(interval=1000)"
   ]
  },
  {
   "cell_type": "code",
   "execution_count": null,
   "metadata": {},
   "outputs": [],
   "source": [
    "# evaluation set: grid over main support\n",
    "potential(coords) = Cairn.potential_himmelblau(ref, coords) # note that for himmelblau, potential_energy calls out to this function, just intended to do so over a set of atoms. \n",
    "coords_eval = potential_grid_points(potential, limits, 0.2, cutoff = 400) # only consider points on grid less than some cutoff\n",
    "sys_eval = define_sys(ref, coords_eval, boundary)\n",
    "\n",
    "# use grid to define uniform quadrature points\n",
    "ξ = [ustrip.(Vector(coords)) for coords in coords_eval]\n",
    "GQint = GaussQuadrature(ξ, ones(length(ξ))./length(ξ))"
   ]
  },
  {
   "cell_type": "code",
   "execution_count": null,
   "metadata": {},
   "outputs": [],
   "source": [
    "\n",
    "al1 = ActiveLearnRoutine(\n",
    "    ref,\n",
    "    pce0,\n",
    "    sys_fix,\n",
    "    GQint,\n",
    "    trigger1,\n",
    "    Dict(\"fd\" => [], \"rmse_e\" => [], \"rmse_f\" => []),\n",
    "    train_func = train_potential_e!,\n",
    ")\n",
    "     "
   ]
  },
  {
   "cell_type": "code",
   "execution_count": null,
   "metadata": {},
   "outputs": [],
   "source": [
    "\n",
    "ens = deepcopy(ens0)\n",
    "al1, bwd = active_learn!(ens, sim_svgd, 12_000, al1)"
   ]
  },
  {
   "cell_type": "code",
   "execution_count": null,
   "metadata": {},
   "outputs": [],
   "source": [
    "ens[1].loggers.ksd.history"
   ]
  },
  {
   "cell_type": "code",
   "execution_count": null,
   "metadata": {},
   "outputs": [],
   "source": [
    "f = plot_md_trajectory(ens, al1.sys_train, ctr_grid, fill=false, lvls=ctr_lvls0, showpath=false)"
   ]
  },
  {
   "cell_type": "code",
   "execution_count": null,
   "metadata": {},
   "outputs": [],
   "source": []
  },
  {
   "cell_type": "code",
   "execution_count": null,
   "metadata": {},
   "outputs": [],
   "source": [
    "#MaxVol \n",
    "function basis_eval(sys_train::Vector{<:System}, pce::PolynomialChaos)\n",
    "    coords = get_coords(sys_train)\n",
    "    xtrain = [ustrip.(coord[1]) for coord in coords]\n",
    "    A = reduce(hcat, eval_basis.(xtrain, (pce,)))'\n",
    "    return A\n",
    "end\n",
    "\n",
    "trigger2 = MaxVol(x -> basis_eval(x, pce0), thresh=1.22) # this constructor uses the extrap_grade fn, and the assumption is that x will be the training set"
   ]
  },
  {
   "cell_type": "code",
   "execution_count": null,
   "metadata": {},
   "outputs": [],
   "source": [
    "al2 = ActiveLearnRoutine(\n",
    "    ref,\n",
    "    pce0,\n",
    "    sys_fix,\n",
    "    GQint,\n",
    "    trigger2,\n",
    "    Dict(\"fd\" => [], \"rmse_e\" => [], \"rmse_f\" => []),\n",
    "    train_func = train_potential_e!,\n",
    "    burnin=100,\n",
    ")\n",
    "     "
   ]
  },
  {
   "cell_type": "code",
   "execution_count": null,
   "metadata": {},
   "outputs": [],
   "source": [
    "\n",
    "ens = deepcopy(ens0)\n",
    "al2, bwd = active_learn!(ens, sim_svgd, 12_000, al2)"
   ]
  },
  {
   "cell_type": "code",
   "execution_count": null,
   "metadata": {},
   "outputs": [],
   "source": [
    "f = plot_md_trajectory(ens, al2.sys_train, ctr_grid, fill=false, lvls=ctr_lvls0, showpath=false)"
   ]
  },
  {
   "cell_type": "code",
   "execution_count": null,
   "metadata": {},
   "outputs": [],
   "source": [
    "f = Figure(size = (900, 800))\n",
    "ax1 = Axis(f[1,1],\n",
    "    xlabel=\"no. simulation steps (t)\",\n",
    "    ylabel=\"Fisher divergence\", \n",
    "    title=\"Median discrepancy in distribution\",\n",
    "    xgridvisible=false,\n",
    "    ygridvisible=false,\n",
    "    # yscale=log10\n",
    "    )\n",
    "\n",
    "err = al1.error_hist[\"rmse_e\"]\n",
    "alsteps = al1.train_steps\n",
    "err_vec1 = reduce(vcat, [err[i].*ones(alsteps[i+1]-alsteps[i]) for i = 1:length(err)-1])\n",
    "lines!(ax1, 1:length(err_vec1), err_vec1, color=:skyblue1, label=\"TimeInterval trigger\")\n",
    "# [vlines!(ax1, alsteps[i], color=(:skyblue1,0.5), linestyle=:dash) for i = 1:length(alsteps)]\n",
    "\n",
    "err = al2.error_hist[\"rmse_e\"]\n",
    "alsteps = al2.train_steps\n",
    "err_vec2 = reduce(vcat, [err[i].*ones(alsteps[i+1]-alsteps[i]) for i = 1:length(err)-1])\n",
    "lines!(ax1, 1:length(err_vec2), err_vec2, color=:orange, label=\"MaxVol trigger\")\n",
    "# [vlines!(ax1, alsteps[i], color=(:orange,0.5), linestyle=:dash) for i = 1:length(alsteps)]\n",
    "\n",
    "axislegend(ax1)\n",
    "f\n",
    "     "
   ]
  },
  {
   "cell_type": "code",
   "execution_count": null,
   "metadata": {},
   "outputs": [],
   "source": []
  }
 ],
 "metadata": {
  "language_info": {
   "name": "julia"
  }
 },
 "nbformat": 4,
 "nbformat_minor": 2
}
