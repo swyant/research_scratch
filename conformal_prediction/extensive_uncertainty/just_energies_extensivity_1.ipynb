{
 "cells": [
  {
   "cell_type": "markdown",
   "id": "de2ae573",
   "metadata": {},
   "source": [
    "Main result of this one was re-computing all the descriptors for the training data and saving it to a jld2. Also got a qhat at the end just to re-familiarize myself."
   ]
  },
  {
   "cell_type": "code",
   "execution_count": null,
   "id": "679aaa3a",
   "metadata": {},
   "outputs": [],
   "source": [
    "using Revise\n",
    "using Pkg; Pkg.activate(\".\")"
   ]
  },
  {
   "cell_type": "code",
   "execution_count": null,
   "id": "42d670bf",
   "metadata": {},
   "outputs": [],
   "source": [
    "using Unitful\n",
    "using PotentialLearning\n",
    "using Random: randperm\n",
    "using JLD2\n",
    "using InteratomicPotentials\n",
    "using AtomsBase, AtomsCalculators\n",
    "using Statistics\n",
    "using CairoMakie, ColorSchemes"
   ]
  },
  {
   "cell_type": "code",
   "execution_count": null,
   "id": "d3ace1f6",
   "metadata": {},
   "outputs": [],
   "source": [
    "ace_cmte_dict = load(\"../cesmix_prez/ace_cmte1.jld2\")\n",
    "ensemble_members = ace_cmte_dict[\"members\"]\n",
    "base_train_idxs = ace_cmte_dict[\"base_train_idxs\"]"
   ]
  },
  {
   "cell_type": "markdown",
   "id": "fdf9ea11",
   "metadata": {},
   "source": [
    "For the PCA and to fit the extensivity model, I need access to the initial training set. \n",
    "So I need to read in these files again, slice the appropriate portion of them, and recompute the training descriptors"
   ]
  },
  {
   "cell_type": "code",
   "execution_count": null,
   "id": "847ef901",
   "metadata": {},
   "outputs": [],
   "source": [
    "pristine_base_train = Vector{DataSet}()\n",
    "frenkel_base_train = Vector{DataSet}()\n",
    "\n",
    "tag = :pristine\n",
    "for i in 1:5\n",
    "    println(i)\n",
    "    indxs = base_train_idxs[(tag,i)]\n",
    "    configs = load_data(\"./data/pristine_$(i).xyz\", ExtXYZ(u\"eV\", u\"Å\"))\n",
    "\n",
    "    push!(pristine_base_train, configs[indxs])\n",
    "end\n",
    "\n",
    "tag = :frenkel\n",
    "for i in 1:5\n",
    "    println(i)\n",
    "    indxs = base_train_idxs[(tag,i)]\n",
    "    configs = load_data(\"./data/frenkel_$(i).xyz\", ExtXYZ(u\"eV\", u\"Å\"))\n",
    "\n",
    "    push!(frenkel_base_train, configs[indxs])\n",
    "end"
   ]
  },
  {
   "cell_type": "code",
   "execution_count": null,
   "id": "2bf0447a",
   "metadata": {},
   "outputs": [],
   "source": [
    "# from subsampling_dpp.jl in PL.jl examples\n",
    "function concat_dataset(confs::Vector{DataSet})\n",
    "    N = length(confs)\n",
    "    confs_vec = [[confs[i][j] for j = 1:length(confs[i])] for i = 1:N]\n",
    "    confs_all = reduce(vcat, confs_vec)\n",
    "    return DataSet(confs_all)\n",
    "end"
   ]
  },
  {
   "cell_type": "code",
   "execution_count": null,
   "id": "f647da59",
   "metadata": {},
   "outputs": [],
   "source": [
    "concat_frenkel_base_train = concat_dataset(frenkel_base_train)\n",
    "concat_pristine_base_train = concat_dataset(pristine_base_train)"
   ]
  },
  {
   "cell_type": "code",
   "execution_count": null,
   "id": "4820d4fe",
   "metadata": {},
   "outputs": [],
   "source": [
    "ace = ACE(species            = [:Hf],\n",
    "          body_order         = 4,\n",
    "          polynomial_degree  = 10,\n",
    "          wL                 = 1.5,\n",
    "          csp                = 1.0,\n",
    "          r0                 = 2.15,\n",
    "          rcutoff            = 5.0)"
   ]
  },
  {
   "cell_type": "code",
   "execution_count": null,
   "id": "a268e6f7",
   "metadata": {},
   "outputs": [],
   "source": [
    "edescr_frenkel_train = compute_local_descriptors(concat_frenkel_base_train,ace)\n",
    "fdescr_frenkel_train = compute_force_descriptors(concat_frenkel_base_train,ace)"
   ]
  },
  {
   "cell_type": "code",
   "execution_count": null,
   "id": "7f8cce33",
   "metadata": {},
   "outputs": [],
   "source": [
    "edescr_pristine_train = compute_local_descriptors(concat_pristine_base_train,ace)\n",
    "fdescr_pristine_train = compute_force_descriptors(concat_pristine_base_train,ace)"
   ]
  },
  {
   "cell_type": "markdown",
   "id": "9c40f2c1",
   "metadata": {},
   "source": [
    "Really need to investigate why the energy descriptors are so much slower than the force descriptors. Something is very obviously wrong here. "
   ]
  },
  {
   "cell_type": "code",
   "execution_count": null,
   "id": "4160d946",
   "metadata": {},
   "outputs": [],
   "source": [
    "pristine_train_ds = DataSet(concat_pristine_base_train .+ edescr_pristine_train .+ fdescr_pristine_train)\n",
    "frenkel_train_ds = DataSet(concat_frenkel_base_train .+ edescr_frenkel_train .+ fdescr_frenkel_train)"
   ]
  },
  {
   "cell_type": "code",
   "execution_count": null,
   "id": "924d7982",
   "metadata": {},
   "outputs": [],
   "source": [
    "save(\"training_data.jld2\", Dict(\"frenkel_train_ds\"  => frenkel_train_ds,\n",
    "                                \"pristine_train_ds\" => pristine_train_ds))"
   ]
  },
  {
   "cell_type": "code",
   "execution_count": null,
   "id": "b931bd5b",
   "metadata": {},
   "outputs": [],
   "source": [
    "includet(\"../files/conformal_prediction_utils.jl\")\n",
    "includet(\"../files/committee_potentials.jl\")\n",
    "includet(\"../files/committee_qois.jl\")"
   ]
  },
  {
   "cell_type": "code",
   "execution_count": null,
   "id": "7438c1ec",
   "metadata": {},
   "outputs": [],
   "source": [
    "my_cmte = CommitteePotential(ensemble_members; energy_units=u\"eV\", length_units=u\"Å\")\n",
    "cmte_energy = CmteEnergy(Statistics.std, strip_units=true)"
   ]
  },
  {
   "cell_type": "code",
   "execution_count": null,
   "id": "b02888ef",
   "metadata": {},
   "outputs": [],
   "source": [
    "calibtest_datasets = load(\"../cesmix_prez/datasets_with_descriptors.jld2\")\n",
    "pristine_base_calib_ds = calibtest_datasets[\"pristine_base_calib_ds\"]\n",
    "pristine_base_test_ds = calibtest_datasets[\"pristine_base_test_ds\"]\n",
    "frenkel_base_calib_ds = calibtest_datasets[\"frenkel_base_calib_ds\"]\n",
    "frenkel_base_test_ds = calibtest_datasets[\"frenkel_base_test_ds\"]"
   ]
  },
  {
   "cell_type": "code",
   "execution_count": null,
   "id": "5ed8bc95",
   "metadata": {},
   "outputs": [],
   "source": [
    "includet(\"../files/conformal_prediction_utils.jl\")"
   ]
  },
  {
   "cell_type": "code",
   "execution_count": null,
   "id": "0ce5b486",
   "metadata": {},
   "outputs": [],
   "source": [
    "combined_calib_ds = concat_dataset([pristine_base_calib_ds; frenkel_base_calib_ds])\n",
    "combined_test_ds = concat_dataset([pristine_base_test_ds; frenkel_base_test_ds])"
   ]
  },
  {
   "cell_type": "code",
   "execution_count": null,
   "id": "2b4a94d2",
   "metadata": {},
   "outputs": [],
   "source": [
    "ecalib_pred = [ustrip(PotentialLearning.potential_energy(sys,my_cmte)) for sys in combined_calib_ds]\n",
    "ecalib_ref = [get_values(get_energy(config)) for config in combined_calib_ds]\n",
    "calib_uq = [ustrip(compute(cmte_energy,config,my_cmte)) for config in combined_calib_ds]\n",
    "\n",
    "qhat = calibrate(ecalib_pred, ecalib_ref, calib_uq, 0.1)"
   ]
  },
  {
   "cell_type": "code",
   "execution_count": null,
   "id": "4dfa06d8",
   "metadata": {},
   "outputs": [],
   "source": [
    "etest_pred = [ustrip(PotentialLearning.potential_energy(config,my_cmte)) for config in combined_test_ds]\n",
    "etest_ref = [ustrip(get_values(get_energy(config))) for config in combined_test_ds]\n",
    "test_uq = [ustrip(compute(cmte_energy, config, my_cmte)) for config in combined_test_ds]\n",
    "\n",
    "num_test = length(etest_pred)\n",
    "test_abs_residuals = abs.(etest_pred .- etest_ref)"
   ]
  },
  {
   "cell_type": "code",
   "execution_count": null,
   "id": "f62a5d9d",
   "metadata": {},
   "outputs": [],
   "source": [
    "qhat_scores = qhat*test_uq\n",
    "coverage = sum(test_abs_residuals .> qhat_scores) / num_test"
   ]
  },
  {
   "cell_type": "code",
   "execution_count": null,
   "id": "9343a09d",
   "metadata": {},
   "outputs": [],
   "source": []
  }
 ],
 "metadata": {
  "language_info": {
   "name": "julia"
  }
 },
 "nbformat": 4,
 "nbformat_minor": 5
}
