{
 "cells": [
  {
   "cell_type": "code",
   "execution_count": null,
   "id": "9ec1271e",
   "metadata": {},
   "outputs": [],
   "source": [
    "import os\n",
    "\n",
    "from ase.io import write as ase_write\n",
    "from ase.optimize import BFGS\n",
    "from ase import Atoms\n",
    "\n",
    "from pymatgen.ext.matproj import MPRester\n",
    "from pymatgen.symmetry.analyzer import SpacegroupAnalyzer\n",
    "from pymatgen.io.ase import AseAtomsAdaptor"
   ]
  },
  {
   "cell_type": "code",
   "execution_count": null,
   "id": "93fc598a",
   "metadata": {},
   "outputs": [],
   "source": [
    "import os\n",
    "env_var = \"MP_API_KEY\"\n",
    "mp_api_key = os.environ.get(env_var, None)"
   ]
  },
  {
   "cell_type": "code",
   "execution_count": null,
   "id": "9f0f18db",
   "metadata": {},
   "outputs": [],
   "source": [
    "mp_id=\"mp-149\"\n",
    "with MPRester(mp_api_key) as m:\n",
    "    struct = m.get_structure_by_material_id(mp_id)"
   ]
  },
  {
   "cell_type": "code",
   "execution_count": null,
   "id": "5431e5f6",
   "metadata": {},
   "outputs": [],
   "source": [
    "sga = SpacegroupAnalyzer(struct, symprec=1e-4)\n",
    "conv = sga.get_conventional_standard_structure()\n",
    "\n",
    "conv_atoms = AseAtomsAdaptor.get_atoms(conv)"
   ]
  },
  {
   "cell_type": "code",
   "execution_count": null,
   "id": "66556ee4",
   "metadata": {},
   "outputs": [],
   "source": [
    "import copy\n",
    "si_333 = conv_atoms.repeat((3,3,3))\n",
    "orig_si_333 = copy.deepcopy(si_333)"
   ]
  },
  {
   "cell_type": "code",
   "execution_count": null,
   "id": "8b3a89e3",
   "metadata": {},
   "outputs": [],
   "source": [
    "ase_write(\"si333_DATA\", si_333, format=\"lammps-data\", masses=True)"
   ]
  },
  {
   "cell_type": "code",
   "execution_count": null,
   "id": "e1a5b50f",
   "metadata": {},
   "outputs": [],
   "source": [
    "from mace.calculators import MACECalculator\n",
    "mace_calc = MACECalculator(model_paths=\"../../models/mace-mpa-0-medium.model\", device=\"cpu\")"
   ]
  },
  {
   "cell_type": "code",
   "execution_count": null,
   "id": "894b1e88",
   "metadata": {},
   "outputs": [],
   "source": [
    "si_333.set_calculator(mace_calc)"
   ]
  },
  {
   "cell_type": "code",
   "execution_count": null,
   "id": "33b99787",
   "metadata": {},
   "outputs": [],
   "source": [
    "from ase.md.velocitydistribution import MaxwellBoltzmannDistribution\n",
    "temp = 500\n",
    "MaxwellBoltzmannDistribution(si_333,temperature_K=temp)"
   ]
  },
  {
   "cell_type": "code",
   "execution_count": null,
   "id": "ba9fb330",
   "metadata": {},
   "outputs": [],
   "source": [
    "from ase import units\n",
    "from ase.md.nose_hoover_chain import NoseHooverChainNVT\n",
    "dyn = NoseHooverChainNVT(si_333, 1.0 * units.fs, temperature_K=temp,\n",
    "                         tdamp = 100.0)"
   ]
  },
  {
   "cell_type": "code",
   "execution_count": null,
   "id": "58833527",
   "metadata": {},
   "outputs": [],
   "source": [
    "from ase.io.trajectory import Trajectory\n",
    "\n",
    "traj_file = \"silicon_mace_medium-mpa.traj\"\n",
    "traj = Trajectory(traj_file, 'w', si_333)\n",
    "dyn.attach(traj.write, interval=50)\n",
    "\n",
    "import csv\n",
    "log_file = \"silicon_mace_medium-mpa_500K_md.csv\"\n",
    "# Prepare CSV header\n",
    "with open(log_file, \"w\", newline=\"\") as f:\n",
    "    writer = csv.writer(f)\n",
    "    writer.writerow([\"Step\", \"E_pot (eV)\", \"E_kin (eV)\", \"T (K)\", \"E_tot (eV)\"])\n",
    "\n",
    "# Logging function\n",
    "def log_status():\n",
    "    epot = si_333.get_potential_energy()\n",
    "    ekin = si_333.get_kinetic_energy()\n",
    "    temp = ekin / (1.5 * units.kB * len(si_333))\n",
    "    etot = epot + ekin\n",
    "    step = dyn.nsteps\n",
    "    print(f\"Step {step:6d} | T = {temp:8.1f} K  | \"\n",
    "          f\"E_pot = {epot:9.3f} eV  |  E_tot = {etot:9.3f} eV\")\n",
    "    with open(log_file, \"a\", newline=\"\") as f:\n",
    "        writer = csv.writer(f)\n",
    "        writer.writerow([step, epot, ekin, temp, etot])\n",
    "\n",
    "dyn.attach(log_status, interval=10)"
   ]
  },
  {
   "cell_type": "code",
   "execution_count": null,
   "id": "2d3baebf",
   "metadata": {},
   "outputs": [],
   "source": [
    "dyn.run(5000)"
   ]
  },
  {
   "cell_type": "code",
   "execution_count": null,
   "id": "b1af5ddb",
   "metadata": {},
   "outputs": [],
   "source": []
  }
 ],
 "metadata": {
  "language_info": {
   "name": "python"
  }
 },
 "nbformat": 4,
 "nbformat_minor": 5
}
