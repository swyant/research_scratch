{
 "cells": [
  {
   "cell_type": "code",
   "execution_count": null,
   "id": "9ba5ac8e",
   "metadata": {},
   "outputs": [],
   "source": [
    "import os\n",
    "\n",
    "from ase.io import write as ase_write\n",
    "from ase.io import read as ase_read\n",
    "from ase.optimize import BFGS\n",
    "from ase import Atoms\n"
   ]
  },
  {
   "cell_type": "code",
   "execution_count": null,
   "id": "2888f0f9",
   "metadata": {},
   "outputs": [],
   "source": [
    "base_polycrystal = ase_read(\"polycrystal_2/Hf_hcp_polycystal-1.lmp\", format=\"lammps-data\")"
   ]
  },
  {
   "cell_type": "code",
   "execution_count": null,
   "id": "0864cf53",
   "metadata": {},
   "outputs": [],
   "source": [
    "from mace.calculators import MACECalculator\n",
    "mace_calc = MACECalculator(model_paths=\"../../models/HfOx_128x0e_pair_repulsion_stagetwo.model\", device=\"cpu\")"
   ]
  },
  {
   "cell_type": "code",
   "execution_count": null,
   "id": "81495705",
   "metadata": {},
   "outputs": [],
   "source": [
    "from ase.filters import ExpCellFilter\n",
    "from ase.io.trajectory import Trajectory\n",
    "\n",
    "ecf = ExpCellFilter(base_polycrystal, hydrostatic_strain=True)\n",
    "opt = BFGS(ecf, logfile=\"relax.txt\")\n",
    "traj = Trajectory(\"conv_monoclinic_HfO2_relax.traj\", \"w\", base_polycrystal)\n",
    "opt.attach(traj)\n",
    "opt.run(fmax=0.05)"
   ]
  },
  {
   "cell_type": "code",
   "execution_count": null,
   "id": "8bccc72d",
   "metadata": {},
   "outputs": [],
   "source": []
  }
 ],
 "metadata": {
  "language_info": {
   "name": "python"
  }
 },
 "nbformat": 4,
 "nbformat_minor": 5
}
