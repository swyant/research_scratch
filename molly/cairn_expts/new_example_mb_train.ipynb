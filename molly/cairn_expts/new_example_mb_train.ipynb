{
 "cells": [
  {
   "cell_type": "code",
   "execution_count": null,
   "metadata": {},
   "outputs": [],
   "source": [
    "using Revise"
   ]
  },
  {
   "cell_type": "code",
   "execution_count": null,
   "metadata": {},
   "outputs": [],
   "source": [
    "using Cairn \n",
    "using LinearAlgebra, Random, Statistics, StatsBase # Do need StatsBase this time\n",
    "using PotentialLearning \n",
    "using Molly, AtomsCalculators\n",
    "using AtomisticQoIs \n",
    "using SpecialPolynomials\n"
   ]
  },
  {
   "cell_type": "code",
   "execution_count": null,
   "metadata": {},
   "outputs": [],
   "source": [
    "include(\"/Users/swyant/cesmix/dev/Cairn.jl/src/makie/makie.jl\")"
   ]
  },
  {
   "cell_type": "code",
   "execution_count": null,
   "metadata": {},
   "outputs": [],
   "source": [
    "ref = MullerBrownRot()\n",
    "limits = [[-4.4,1.5],[-2,2]]\n",
    "coord_grid = coord_grid_2d(limits,0.05) # from the makie.jl file\n",
    "ctr_lvls = -150:50:1000\n",
    "#ctr_lvls = -150:20:400"
   ]
  },
  {
   "cell_type": "code",
   "execution_count": null,
   "metadata": {},
   "outputs": [],
   "source": [
    "basisfam = Jacobi{0.5,0.5}\n",
    "order=20\n",
    "pce0 = PolynomialChaos(order,2,basisfam,xscl=limits)"
   ]
  },
  {
   "cell_type": "code",
   "execution_count": null,
   "metadata": {},
   "outputs": [],
   "source": [
    "coords_eval = potential_grid_2d(ref,limits,0.04,cutoff=800)\n",
    "#@show coords_eval\n",
    "#sys_eval = define_ens(ref,coords_eval) # This has been replaced with Ensemble()\n",
    "sys_eval = Ensemble(ref,coords_eval)"
   ]
  },
  {
   "cell_type": "code",
   "execution_count": null,
   "metadata": {},
   "outputs": [],
   "source": [
    "ζ = [ustrip.(Vector(coords)) for coords in coords_eval]\n",
    "GQint = GaussQuadrature(ζ,ones(length(ζ)) ./length(ζ))\n"
   ]
  },
  {
   "cell_type": "code",
   "execution_count": null,
   "metadata": {},
   "outputs": [],
   "source": [
    "f0, ax0 = plot_contours_2d(ref,coord_grid; fill=true, lvls=ctr_lvls) # there is a mistake here in her example, ctrl_lvls2\n",
    "#coordmat = reduce(hcat, get_values(coords_eval))' # no get_values for Vector{SVector}\n",
    "coordmat = reduce(hcat, [get_values(crd) for crd in coords_eval])'\n",
    "scatter!(ax0, coordmat[:,1], coordmat[:,2], color=:red, markersize=5, label=\"test points\")\n",
    "axislegend(ax0)\n",
    "f0"
   ]
  },
  {
   "cell_type": "code",
   "execution_count": null,
   "metadata": {},
   "outputs": [],
   "source": [
    "f, _ = plot_density(ref, coord_grid, GQint)\n",
    "f"
   ]
  },
  {
   "cell_type": "code",
   "execution_count": null,
   "metadata": {},
   "outputs": [],
   "source": [
    "pce = deepcopy(pce0)\n",
    "# she has a custom LinearProblem call where the energies and forces are calculated from the reference, rather than just assumed to be pre-computed and obtained from get_forces,get_energies\n",
    "lp = learn!(sys_eval, ref, pce, [1000,1], false; e_flag=true,f_flag=true)\n",
    "\n",
    "p = define_gibbs_dist(ref) # defines gibbs distribution based off the potential, Gibbs struct is defined in AtomisticQoIs\n",
    "q = define_gibbs_dist(pce, θ=lp.β)\n",
    "fish = FisherDivergence(GQint) # divergence calculation parameterized by the quadrature points\n",
    "fd_best = compute_divergence(p,q,fish)\n"
   ]
  },
  {
   "cell_type": "code",
   "execution_count": null,
   "metadata": {},
   "outputs": [],
   "source": [
    "#training set 1: grid over main support\n",
    "\n",
    "coords1= potential_grid_2d(ref,limits,0.05,cutoff=800)\n",
    "trainset1 = Ensemble(deepcopy(pce0),coords1) # I used this rather than define_ens"
   ]
  },
  {
   "cell_type": "code",
   "execution_count": null,
   "metadata": {},
   "outputs": [],
   "source": [
    "f0, ax0 = plot_contours_2d(ref,coord_grid; fill=true, lvls=ctr_lvls)\n",
    "# coordmat = reduce(hcat, get_values(coords1))'  # same issue as above\n",
    "coordmat = reduce(hcat, [get_values(crd) for crd in coords1])'\n",
    "scatter!(ax0, coordmat[:,1], coordmat[:,2], color=:red, markersize=5, label=\"train set 1\")\n",
    "axislegend(ax0)\n",
    "f0"
   ]
  },
  {
   "cell_type": "code",
   "execution_count": null,
   "metadata": {},
   "outputs": [],
   "source": [
    "# training set 2: samples from Langevin MD\n",
    "sim_langevin = OverdampedLangevin(\n",
    "                dt =0.002u\"ps\",\n",
    "                temperature = 500.0u\"K\",\n",
    "                friction=4.0u\"ps^-1\"\n",
    ")\n",
    "sys0 = System(ref,[0.5,0.5], loggers=(coords=CoordinateLogger(100;dims=2),))"
   ]
  },
  {
   "cell_type": "code",
   "execution_count": null,
   "metadata": {},
   "outputs": [],
   "source": [
    "sys2 = deepcopy(sys0)\n",
    "simulate!(sys2, sim_langevin, 1_000_000)\n",
    "\n",
    "id = StatsBase.sample(1:length(sys2.loggers.coords.history), length(coords1), replace=false)\n",
    "coords2 = [sys2.loggers.coords.history[i][1] for i in id]\n",
    "trainset2 = Ensemble(deepcopy(pce0),coords2)"
   ]
  },
  {
   "cell_type": "code",
   "execution_count": null,
   "metadata": {},
   "outputs": [],
   "source": [
    "f, ax = plot_contours_2d(ref, coord_grid; fill=true, lvls=ctr_lvls)\n",
    "coordmat = reduce(hcat, [get_values(crd) for crd in coords2])'\n",
    "scatter!(ax, coordmat[:,1], coordmat[:,2], color=:red, markersize=5, label=\"train set 2\")\n",
    "axislegend(ax)\n",
    "f"
   ]
  },
  {
   "cell_type": "code",
   "execution_count": null,
   "metadata": {},
   "outputs": [],
   "source": [
    "# Training set 3: samples from high-T MD \n",
    "\n",
    "sim_highT = OverdampedLangevin(\n",
    "            dt=0.002u\"ps\",\n",
    "            temperature=1500.0u\"K\",\n",
    "            friction=4.0u\"ps^-1\",\n",
    ")\n",
    "# simulate\n",
    "sys3 = deepcopy(sys0)\n",
    "simulate!(sys3, sim_highT, 1_000_000)\n",
    "\n",
    "id = StatsBase.sample(1:length(sys3.loggers.coords.history), length(coords1), replace=false)\n",
    "coords3 = [sys3.loggers.coords.history[i][1] for i in id]\n",
    "trainset3 = Ensemble(deepcopy(pce0), coords3)"
   ]
  },
  {
   "cell_type": "code",
   "execution_count": null,
   "metadata": {},
   "outputs": [],
   "source": [
    "f, ax = plot_contours_2d(ref, coord_grid; fill=true, lvls=ctr_lvls)\n",
    "coordmat = reduce(hcat, [get_values(crd) for crd in coords3])'\n",
    "scatter!(ax, coordmat[:,1], coordmat[:,2], color=:red, markersize=5, label=\"train set 3\")\n",
    "axislegend(ax)\n",
    "f"
   ]
  },
  {
   "cell_type": "code",
   "execution_count": null,
   "metadata": {},
   "outputs": [],
   "source": [
    "# train with changing weight λ \n",
    "λarr = [1e-4, 1e-3, 1e-2, 1e-1, 1, 1e1, 1e2, 1e3, 1e4]\n",
    "trainsets = [trainset1, trainset2, trainset3]\n",
    "p = define_gibbs_dist(ref)\n",
    "fish = FisherDivergence(GQint)"
   ]
  },
  {
   "cell_type": "code",
   "execution_count": null,
   "metadata": {},
   "outputs": [],
   "source": [
    "# store results\n",
    "param_dict = Dict( \"ts$j\" => Dict(\n",
    "    \"E\" => zeros(length(pce.basis)),\n",
    "    \"F\" => zeros(length(pce.basis)),\n",
    "    \"EF\" => Vector{Vector}(undef, length(λarr)),\n",
    "    ) for j = 1:length(trainsets)\n",
    ")\n",
    "\n",
    "err_dict = Dict( \"ts$j\" => Dict(\n",
    "    \"E\" => 0.0,\n",
    "    \"F\" => 0.0,\n",
    "    \"EF\" => zeros(length(λarr)),\n",
    "    ) for j = 1:length(trainsets)\n",
    ")\n",
    "\n",
    "fd_dict = Dict( \"ts$j\" => Dict(\n",
    "    \"E\" => 0.0,\n",
    "    \"F\" => 0.0,\n",
    "    \"EF\" => zeros(length(λarr)),\n",
    "    ) for j = 1:length(trainsets)\n",
    ")"
   ]
  },
  {
   "cell_type": "code",
   "execution_count": null,
   "metadata": {},
   "outputs": [],
   "source": [
    "# train on E or F only (UnivariateLinearProblem)\n",
    "for (j,ts) in enumerate(trainsets)\n",
    "    @show j\n",
    "    # E objective\n",
    "    println(\"train set $j, E only\")\n",
    "    pce = deepcopy(pce0)\n",
    "    lpe = learn!(ts, ref, pce; e_flag=true, f_flag=false)\n",
    "    q = define_gibbs_dist(pce, θ=lpe.β)\n",
    "    err_dict =\n",
    "    fd_dict[\"ts$j\"][\"E\"] = compute_divergence(p, q, fish)\n",
    "    param_dict[\"ts$j\"][\"E\"] = lpe.β\n",
    "    \n",
    "    println(\"moving on to F\")\n",
    "    # F objective\n",
    "    println(\"train set $j, F only\")\n",
    "    pce = deepcopy(pce0)\n",
    "    lpf = learn!(ts, ref, pce; e_flag=false, f_flag=true)\n",
    "    q = define_gibbs_dist(pce, θ=lpf.β)\n",
    "    fd_dict[\"ts$j\"][\"F\"] = compute_divergence(p, q, fish)\n",
    "    param_dict[\"ts$j\"][\"F\"] = lpf.β\n",
    "end\n",
    "\n",
    "\n",
    "# I get singular Exception "
   ]
  },
  {
   "cell_type": "code",
   "execution_count": null,
   "metadata": {},
   "outputs": [],
   "source": [
    "# train on EF (CovariateLinearProblem)\n",
    "for (i,λ) in enumerate(λarr)\n",
    "    for (j,ts) in enumerate(trainsets)\n",
    "\n",
    "        # EF objective\n",
    "        println(\"train set $j, EF (λ=$λ)\")\n",
    "        pce = deepcopy(pce0)\n",
    "        lpef = learn!(ts, ref, pce, [λ, 1], false; e_flag=true, f_flag=true)\n",
    "        q = define_gibbs_dist(pce, θ=lpef.β)\n",
    "        fd_dict[\"ts$j\"][\"EF\"][i] = compute_divergence(p, q, fish)\n",
    "        param_dict[\"ts$j\"][\"EF\"][i] = lpef.β\n",
    "    end\n",
    "end"
   ]
  },
  {
   "cell_type": "code",
   "execution_count": null,
   "metadata": {},
   "outputs": [],
   "source": [
    "# plot results, adjusting for the failed E, F due to the singular error\n",
    "#λlab = [1e-5, 1e-4, 1e-3, 1e-2, 1e-1, 1, 1e1, 1e2, 1e3, 1e4, 1e5]\n",
    "λlab = [1e-4, 1e-3, 1e-2, 1e-1, 1, 1e1, 1e2, 1e3, 1e4]\n",
    "\n",
    "f = Figure(resolution=(550,450))\n",
    "ax = Axis(f[1,1],\n",
    "    xlabel=\"λ\",\n",
    "    ylabel=\"Fisher divergence\",\n",
    "    title=\"Model Error vs. Weight λ\",\n",
    "    xscale=log10,\n",
    "    yscale=log10,\n",
    "    #xticks=(λlab, [\"F\", \"1e-4\", \"1e-3\", \"1e-2\", \"1e-1\", \"1\", \"1e1\", \"1e2\", \"1e3\", \"1e4\", \"E\"]))\n",
    "    xticks=(λlab, [\"1e-4\", \"1e-3\", \"1e-2\", \"1e-1\", \"1\", \"1e1\", \"1e2\", \"1e3\", \"1e4\"]))\n",
    "\n",
    "for j = 1:3\n",
    "#    fd_all = reduce(vcat, [[fd_dict[\"ts$j\"][\"F\"]], fd_dict[\"ts$j\"][\"EF\"], [fd_dict[\"ts$j\"][\"E\"]]])\n",
    "    fd_all = reduce(vcat, [fd_dict[\"ts$j\"][\"EF\"]])\n",
    "\n",
    "    scatterlines!(ax, λlab, fd_all, label=\"train set $j\")\n",
    "end\n",
    "axislegend(ax, position=:lb)\n",
    "f\n"
   ]
  }
 ],
 "metadata": {
  "language_info": {
   "name": "julia"
  }
 },
 "nbformat": 4,
 "nbformat_minor": 2
}
