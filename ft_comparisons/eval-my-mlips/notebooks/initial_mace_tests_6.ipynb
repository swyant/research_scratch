{
 "cells": [
  {
   "cell_type": "code",
   "execution_count": null,
   "id": "94f74261",
   "metadata": {},
   "outputs": [],
   "source": [
    "%load_ext autoreload\n",
    "%autoreload 2"
   ]
  },
  {
   "cell_type": "code",
   "execution_count": null,
   "id": "172cf969",
   "metadata": {},
   "outputs": [],
   "source": [
    "import eval_my_mlips.utils as emu\n",
    "from mace.calculators import MACECalculator\n",
    "calculator = MACECalculator(model_paths=\"../models/2023-12-10-mace-128-L0_energy_epoch-249.model\")"
   ]
  },
  {
   "cell_type": "code",
   "execution_count": null,
   "id": "9a4adfd1",
   "metadata": {},
   "outputs": [],
   "source": [
    "from  ase.io import read\n",
    "\n",
    "# set up this debug dict\n",
    "debug_xyz =  \"/Users/swyant/cesmix/datasets/HfO2_cesmix/april_2025_data_mv/processed_and_split/debug/debug.xyz\"\n",
    "debug_atoms = read(debug_xyz, index='0')\n",
    "debug_configs = {\"HfOx_test_no0K\": [debug_atoms,]}"
   ]
  },
  {
   "cell_type": "code",
   "execution_count": null,
   "id": "52dfdec3",
   "metadata": {},
   "outputs": [],
   "source": [
    "len(debug_atoms)"
   ]
  },
  {
   "cell_type": "code",
   "execution_count": null,
   "id": "0bb1e1cb",
   "metadata": {},
   "outputs": [],
   "source": [
    "from ase.units import create_units\n",
    "units_2006 = create_units('2006')\n",
    "\n",
    "# The values I back-computed with 2006 CODATA values\n",
    "E0_Hf_Ry = -112.41607411999959316330\n",
    "E0_O_Ry = -32.6203517400001970321\n",
    "\n",
    "# Convert to eV using ASE units\n",
    "E0_Hf_eV = E0_Hf_Ry * units_2006['Ry']  # Rydberg to eV conversion\n",
    "E0_O_eV = E0_O_Ry * units_2006['Ry']\n",
    "\n",
    "new_E0s = {8:  E0_O_eV,\n",
    "           72: E0_Hf_eV}"
   ]
  },
  {
   "cell_type": "code",
   "execution_count": null,
   "id": "8ab2427f",
   "metadata": {},
   "outputs": [],
   "source": [
    "pred_dbg_dict = emu.compute_predictions(debug_configs, calculator, new_E0s)"
   ]
  },
  {
   "cell_type": "code",
   "execution_count": null,
   "id": "0d9edf13",
   "metadata": {},
   "outputs": [],
   "source": [
    "sum([5.85066957,3.98966586,5.94031877,5.32651729,-2.19360795,-0.38008317,\n",
    "  6.82158391,  5.45026748,  6.94709222,  5.43986101,  2.1929933, -0.59609681,\n",
    "  5.99010196,  5.98870263,  4.70839389,  5.38702036,  2.07265116,  2.85069052,\n",
    "  1.51032932,  1.60173983,  4.92661349,  4.51776129,  7.08042262,  4.83271184,\n",
    " -1.03926782,  0.99231884,  6.23099008,  5.65917665,  4.92949258,  7.11394526,\n",
    "  0.10300654,  2.68736744, -1.2383704 ,  5.60580304,  5.00227432,  5.495919,\n",
    "  5.36774186, -0.43878287,  5.29915397,  4.87649063,  6.20502873,  5.67983903,\n",
    "  0.67344543, -1.26983641, -1.33248923,  2.02207044,  2.47910309,  5.8268631,\n",
    "  5.89212495,  1.66419332,  1.84417354, -0.43605624,  5.26340213,  6.38357886,\n",
    "  5.52542069,  5.58278205, -1.31158778,  0.23731341,  2.46530494,  0.0945002,\n",
    "  5.16057711,  5.80710438,  5.61149414,  4.28644622, 13.18168663,  4.27190371,\n",
    "  5.51759143, 74.56647171,  5.55733865,  0.60996699,  4.32318699,  3.61981916,\n",
    "  1.15628408,  6.80920748,  3.94587966,  4.06261834,  6.2768453,  -0.32240667,\n",
    " -0.15401728,  0.96355639,  1.70101974])"
   ]
  },
  {
   "cell_type": "code",
   "execution_count": null,
   "id": "22431ead",
   "metadata": {},
   "outputs": [],
   "source": [
    "sum([ -6.9456,  -8.8066,  -6.8560,  -7.4698,  -9.4782,  -7.6647,  -5.9747,\n",
    "         -7.3460,  -5.8492,  -7.3564,  -5.0916,  -7.8807,  -6.8062,  -6.8076,\n",
    "         -8.0879,  -7.4093,  -5.2119,  -4.4339,  -5.7743,  -5.6829,  -7.8697,\n",
    "         -8.2785,  -5.7159,  -7.9636,  -8.3239,  -6.2923,  -6.5653,  -7.1371,\n",
    "         -7.8668,  -5.6823,  -7.1816,  -4.5972,  -8.5230,  -7.1905,  -7.7940,\n",
    "         -7.3004,  -7.4285,  -7.7234,  -7.4971,  -7.9198,  -6.5913,  -7.1164,\n",
    "         -6.6112,  -8.5544,  -8.6171, -10.7742, -10.3172,  -6.9694,  -6.9042,\n",
    "         -5.6204,  -5.4404,  -7.7207,  -7.5329,  -6.4127,  -7.2709,  -7.2135,\n",
    "         -8.5962,  -7.0473,  -4.8193,  -7.1901,  -7.6357,  -6.9892,  -7.1848,\n",
    "         -8.5098,   5.8971,  -8.5244,  -7.2787,  61.7702,  -7.2389,  -6.6746,\n",
    "         -2.9614,  -3.6648,  -6.1283,  -5.9871,  -8.8504,  -8.7337,  -6.5194,\n",
    "         -7.6070,  -7.4386,  -6.3210,  -5.5836])"
   ]
  },
  {
   "cell_type": "code",
   "execution_count": null,
   "id": "220623a4",
   "metadata": {},
   "outputs": [],
   "source": [
    "sum([-12.7963, -12.7963, -12.7963, -12.7963,  -7.2846,  -7.2846, -12.7963,\n",
    "        -12.7963, -12.7963, -12.7963,  -7.2846,  -7.2846, -12.7963, -12.7963,\n",
    "        -12.7963, -12.7963,  -7.2846,  -7.2846,  -7.2846,  -7.2846, -12.7963,\n",
    "        -12.7963, -12.7963, -12.7963,  -7.2846,  -7.2846, -12.7963, -12.7963,\n",
    "        -12.7963, -12.7963,  -7.2846,  -7.2846,  -7.2846, -12.7963, -12.7963,\n",
    "        -12.7963, -12.7963,  -7.2846, -12.7963, -12.7963, -12.7963, -12.7963,\n",
    "         -7.2846,  -7.2846,  -7.2846, -12.7963, -12.7963, -12.7963, -12.7963,\n",
    "         -7.2846,  -7.2846,  -7.2846, -12.7963, -12.7963, -12.7963, -12.7963,\n",
    "         -7.2846,  -7.2846,  -7.2846,  -7.2846, -12.7963, -12.7963, -12.7963,\n",
    "        -12.7963,  -7.2846, -12.7963, -12.7963, -12.7963, -12.7963,  -7.2846,\n",
    "         -7.2846,  -7.2846,  -7.2846, -12.7963, -12.7963, -12.7963, -12.7963,\n",
    "         -7.2846,  -7.2846,  -7.2846,  -7.2846])"
   ]
  },
  {
   "cell_type": "code",
   "execution_count": null,
   "id": "c63ec061",
   "metadata": {},
   "outputs": [],
   "source": [
    "pred_dbg_dict"
   ]
  },
  {
   "cell_type": "code",
   "execution_count": null,
   "id": "00337f7e",
   "metadata": {},
   "outputs": [],
   "source": [
    "dbg_config = pred_dbg_dict[\"HfOx_test_no0K\"][0]"
   ]
  },
  {
   "cell_type": "code",
   "execution_count": null,
   "id": "6afdab4b",
   "metadata": {},
   "outputs": [],
   "source": [
    "dbg_config"
   ]
  },
  {
   "cell_type": "code",
   "execution_count": null,
   "id": "bf55af65",
   "metadata": {},
   "outputs": [],
   "source": [
    "dbg_config.info"
   ]
  },
  {
   "cell_type": "code",
   "execution_count": null,
   "id": "21955c8b",
   "metadata": {},
   "outputs": [],
   "source": [
    "print(f\"{len(dbg_config)}\")\n",
    "print(f\"{dbg_config.info['fixed_predicted_energy']}\")\n",
    "print(f\"{dbg_config.info[\"REF_energy\"]}\")"
   ]
  },
  {
   "cell_type": "code",
   "execution_count": null,
   "id": "49783113",
   "metadata": {},
   "outputs": [],
   "source": [
    "(-88916.68112093408 - (-88350.48479989223) )/81"
   ]
  },
  {
   "cell_type": "code",
   "execution_count": null,
   "id": "77a9ad5d",
   "metadata": {},
   "outputs": [],
   "source": [
    "errors = emu.calculate_errors(debug_configs, pred_dbg_dict)"
   ]
  },
  {
   "cell_type": "code",
   "execution_count": null,
   "id": "d6dce2f9",
   "metadata": {},
   "outputs": [],
   "source": [
    "errors"
   ]
  },
  {
   "cell_type": "code",
   "execution_count": null,
   "id": "c017cf7a",
   "metadata": {},
   "outputs": [],
   "source": [
    "emu.display_errors(errors)"
   ]
  },
  {
   "cell_type": "code",
   "execution_count": null,
   "id": "a81d27f9",
   "metadata": {},
   "outputs": [],
   "source": [
    "import warnings\n",
    "warnings.filterwarnings(\"ignore\")\n",
    "from mace.cli.run_train import main as mace_run_train_main\n",
    "import sys\n",
    "import logging\n",
    "\n",
    "def train_mace(config_file_path):\n",
    "    logging.getLogger().handlers.clear()\n",
    "    sys.argv = [\"program\", \"--config\", config_file_path]\n",
    "    mace_run_train_main()"
   ]
  },
  {
   "cell_type": "code",
   "execution_count": null,
   "id": "7c3328e3",
   "metadata": {},
   "outputs": [],
   "source": [
    "train_mace(\"./dbug_ft.yml\")"
   ]
  },
  {
   "cell_type": "code",
   "execution_count": null,
   "id": "51672e61",
   "metadata": {},
   "outputs": [],
   "source": [
    "sum([ -437.9718,  -439.8328,  -437.8821,  -438.4959, -1531.6921, -1529.8786,\n",
    "         -437.0009,  -438.3722,  -436.8754,  -438.3826, -1527.3055, -1530.0946,\n",
    "         -437.8324,  -437.8338,  -439.1141,  -438.4354, -1527.4258, -1526.6478,\n",
    "        -1527.9881, -1527.8967,  -438.8958,  -439.3047,  -436.7420,  -438.9897,\n",
    "        -1530.5377, -1528.5062,  -437.5915,  -438.1633,  -438.8930,  -436.7085,\n",
    "        -1529.3955, -1526.8111, -1530.7368,  -438.2167,  -438.8202,  -438.3265,\n",
    "         -438.4547, -1529.9373,  -438.5233,  -438.9460,  -437.6174,  -438.1426,\n",
    "        -1528.8250, -1530.7683, -1530.8310,  -441.8004,  -441.3434,  -437.9956,\n",
    "         -437.9303, -1527.8343, -1527.6543, -1529.9345,  -438.5591,  -437.4389,\n",
    "         -438.2970,  -438.2397, -1530.8101, -1529.2612, -1527.0332, -1529.4040,\n",
    "         -438.6619,  -438.0154,  -438.2110,  -439.5360, -1516.3168,  -439.5506,\n",
    "         -438.3049,  -369.2560,  -438.2651, -1528.8885, -1525.1753, -1525.8787,\n",
    "        -1528.3422,  -437.0132,  -439.8766,  -439.7598,  -437.5456, -1529.8209,\n",
    "        -1529.6525, -1528.5349, -1527.7975])"
   ]
  },
  {
   "cell_type": "code",
   "execution_count": null,
   "id": "4913ab80",
   "metadata": {},
   "outputs": [],
   "source": [
    "sum([ -443.8225,  -443.8225,  -443.8225,  -443.8225, -1529.4985, -1529.4985,\n",
    "         -443.8225,  -443.8225,  -443.8225,  -443.8225, -1529.4985, -1529.4985,\n",
    "         -443.8225,  -443.8225,  -443.8225,  -443.8225, -1529.4985, -1529.4985,\n",
    "        -1529.4985, -1529.4985,  -443.8225,  -443.8225,  -443.8225,  -443.8225,\n",
    "        -1529.4985, -1529.4985,  -443.8225,  -443.8225,  -443.8225,  -443.8225,\n",
    "        -1529.4985, -1529.4985, -1529.4985,  -443.8225,  -443.8225,  -443.8225,\n",
    "         -443.8225, -1529.4985,  -443.8225,  -443.8225,  -443.8225,  -443.8225,\n",
    "        -1529.4985, -1529.4985, -1529.4985,  -443.8225,  -443.8225,  -443.8225,\n",
    "         -443.8225, -1529.4985, -1529.4985, -1529.4985,  -443.8225,  -443.8225,\n",
    "         -443.8225,  -443.8225, -1529.4985, -1529.4985, -1529.4985, -1529.4985,\n",
    "         -443.8225,  -443.8225,  -443.8225,  -443.8225, -1529.4985,  -443.8225,\n",
    "         -443.8225,  -443.8225,  -443.8225, -1529.4985, -1529.4985, -1529.4985,\n",
    "        -1529.4985,  -443.8225,  -443.8225,  -443.8225,  -443.8225, -1529.4985,\n",
    "        -1529.4985, -1529.4985, -1529.4985])"
   ]
  },
  {
   "cell_type": "code",
   "execution_count": null,
   "id": "13f60ae1",
   "metadata": {},
   "outputs": [],
   "source": []
  }
 ],
 "metadata": {
  "language_info": {
   "name": "python"
  }
 },
 "nbformat": 4,
 "nbformat_minor": 5
}
