{
 "cells": [
  {
   "cell_type": "code",
   "execution_count": null,
   "metadata": {},
   "outputs": [],
   "source": [
    "!pip install mace-torch[wandb]\n",
    "!pip install cuequivariance cuequivariance-torch cuequivariance-ops-torch-cu12"
   ]
  },
  {
   "cell_type": "code",
   "execution_count": null,
   "metadata": {},
   "outputs": [],
   "source": [
    "from google.colab import drive\n",
    "drive.mount('/content/drive')"
   ]
  },
  {
   "cell_type": "code",
   "execution_count": null,
   "metadata": {},
   "outputs": [],
   "source": [
    "import sys\n",
    "sys.path.append('/content/drive/My Drive/colab_temp/mace_fine-tuning_expts/scripts')"
   ]
  },
  {
   "cell_type": "code",
   "execution_count": null,
   "metadata": {},
   "outputs": [],
   "source": [
    "import wandb\n",
    "wandb.login()"
   ]
  },
  {
   "cell_type": "code",
   "execution_count": null,
   "metadata": {},
   "outputs": [],
   "source": [
    "%cd \"drive/MyDrive/colab_temp/mace_fine-tuning_expts\""
   ]
  },
  {
   "cell_type": "code",
   "execution_count": null,
   "metadata": {},
   "outputs": [],
   "source": [
    "%%writefile configs/small_ft-HfOx_v0.5-2.yml\n",
    "\n",
    "model: 'MACE'\n",
    "foundation_model: 'small'\n",
    "multiheads_finetuning: False\n",
    "train_file: 'data/random_subsample_trainval-1.xyz'\n",
    "valid_fraction: 0.2\n",
    "test_file: 'data/test.xyz'\n",
    "energy_key: \"REF_energy\"\n",
    "forces_key: \"REF_forces\"\n",
    "E0s: {8: -443.8224565134432, 72: -1529.4984727695407}\n",
    "name: \"small_ft-HfOx_v0.3\"\n",
    "model_dir: \"models/small_HfOx-ft_5-2\"\n",
    "log_dir: \"models/small_HfOx-ft_5-2\"\n",
    "results_dir: \"models/small_HfOx-ft_5-2\"\n",
    "checkpoints_dir: \"models/small_HfOx-ft_5-2\"\n",
    "device: cuda\n",
    "batch_size: 14\n",
    "max_num_epochs: 500\n",
    "lr: 0.01\n",
    "ema: False\n",
    "ema_decay: 0.99\n",
    "optimizer: adam\n",
    "weight_decay: 1e-9\n",
    "swa: True\n",
    "seed: 123\n",
    "stress_weight: 0.0\n",
    "forces_weight: 100.0\n",
    "energy_weight: 1.0\n",
    "enable_cueq: True\n",
    "#wandb: True\n",
    "#wandb_dir: \"models/small_HfOx-ft_3/wandb\"\n",
    "#wandb_project: \"MACE_HfOx_ft\"\n",
    "#wandb_name: \"small_model_rss-1\"\n",
    "#wandb_log_hypers: [\"lr\"]\n",
    "#wandb_log_hypers: [\"lr\", \"lr_factor\", \"lr_scheduler_gamma\", \"scheduler\",\n",
    "#                   \"swa\", \"swa_lr\", \"start_swa\",\n",
    "#                   \"swa_energy_weight\", \"swa_forces_weight\",\n",
    "#                   \"energy_weight\", \"forces_weight\",\n",
    "#                   \"ema\", \"ema_decay\", \"weight_decay\",\n",
    "#                   \"huber_delta\", \"optimizer\", \"amsgrad\", \"beta\",\n",
    "#                   \"batch_size\", \"max_num_epochs\", \"seed\"]\n",
    "\n"
   ]
  },
  {
   "cell_type": "code",
   "execution_count": null,
   "metadata": {},
   "outputs": [],
   "source": [
    "import warnings\n",
    "warnings.filterwarnings(\"ignore\")\n",
    "from mace.cli.run_train import main as mace_run_train_main\n",
    "import sys\n",
    "import logging\n",
    "\n",
    "def train_mace(config_file_path):\n",
    "    logging.getLogger().handlers.clear()\n",
    "    sys.argv = [\"program\", \"--config\", config_file_path, \"--plot\", \"true\", \"--plot_frequency\", \"10\"]\n",
    "    mace_run_train_main()"
   ]
  },
  {
   "cell_type": "code",
   "execution_count": null,
   "metadata": {},
   "outputs": [],
   "source": [
    "train_mace(\"configs/small_ft-HfOx_v0.5-2.yml\")"
   ]
  },
  {
   "cell_type": "code",
   "execution_count": null,
   "metadata": {},
   "outputs": [],
   "source": [
    "import warnings\n",
    "warnings.filterwarnings(\"ignore\")\n",
    "from mace.cli.plot_train import main as mace_plot_train_main\n",
    "import sys\n",
    "import logging\n",
    "\n",
    "def train_mace(config_file_path):\n",
    "    logging.getLogger().handlers.clear()\n",
    "    sys.argv = [\"program\", \"--config\", config_file_path]\n",
    "    mace_run_train_main()"
   ]
  }
 ],
 "metadata": {
  "language_info": {
   "name": "python"
  }
 },
 "nbformat": 4,
 "nbformat_minor": 0
}
