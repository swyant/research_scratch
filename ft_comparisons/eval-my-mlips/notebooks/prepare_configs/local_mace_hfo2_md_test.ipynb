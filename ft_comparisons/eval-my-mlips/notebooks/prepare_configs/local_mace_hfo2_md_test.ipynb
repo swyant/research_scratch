{
 "cells": [
  {
   "cell_type": "code",
   "execution_count": null,
   "id": "26ffa855",
   "metadata": {},
   "outputs": [],
   "source": [
    "import os\n",
    "\n",
    "from ase.io import read as ase_read\n",
    "from ase.io import write as ase_write\n",
    "from ase.optimize import BFGS\n",
    "from ase import Atoms\n"
   ]
  },
  {
   "cell_type": "code",
   "execution_count": null,
   "id": "502c15ab",
   "metadata": {},
   "outputs": [],
   "source": [
    "hfo2_222 = ase_read(\"HfO2_222_MACE100725_DATA\", format=\"lammps-data\")"
   ]
  },
  {
   "cell_type": "code",
   "execution_count": null,
   "id": "20346ae0",
   "metadata": {},
   "outputs": [],
   "source": [
    "#model_path = \"../../models/HfOx_128x0e_100725_1007_from-scratch_stagetwo.model\"\n",
    "#traj_file = \"hfo2_222_128x0e_100725_1500K.traj\"\n",
    "#log_file = \"hfo2_222_128x0e_100725_1500K.csv\"\n",
    "\n",
    "model_path = \"../../models/HfOx_128x0e_pair_repulsion_stagetwo.model\"\n",
    "traj_file = \"hfo2_222_128x0e_pair-repulsion_1500K.traj\"\n",
    "log_file = \"hfo2_222_128x0e_pair-repulsion_1500K.csv\"\n",
    "\n"
   ]
  },
  {
   "cell_type": "code",
   "execution_count": null,
   "id": "d9c331d0",
   "metadata": {},
   "outputs": [],
   "source": [
    "from mace.calculators import MACECalculator\n",
    "mace_calc = MACECalculator(model_paths=model_path, device=\"cpu\")"
   ]
  },
  {
   "cell_type": "code",
   "execution_count": null,
   "id": "9ca58ea2",
   "metadata": {},
   "outputs": [],
   "source": [
    "hfo2_222.set_calculator(mace_calc)"
   ]
  },
  {
   "cell_type": "code",
   "execution_count": null,
   "id": "3e326a0c",
   "metadata": {},
   "outputs": [],
   "source": [
    "from ase.md.velocitydistribution import MaxwellBoltzmannDistribution\n",
    "temp = 1500\n",
    "sys = hfo2_222\n",
    "MaxwellBoltzmannDistribution(sys,temperature_K=temp)"
   ]
  },
  {
   "cell_type": "code",
   "execution_count": null,
   "id": "cadcbfe4",
   "metadata": {},
   "outputs": [],
   "source": [
    "from ase import units\n",
    "from ase.md.nose_hoover_chain import NoseHooverChainNVT\n",
    "dyn = NoseHooverChainNVT(sys, 1.0 * units.fs, temperature_K=temp,\n",
    "                         tdamp = 50.0)"
   ]
  },
  {
   "cell_type": "code",
   "execution_count": null,
   "id": "3e7cd17c",
   "metadata": {},
   "outputs": [],
   "source": [
    "from ase.io.trajectory import Trajectory\n",
    "\n",
    "traj = Trajectory(traj_file, 'w', sys)\n",
    "dyn.attach(traj.write, interval=50)\n",
    "\n",
    "import csv\n",
    "# Prepare CSV header\n",
    "with open(log_file, \"w\", newline=\"\") as f:\n",
    "    writer = csv.writer(f)\n",
    "    writer.writerow([\"Step\", \"E_pot (eV)\", \"E_kin (eV)\", \"T (K)\", \"E_tot (eV)\"])\n",
    "\n",
    "# Logging function\n",
    "def log_status():\n",
    "    epot = sys.get_potential_energy()\n",
    "    ekin = sys.get_kinetic_energy()\n",
    "    temp = ekin / (1.5 * units.kB * len(sys))\n",
    "    etot = epot + ekin\n",
    "    step = dyn.nsteps\n",
    "    print(f\"Step {step:6d} | T = {temp:8.1f} K  | \"\n",
    "          f\"E_pot = {epot:9.3f} eV  |  E_tot = {etot:9.3f} eV\")\n",
    "    with open(log_file, \"a\", newline=\"\") as f:\n",
    "        writer = csv.writer(f)\n",
    "        writer.writerow([step, epot, ekin, temp, etot])\n",
    "\n",
    "dyn.attach(log_status, interval=10)"
   ]
  },
  {
   "cell_type": "code",
   "execution_count": null,
   "id": "f5dc9a60",
   "metadata": {},
   "outputs": [],
   "source": [
    "dyn.run(5000)"
   ]
  },
  {
   "cell_type": "code",
   "execution_count": null,
   "id": "9cfc60d6",
   "metadata": {},
   "outputs": [],
   "source": []
  }
 ],
 "metadata": {
  "language_info": {
   "name": "python"
  }
 },
 "nbformat": 4,
 "nbformat_minor": 5
}
