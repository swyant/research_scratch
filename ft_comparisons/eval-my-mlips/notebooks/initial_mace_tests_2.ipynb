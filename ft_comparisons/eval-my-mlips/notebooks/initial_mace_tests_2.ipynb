{
 "cells": [
  {
   "cell_type": "code",
   "execution_count": null,
   "id": "85e0c427",
   "metadata": {},
   "outputs": [],
   "source": [
    "import torch\n",
    "torch.set_default_dtype(torch.float32)"
   ]
  },
  {
   "cell_type": "code",
   "execution_count": null,
   "id": "28a9141e",
   "metadata": {},
   "outputs": [],
   "source": [
    "small_f32_model = torch.load(f=\"../models/small_float32.model\", map_location=\"mps\", weights_only=False)"
   ]
  },
  {
   "cell_type": "code",
   "execution_count": null,
   "id": "9f704320",
   "metadata": {},
   "outputs": [],
   "source": [
    "import eval_my_mlips.utils as emu\n",
    "from mace.calculators import MACECalculator"
   ]
  },
  {
   "cell_type": "markdown",
   "id": "3819e00d",
   "metadata": {},
   "source": []
  },
  {
   "cell_type": "code",
   "execution_count": null,
   "id": "ba1a3d46",
   "metadata": {},
   "outputs": [],
   "source": [
    "data_dir = \"/Users/swyant/cesmix/datasets/HfO2_cesmix/april_2025_data_mv/processed_and_split/\"\n",
    "reference_configs = emu.load_configurations(data_dir)"
   ]
  },
  {
   "cell_type": "code",
   "execution_count": null,
   "id": "ef730c67",
   "metadata": {},
   "outputs": [],
   "source": [
    "sample_atoms = reference_configs[\"HfOx_test_0K\"][1]\n"
   ]
  },
  {
   "cell_type": "code",
   "execution_count": null,
   "id": "cc4eb9d9",
   "metadata": {},
   "outputs": [],
   "source": [
    "calc_f32 = MACECalculator(models=[small_f32_model,],device=\"mps\", default_dtype=\"float32\")"
   ]
  },
  {
   "cell_type": "code",
   "execution_count": null,
   "id": "e2a3454b",
   "metadata": {},
   "outputs": [],
   "source": [
    "sample_atoms.calc = calc_f32"
   ]
  },
  {
   "cell_type": "code",
   "execution_count": null,
   "id": "6770e69d",
   "metadata": {},
   "outputs": [],
   "source": [
    "sample_atoms.get_potential_energy()"
   ]
  },
  {
   "cell_type": "code",
   "execution_count": null,
   "id": "2e9f8bf7",
   "metadata": {},
   "outputs": [],
   "source": []
  },
  {
   "cell_type": "code",
   "execution_count": null,
   "id": "e0526889",
   "metadata": {},
   "outputs": [],
   "source": []
  }
 ],
 "metadata": {
  "language_info": {
   "name": "python"
  }
 },
 "nbformat": 4,
 "nbformat_minor": 5
}
