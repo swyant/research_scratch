{
 "cells": [
  {
   "cell_type": "code",
   "execution_count": null,
   "id": "3c806a22",
   "metadata": {},
   "outputs": [],
   "source": [
    "%load_ext autoreload\n",
    "%autoreload 2"
   ]
  },
  {
   "cell_type": "code",
   "execution_count": null,
   "id": "5b9de9d5",
   "metadata": {},
   "outputs": [],
   "source": [
    "import eval_my_mlips.utils as emu\n",
    "from mace.calculators import MACECalculator\n",
    "calculator = MACECalculator(model_paths=\"../models/2023-12-10-mace-128-L0_energy_epoch-249.model\")"
   ]
  },
  {
   "cell_type": "code",
   "execution_count": null,
   "id": "d3290087",
   "metadata": {},
   "outputs": [],
   "source": [
    "from  ase.io import read\n",
    "\n",
    "# set up this debug dict\n",
    "debug_xyz =  \"/Users/swyant/cesmix/datasets/HfO2_cesmix/april_2025_data_mv/processed_and_split/debug/debug.xyz\"\n",
    "debug_atoms = read(debug_xyz, index='0')\n",
    "debug_configs = {\"HfOx_test_no0K\": [debug_atoms,]}"
   ]
  },
  {
   "cell_type": "code",
   "execution_count": null,
   "id": "280f0b2a",
   "metadata": {},
   "outputs": [],
   "source": [
    "from ase.units import create_units\n",
    "units_2006 = create_units('2006')\n",
    "\n",
    "# The values I back-computed with 2006 CODATA values\n",
    "E0_Hf_Ry = -112.41607411999959316330\n",
    "E0_O_Ry = -32.6203517400001970321\n",
    "\n",
    "# Convert to eV using ASE units\n",
    "E0_Hf_eV = E0_Hf_Ry * units_2006['Ry']  # Rydberg to eV conversion\n",
    "E0_O_eV = E0_O_Ry * units_2006['Ry']\n",
    "\n",
    "new_E0s = {8:  E0_O_eV,\n",
    "           72: E0_Hf_eV}"
   ]
  },
  {
   "cell_type": "code",
   "execution_count": null,
   "id": "729fddce",
   "metadata": {},
   "outputs": [],
   "source": [
    "new_E0s"
   ]
  },
  {
   "cell_type": "code",
   "execution_count": null,
   "id": "08c0721c",
   "metadata": {},
   "outputs": [],
   "source": [
    "pred_dbg_dict = emu.compute_predictions(debug_configs, calculator, new_E0s)"
   ]
  },
  {
   "cell_type": "code",
   "execution_count": null,
   "id": "91f45481",
   "metadata": {},
   "outputs": [],
   "source": [
    "dbg_config = pred_dbg_dict[\"HfOx_test_no0K\"][0]"
   ]
  },
  {
   "cell_type": "code",
   "execution_count": null,
   "id": "918b7755",
   "metadata": {},
   "outputs": [],
   "source": [
    "errors = emu.calculate_errors(debug_configs, pred_dbg_dict)"
   ]
  },
  {
   "cell_type": "code",
   "execution_count": null,
   "id": "15a28800",
   "metadata": {},
   "outputs": [],
   "source": [
    "errors"
   ]
  },
  {
   "cell_type": "code",
   "execution_count": null,
   "id": "2b6dad63",
   "metadata": {},
   "outputs": [],
   "source": [
    "import warnings\n",
    "warnings.filterwarnings(\"ignore\")\n",
    "from mace.cli.run_train import main as mace_run_train_main\n",
    "import sys\n",
    "import logging\n",
    "\n",
    "def train_mace(config_file_path):\n",
    "    logging.getLogger().handlers.clear()\n",
    "    sys.argv = [\"program\", \"--config\", config_file_path]\n",
    "    mace_run_train_main()"
   ]
  },
  {
   "cell_type": "code",
   "execution_count": null,
   "id": "da2e5f9a",
   "metadata": {},
   "outputs": [],
   "source": [
    "train_mace(\"./dbug_ft.yml\")"
   ]
  },
  {
   "cell_type": "code",
   "execution_count": null,
   "id": "7a63ea53",
   "metadata": {},
   "outputs": [],
   "source": []
  }
 ],
 "metadata": {
  "language_info": {
   "name": "python"
  }
 },
 "nbformat": 4,
 "nbformat_minor": 5
}
