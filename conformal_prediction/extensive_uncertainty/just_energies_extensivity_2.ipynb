{
 "cells": [
  {
   "cell_type": "markdown",
   "id": "01982dae",
   "metadata": {},
   "source": [
    "Fit a simple linear regression with the global descriptors of the training data to the training heuristic uncertainty (i.e., ensemble standard deviation). Had to log-transform the data first. The fit is not very good.  "
   ]
  },
  {
   "cell_type": "code",
   "execution_count": null,
   "id": "591fc83c",
   "metadata": {},
   "outputs": [],
   "source": [
    "using Revise\n",
    "using Pkg; Pkg.activate(\".\")"
   ]
  },
  {
   "cell_type": "code",
   "execution_count": null,
   "id": "1a94e8dc",
   "metadata": {},
   "outputs": [],
   "source": [
    "using Unitful\n",
    "using PotentialLearning\n",
    "using Random: randperm\n",
    "using JLD2\n",
    "using InteratomicPotentials\n",
    "using AtomsBase, AtomsCalculators\n",
    "using Statistics\n",
    "using CairoMakie, ColorSchemes\n",
    "using LinearAlgebra"
   ]
  },
  {
   "cell_type": "code",
   "execution_count": null,
   "id": "dfbb0a1c",
   "metadata": {},
   "outputs": [],
   "source": [
    "includet(\"../files/conformal_prediction_utils.jl\")\n",
    "includet(\"../files/committee_potentials.jl\")\n",
    "includet(\"../files/committee_qois.jl\")"
   ]
  },
  {
   "cell_type": "code",
   "execution_count": null,
   "id": "e6ddd56f",
   "metadata": {},
   "outputs": [],
   "source": [
    "training_data_dict = load(\"training_data.jld2\")\n",
    "frenkel_train_ds = training_data_dict[\"frenkel_train_ds\"]\n",
    "pristine_train_ds = training_data_dict[\"pristine_train_ds\"]"
   ]
  },
  {
   "cell_type": "code",
   "execution_count": null,
   "id": "76d5ffbf",
   "metadata": {},
   "outputs": [],
   "source": [
    "calibtest_datasets = load(\"../cesmix_prez/datasets_with_descriptors.jld2\")\n",
    "pristine_base_calib_ds = calibtest_datasets[\"pristine_base_calib_ds\"]\n",
    "pristine_base_test_ds = calibtest_datasets[\"pristine_base_test_ds\"]\n",
    "frenkel_base_calib_ds = calibtest_datasets[\"frenkel_base_calib_ds\"]\n",
    "frenkel_base_test_ds = calibtest_datasets[\"frenkel_base_test_ds\"]"
   ]
  },
  {
   "cell_type": "code",
   "execution_count": null,
   "id": "a75fd115",
   "metadata": {},
   "outputs": [],
   "source": [
    "combined_calib_ds = concat_dataset([pristine_base_calib_ds; frenkel_base_calib_ds])\n",
    "combined_test_ds = concat_dataset([pristine_base_test_ds; frenkel_base_test_ds])"
   ]
  },
  {
   "cell_type": "code",
   "execution_count": null,
   "id": "d96a3d5c",
   "metadata": {},
   "outputs": [],
   "source": [
    "ace_cmte_dict = load(\"../cesmix_prez/ace_cmte1.jld2\")\n",
    "ensemble_members = ace_cmte_dict[\"members\"]"
   ]
  },
  {
   "cell_type": "code",
   "execution_count": null,
   "id": "c71f5405",
   "metadata": {},
   "outputs": [],
   "source": [
    "ace = ACE(species            = [:Hf],\n",
    "          body_order         = 4,\n",
    "          polynomial_degree  = 10,\n",
    "          wL                 = 1.5,\n",
    "          csp                = 1.0,\n",
    "          r0                 = 2.15,\n",
    "          rcutoff            = 5.0)"
   ]
  },
  {
   "cell_type": "code",
   "execution_count": null,
   "id": "d417de57",
   "metadata": {},
   "outputs": [],
   "source": [
    "my_cmte = CommitteePotential(ensemble_members; energy_units=u\"eV\", length_units=u\"Å\")\n",
    "cmte_energy = CmteEnergy(Statistics.std, strip_units=true)"
   ]
  },
  {
   "cell_type": "code",
   "execution_count": null,
   "id": "0955533d",
   "metadata": {},
   "outputs": [],
   "source": [
    "ecalib_pred = [ustrip(PotentialLearning.potential_energy(sys,my_cmte)) for sys in combined_calib_ds]\n",
    "ecalib_ref = [get_values(get_energy(config)) for config in combined_calib_ds]\n",
    "calib_uq = [ustrip(compute(cmte_energy,config,my_cmte)) for config in combined_calib_ds]\n",
    "\n",
    "qhat = calibrate(ecalib_pred, ecalib_ref, calib_uq, 0.1)"
   ]
  },
  {
   "cell_type": "code",
   "execution_count": null,
   "id": "5dd862cf",
   "metadata": {},
   "outputs": [],
   "source": [
    "etest_pred = [ustrip(PotentialLearning.potential_energy(config,my_cmte)) for config in combined_test_ds]\n",
    "etest_ref = [ustrip(get_values(get_energy(config))) for config in combined_test_ds]\n",
    "test_uq = [ustrip(compute(cmte_energy, config, my_cmte)) for config in combined_test_ds]\n",
    "\n",
    "num_test = length(etest_pred)\n",
    "test_abs_residuals = abs.(etest_pred .- etest_ref)"
   ]
  },
  {
   "cell_type": "code",
   "execution_count": null,
   "id": "1d129b51",
   "metadata": {},
   "outputs": [],
   "source": [
    "qhat_scores = qhat*test_uq\n",
    "coverage = sum(test_abs_residuals .> qhat_scores) / num_test"
   ]
  },
  {
   "cell_type": "code",
   "execution_count": null,
   "id": "7c248b59",
   "metadata": {},
   "outputs": [],
   "source": [
    "total_train = concat_dataset([frenkel_train_ds, pristine_train_ds])"
   ]
  },
  {
   "cell_type": "code",
   "execution_count": null,
   "id": "5e2734eb",
   "metadata": {},
   "outputs": [],
   "source": [
    "train_uq = [ustrip(compute(cmte_energy, config, my_cmte)) for config in total_train]\n",
    "\n",
    "train_ci = qhat .* train_uq\n"
   ]
  },
  {
   "cell_type": "code",
   "execution_count": null,
   "id": "7905c4d0",
   "metadata": {},
   "outputs": [],
   "source": [
    "total_train_gds = [sum.(get_values(get_local_descriptors(config))) for config in total_train]"
   ]
  },
  {
   "cell_type": "code",
   "execution_count": null,
   "id": "64b24e3f",
   "metadata": {},
   "outputs": [],
   "source": [
    "lambda = 0.01\n",
    "A = reduce(hcat,total_train_gds)'\n",
    "b = train_uq\n",
    "AtA = A'*A\n",
    "Atb = A'*b\n",
    "coeffs = (AtA + lambda*I) \\ Atb"
   ]
  },
  {
   "cell_type": "code",
   "execution_count": null,
   "id": "d0012b7c",
   "metadata": {},
   "outputs": [],
   "source": [
    "train_uq"
   ]
  },
  {
   "cell_type": "code",
   "execution_count": null,
   "id": "d231d908",
   "metadata": {},
   "outputs": [],
   "source": [
    "[coeffs'*gd for gd in total_train_gds]"
   ]
  },
  {
   "cell_type": "code",
   "execution_count": null,
   "id": "6b4dd13e",
   "metadata": {},
   "outputs": [],
   "source": [
    "function simple_regression(xvecs, yvec, lambda=0.01)\n",
    "    A = reduce(hcat,xvecs)'\n",
    "    b = yvec\n",
    "    AtA = A'*A\n",
    "    Atb = A'*b\n",
    "    coeffs = (AtA + lambda*I) \\ Atb\n",
    "    coeffs\n",
    "end"
   ]
  },
  {
   "cell_type": "code",
   "execution_count": null,
   "id": "36d180ae",
   "metadata": {},
   "outputs": [],
   "source": [
    "new_coeffs = simple_regression(total_train_gds, log.(train_uq))"
   ]
  },
  {
   "cell_type": "code",
   "execution_count": null,
   "id": "9ef79321",
   "metadata": {},
   "outputs": [],
   "source": [
    "preds = [exp(new_coeffs'*gd) for gd in total_train_gds]"
   ]
  },
  {
   "cell_type": "code",
   "execution_count": null,
   "id": "581d7f88",
   "metadata": {},
   "outputs": [],
   "source": [
    "includet(\"../files/conformal_prediction_plots.jl\")"
   ]
  },
  {
   "cell_type": "code",
   "execution_count": null,
   "id": "b8f89bbc",
   "metadata": {},
   "outputs": [],
   "source": [
    "basic_parity_plot(train_uq, preds; min_val=0.0, max_val=0.2, marker_size=4)"
   ]
  },
  {
   "cell_type": "code",
   "execution_count": null,
   "id": "96d72e64",
   "metadata": {},
   "outputs": [],
   "source": []
  },
  {
   "cell_type": "code",
   "execution_count": null,
   "id": "bd5a6be6",
   "metadata": {},
   "outputs": [],
   "source": []
  }
 ],
 "metadata": {
  "language_info": {
   "name": "julia"
  }
 },
 "nbformat": 4,
 "nbformat_minor": 5
}
