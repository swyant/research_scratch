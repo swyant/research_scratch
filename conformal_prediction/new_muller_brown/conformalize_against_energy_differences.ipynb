{
 "cells": [
  {
   "cell_type": "code",
   "execution_count": null,
   "metadata": {},
   "outputs": [],
   "source": [
    "using Revise\n",
    "using Pkg; Pkg.activate(\".\") # If I'm in new_muller_brown"
   ]
  },
  {
   "cell_type": "code",
   "execution_count": null,
   "metadata": {},
   "outputs": [],
   "source": [
    "using Cairn\n",
    "using LinearAlgebra, Random, Statistics, StatsBase # Do need StatsBase this time\n",
    "using PotentialLearning\n",
    "using Molly, AtomsCalculators\n",
    "using AtomisticQoIs\n",
    "using SpecialPolynomials\n",
    "using JLD2"
   ]
  },
  {
   "cell_type": "code",
   "execution_count": null,
   "metadata": {},
   "outputs": [],
   "source": [
    "include(\"/Users/swyant/cesmix/dev/Cairn.jl/src/makie/makie.jl\")\n",
    "includet(\"/Users/swyant/cesmix/dev/Cairn.jl/src/makie/plot_contours.jl\")"
   ]
  },
  {
   "cell_type": "code",
   "execution_count": null,
   "metadata": {},
   "outputs": [],
   "source": [
    "ref = MullerBrownRot()\n",
    "limits = [[-4.4,1.5],[-2,2]]\n",
    "coord_grid = coord_grid_2d(limits,0.05) # from the makie.jl file\n",
    "#ctr_lvls = -150:50:1000\n",
    "ctr_lvls = -150:2:1000"
   ]
  },
  {
   "cell_type": "code",
   "execution_count": null,
   "metadata": {},
   "outputs": [],
   "source": [
    "basisfam = Jacobi{0.5,0.5}\n",
    "#basisfam = Jacobi{2,2}\n",
    "\n",
    "#order=20\n",
    "order=50\n",
    "pce0 = PolynomialChaos(order,2,basisfam,xscl=limits)"
   ]
  },
  {
   "cell_type": "code",
   "execution_count": null,
   "metadata": {},
   "outputs": [],
   "source": [
    "coords_eval = potential_grid_2d(ref,limits,0.04,cutoff=800)\n",
    "#@show coords_eval\n",
    "#sys_eval = define_ens(ref,coords_eval) # This has been replaced with Ensemble()\n",
    "sys_eval = Ensemble(ref,coords_eval)"
   ]
  },
  {
   "cell_type": "code",
   "execution_count": null,
   "metadata": {},
   "outputs": [],
   "source": [
    "sys0 = System(ref,[0.5,0.5], loggers=(coords=CoordinateLogger(100;dims=2),))"
   ]
  },
  {
   "cell_type": "code",
   "execution_count": null,
   "metadata": {},
   "outputs": [],
   "source": [
    "my_coordsets = load(\"ten_1500K_trainsets.jld2\")[\"coordsets\"]\n",
    "my_trainsets = [Ensemble(deepcopy(pce0),coords) for coords in my_coordsets]"
   ]
  },
  {
   "cell_type": "code",
   "execution_count": null,
   "metadata": {},
   "outputs": [],
   "source": [
    "ensemble_members = load(\"ten_pce_ensembles.jld2\")[\"ensemble_members\"]"
   ]
  },
  {
   "cell_type": "code",
   "execution_count": null,
   "metadata": {},
   "outputs": [],
   "source": [
    "include(\"committee_potentials.jl\")\n",
    "include(\"committee_qois.jl\")"
   ]
  },
  {
   "cell_type": "code",
   "execution_count": null,
   "metadata": {},
   "outputs": [],
   "source": [
    "my_cmte = CommitteePotential(ensemble_members; energy_units=u\"kJ*mol^-1\", length_units=u\"nm\")"
   ]
  },
  {
   "cell_type": "code",
   "execution_count": null,
   "metadata": {},
   "outputs": [],
   "source": [
    "cmte_energy = CmteEnergy(Statistics.std, strip_units=true)"
   ]
  },
  {
   "cell_type": "code",
   "execution_count": null,
   "metadata": {},
   "outputs": [],
   "source": [
    "# test data\n",
    "sim_highT = OverdampedLangevin(\n",
    "            dt=0.002u\"ps\",\n",
    "            temperature=1500.0u\"K\",\n",
    "            friction=4.0u\"ps^-1\",\n",
    ")\n",
    "test_sys = deepcopy(sys0)\n",
    "simulate!(test_sys, sim_highT, 10_000_000)"
   ]
  },
  {
   "cell_type": "code",
   "execution_count": null,
   "metadata": {},
   "outputs": [],
   "source": [
    "# test/calibration split\n",
    "function obtain_test_cal_indxs(frac::Float64, set_size::Int64)\n",
    "    @assert frac <= 1.0\n",
    "    num_select = Int(floor(frac*set_size))\n",
    "\n",
    "    perm_idxs = randperm(set_size)\n",
    "    test_set_idxs = perm_idxs[begin:1:num_select]\n",
    "    calib_set_idxs = perm_idxs[num_select+1:end]\n",
    "\n",
    "    test_set_idxs, calib_set_idxs\n",
    "end"
   ]
  },
  {
   "cell_type": "code",
   "execution_count": null,
   "metadata": {},
   "outputs": [],
   "source": [
    "possible_test_idxs, possible_cal_idxs = obtain_test_cal_indxs(0.5,length(test_sys.loggers.coords.history))"
   ]
  },
  {
   "cell_type": "code",
   "execution_count": null,
   "metadata": {},
   "outputs": [],
   "source": [
    "ediff_calib_idxs = possible_cal_idxs[5001:15_000]\n",
    "ediff_calib_coords = [test_sys.loggers.coords.history[i][1] for i in ediff_calib_idxs]\n",
    "ediff_calibset = Ensemble(deepcopy(pce0), ediff_calib_coords)"
   ]
  },
  {
   "cell_type": "code",
   "execution_count": null,
   "metadata": {},
   "outputs": [],
   "source": [
    "ediff_test_idxs = possible_test_idxs[5001:15000]\n",
    "ediff_test_coords = [test_sys.loggers.coords.history[i][1] for i in ediff_test_idxs]\n",
    "ediff_testset = Ensemble(deepcopy(pce0), ediff_test_coords)"
   ]
  },
  {
   "cell_type": "code",
   "execution_count": null,
   "metadata": {},
   "outputs": [],
   "source": [
    "# Already random, so just take every two\n",
    "ediff_test_ref = Float64[]\n",
    "ediff_test_pred = Float64[]\n",
    "ediff_test_uq = Float64[]\n",
    "sys1_test_uqs = Float64[]\n",
    "sys2_test_uqs = Float64[]\n",
    "\n",
    "sys1_test_epreds = Float64[]\n",
    "sys2_test_epreds = Float64[]\n",
    "for i in 1:2:length(ediff_testset)\n",
    "    sys1 = ediff_testset[i]\n",
    "    sys2 = ediff_testset[i+1]\n",
    "    e1_ref = ustrip.(potential_energy(sys1,ref))\n",
    "    e2_ref = ustrip.(potential_energy(sys2, ref))\n",
    "\n",
    "    push!(ediff_test_ref, e2_ref - e1_ref)\n",
    "\n",
    "    e1_pred = ustrip.(potential_energy(sys1, my_cmte))\n",
    "    push!(sys1_test_epreds,e1_pred)\n",
    "    e2_pred = ustrip.(potential_energy(sys2, my_cmte))\n",
    "    sys2_epreds = push!(sys2_test_epreds,e2_pred)\n",
    "\n",
    "    push!(ediff_test_pred, e2_pred - e1_pred)\n",
    "\n",
    "    sys1_uq = ustrip(compute(cmte_energy,sys1,my_cmte))\n",
    "    push!(sys1_test_uqs,sys1_uq)\n",
    "    sys2_uq = ustrip(compute(cmte_energy,sys2,my_cmte))\n",
    "    push!(sys2_test_uqs,sys2_uq)\n",
    "    push!(ediff_test_uq, sys1_uq+sys2_uq)\n",
    "end"
   ]
  },
  {
   "cell_type": "code",
   "execution_count": null,
   "metadata": {},
   "outputs": [],
   "source": [
    "# Already random, so just take every two\n",
    "ediff_calib_ref = Float64[]\n",
    "ediff_calib_pred = Float64[]\n",
    "ediff_calib_uq = Float64[]\n",
    "sys1_calib_uqs = Float64[]\n",
    "sys2_calib_uqs = Float64[]\n",
    "\n",
    "sys1_calib_epreds = Float64[]\n",
    "sys2_calib_epreds = Float64[]\n",
    "for i in 1:2:length(ediff_calibset)\n",
    "    sys1 = ediff_calibset[i]\n",
    "    sys2 = ediff_calibset[i+1]\n",
    "    e1_ref = ustrip.(potential_energy(sys1,ref))\n",
    "    e2_ref = ustrip.(potential_energy(sys2, ref))\n",
    "\n",
    "    push!(ediff_calib_ref, e2_ref - e1_ref)\n",
    "\n",
    "    e1_pred = ustrip.(potential_energy(sys1, my_cmte))\n",
    "    push!(sys1_calib_epreds,e1_pred)\n",
    "    e2_pred = ustrip.(potential_energy(sys2, my_cmte))\n",
    "    sys2_epreds = push!(sys2_calib_epreds,e2_pred)\n",
    "\n",
    "    push!(ediff_calib_pred, e2_pred - e1_pred)\n",
    "\n",
    "    sys1_uq = ustrip(compute(cmte_energy,sys1,my_cmte))\n",
    "    push!(sys1_calib_uqs,sys1_uq)\n",
    "    sys2_uq = ustrip(compute(cmte_energy,sys2,my_cmte))\n",
    "    push!(sys2_calib_uqs,sys2_uq)\n",
    "    push!(ediff_calib_uq, sys1_uq+sys2_uq)\n",
    "end"
   ]
  },
  {
   "cell_type": "code",
   "execution_count": null,
   "metadata": {},
   "outputs": [],
   "source": [
    "includet(\"conformal_prediction_utils.jl\")"
   ]
  },
  {
   "cell_type": "code",
   "execution_count": null,
   "metadata": {},
   "outputs": [],
   "source": [
    "test_ediff_uq = sys1_test_uqs .+ sys2_test_uqs\n",
    "calib_ediff_uq = sys1_calib_uqs .+ sys2_calib_uqs"
   ]
  },
  {
   "cell_type": "code",
   "execution_count": null,
   "metadata": {},
   "outputs": [],
   "source": [
    "calib_scores = abs.(ediff_calib_pred .- ediff_calib_ref) ./ calib_ediff_uq\n",
    "test_abs_residuals = abs.(ediff_test_pred .- ediff_test_ref)\n",
    "alpha_complements = collect(range(0.01,0.99,step=0.01))\n",
    "alpha_refs = 1 .- alpha_complements\n",
    "\n",
    "alpha_pred = generate_predicted_alphas(calib_scores,test_ediff_uq, test_abs_residuals)"
   ]
  },
  {
   "cell_type": "code",
   "execution_count": null,
   "metadata": {},
   "outputs": [],
   "source": [
    "make_calibration_plot(alpha_refs,alpha_pred)"
   ]
  },
  {
   "cell_type": "code",
   "execution_count": null,
   "metadata": {},
   "outputs": [],
   "source": [
    "compute_miscalibration_area(alpha_refs,alpha_pred)"
   ]
  },
  {
   "cell_type": "markdown",
   "metadata": {},
   "source": [
    "- estimate covariance matrix, k-NN of residuals with some other dataset (they did train set, but I've lost access to that... should've saved it to jld2)\n",
    "- compute e1 residuals \n",
    "- compute e2 residuals"
   ]
  },
  {
   "cell_type": "code",
   "execution_count": null,
   "metadata": {},
   "outputs": [],
   "source": [
    "alpha=0.05\n",
    "num_calib = length(calib_scores)\n",
    "q_hat = quantile(calib_scores, clamp(ceil((num_calib+1)*(1-alpha))/num_calib, 0.0, 1.0))"
   ]
  }
 ],
 "metadata": {
  "language_info": {
   "name": "julia"
  }
 },
 "nbformat": 4,
 "nbformat_minor": 2
}
