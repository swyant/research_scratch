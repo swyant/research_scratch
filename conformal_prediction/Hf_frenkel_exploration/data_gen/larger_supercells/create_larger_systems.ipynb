{
 "cells": [
  {
   "cell_type": "code",
   "execution_count": null,
   "metadata": {},
   "outputs": [],
   "source": [
    "import ase.io\n",
    "from ase.build import make_supercell\n",
    "from ase import Atom"
   ]
  },
  {
   "cell_type": "code",
   "execution_count": null,
   "metadata": {},
   "outputs": [],
   "source": [
    "orig_defective_supercell = ase.io.read(\"orthog_Hf_7_4_4_Hfint_alt_DATA\", format=\"lammps-data\")"
   ]
  },
  {
   "cell_type": "code",
   "execution_count": null,
   "metadata": {},
   "outputs": [],
   "source": [
    "supercell_8x_8defects = make_supercell(orig_defective_supercell, [[2.0,0.0,0.0], [0.0,2.0,0.0],[0.0,0.0,2.0]])"
   ]
  },
  {
   "cell_type": "code",
   "execution_count": null,
   "metadata": {},
   "outputs": [],
   "source": [
    "len(supercell_8x_8defects)"
   ]
  },
  {
   "cell_type": "code",
   "execution_count": null,
   "metadata": {},
   "outputs": [],
   "source": [
    "ase.io.write(\"large_8x_Hf_frenkel_DATA\", supercell_8x_8defects,format=\"lammps-data\", specorder=[\"Hf\"], masses=True, atom_style=\"atomic\")"
   ]
  },
  {
   "cell_type": "code",
   "execution_count": null,
   "metadata": {},
   "outputs": [],
   "source": [
    "orig_pristine_supercell = ase.io.read(\"orthog_Hf_744_prisine_DATA\", format=\"lammps-data\")"
   ]
  },
  {
   "cell_type": "code",
   "execution_count": null,
   "metadata": {},
   "outputs": [],
   "source": [
    "supercell_8x_pristine = make_supercell(orig_pristine_supercell, [[2.0,0.0,0.0], [0.0,2.0,0.0],[0.0,0.0,2.0]])"
   ]
  },
  {
   "cell_type": "code",
   "execution_count": null,
   "metadata": {},
   "outputs": [],
   "source": [
    "ase.io.write(\"large_Hf_pristine_DATA\", supercell_8x_pristine,format=\"lammps-data\", specorder=[\"Hf\"], masses=True, atom_style=\"atomic\")"
   ]
  },
  {
   "cell_type": "markdown",
   "metadata": {},
   "source": [
    "Unclear if this works, I'm just copying it from before, but this is intended to be the dilute case"
   ]
  },
  {
   "cell_type": "code",
   "execution_count": null,
   "metadata": {},
   "outputs": [],
   "source": [
    "del supercell_8x_pristine[300]"
   ]
  },
  {
   "cell_type": "code",
   "execution_count": null,
   "metadata": {},
   "outputs": [],
   "source": [
    "Hfint_x = 6.4009532250195766\n",
    "Hfint_y = 0.5*(4.614039541445209+ 6.4633928711068211)\n",
    "#Hfint_z = 0.5*(6.3328759127522352+3.7926391842507501)\n",
    "Hfint_z = 6.3328759127522352\n",
    "\n",
    "supercell_8x_pristine.append(Atom(\"Hf\", [Hfint_x, Hfint_y, Hfint_z]))"
   ]
  },
  {
   "cell_type": "code",
   "execution_count": null,
   "metadata": {},
   "outputs": [],
   "source": [
    "ase.io.write(\"large_dilute_Hf_frenkel\", supercell_8x_pristine, format=\"lammps-data\", specorder=[\"Hf\"], masses=True, atom_style=\"atomic\")"
   ]
  }
 ],
 "metadata": {
  "language_info": {
   "name": "python"
  }
 },
 "nbformat": 4,
 "nbformat_minor": 2
}
