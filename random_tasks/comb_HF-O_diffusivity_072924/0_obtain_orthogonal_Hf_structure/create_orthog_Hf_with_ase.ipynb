{
 "cells": [
  {
   "cell_type": "code",
   "execution_count": null,
   "metadata": {},
   "outputs": [],
   "source": [
    "import ase.io\n",
    "from abtem.atoms import orthogonalize_cell\n",
    "from ase.spacegroup import get_spacegroup\n",
    "\n",
    "\n",
    "supercell_spec = []\n",
    "output_fname = \"orthog_Hf_unit_cell_DATA\""
   ]
  },
  {
   "cell_type": "code",
   "execution_count": null,
   "metadata": {},
   "outputs": [],
   "source": [
    "atoms = ase.io.read(\"Hf.cif\")\n",
    "print(get_spacegroup(atoms))\n",
    "orthog_atoms = orthogonalize_cell(atoms)"
   ]
  },
  {
   "cell_type": "code",
   "execution_count": null,
   "metadata": {},
   "outputs": [],
   "source": [
    "atoms.get_cell()"
   ]
  },
  {
   "cell_type": "markdown",
   "metadata": {},
   "source": [
    "Quickly check that we've only gone from the original two atoms to four atoms, and that the system has the same symmetry (i.e. periodic arrangement of atoms)"
   ]
  },
  {
   "cell_type": "code",
   "execution_count": null,
   "metadata": {},
   "outputs": [],
   "source": [
    "print(orthog_atoms.get_positions())\n",
    "print(orthog_atoms.get_cell())\n",
    "print(get_spacegroup(orthog_atoms))"
   ]
  },
  {
   "cell_type": "code",
   "execution_count": null,
   "metadata": {},
   "outputs": [],
   "source": [
    "ase.io.write(output_fname, orthog_atoms,format=\"lammps-data\", specorder=[\"Hf\", \"O\"], masses=True, atom_style=\"charge\")"
   ]
  }
 ],
 "metadata": {
  "language_info": {
   "name": "python"
  }
 },
 "nbformat": 4,
 "nbformat_minor": 2
}
