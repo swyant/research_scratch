{
 "cells": [
  {
   "cell_type": "code",
   "execution_count": null,
   "metadata": {},
   "outputs": [],
   "source": [
    "using Revise "
   ]
  },
  {
   "cell_type": "code",
   "execution_count": null,
   "metadata": {},
   "outputs": [],
   "source": [
    "using Cairn \n",
    "using LinearAlgebra, Random, Statistics, StatsBase # Do need StatsBase this time\n",
    "using PotentialLearning \n",
    "using Molly, AtomsCalculators\n",
    "using AtomisticQoIs \n",
    "using SpecialPolynomials\n"
   ]
  },
  {
   "cell_type": "code",
   "execution_count": null,
   "metadata": {},
   "outputs": [],
   "source": [
    "include(\"/Users/swyant/cesmix/dev/Cairn.jl/src/makie/makie.jl\")"
   ]
  },
  {
   "cell_type": "code",
   "execution_count": null,
   "metadata": {},
   "outputs": [],
   "source": [
    "ref = MullerBrownRot() \n",
    "\n",
    "temp = 100.0u\"K\"\n",
    "x0 = [-1.5,1.0]\n",
    "sys0 = System( \n",
    "        ref, \n",
    "        x0,\n",
    "        loggers=(coords=CoordinateLogger(1000;dims=2),),\n",
    ")\n",
    "\n",
    "limits = [[-4.4,1.5],[-2,2]]\n",
    "coord_grid = coord_grid_2d(limits, 0.05)\n",
    "ctr_lvls = -150:20:400"
   ]
  },
  {
   "cell_type": "code",
   "execution_count": null,
   "metadata": {},
   "outputs": [],
   "source": [
    "coords_eval = potential_grid_2d(ref,limits,0.05,cutoff=1000)\n",
    "sys_eval = Ensemble(ref,coords_eval)\n",
    "\n",
    "ξ = [ustrip.(Vector(coords)) for coords in coords_eval]\n",
    "GQint = GaussQuadrature(ξ, ones(length(ξ))./length(ξ))"
   ]
  },
  {
   "cell_type": "code",
   "execution_count": null,
   "metadata": {},
   "outputs": [],
   "source": [
    "f0, ax0 = plot_contours_2d(ref, coord_grid; fill=true, lvls=ctr_lvls)\n",
    "coordmat = reduce(hcat, [get_values(crd) for crd in coords_eval])'\n",
    "scatter!(ax0, coordmat[:,1], coordmat[:,2], color=:red, markersize=5, label=\"test points\")\n",
    "axislegend(ax0)\n",
    "f0"
   ]
  },
  {
   "cell_type": "code",
   "execution_count": null,
   "metadata": {},
   "outputs": [],
   "source": [
    "sim_langevin = OverdampedLangevin(\n",
    "            dt=0.001u\"ps\",\n",
    "            temperature=1200.0u\"K\",\n",
    "            friction=4.0u\"ps^-1\")\n",
    "\n",
    "sys = deepcopy(sys0)\n",
    "simulate!(sys, sim_langevin, 1_000_000)"
   ]
  },
  {
   "cell_type": "code",
   "execution_count": null,
   "metadata": {},
   "outputs": [],
   "source": [
    "f = plot_md_trajectory(sys, coord_grid, fill=false, lvls=ctr_lvls, showpath=false)"
   ]
  },
  {
   "cell_type": "code",
   "execution_count": null,
   "metadata": {},
   "outputs": [],
   "source": [
    "nens = 100\n",
    "id = StatsBase.sample(1:length(sys.loggers.coords.history), nens, replace=false)\n",
    "coords0 = [sys.loggers.coords.history[i][1] for i in id]\n",
    "\n",
    "ens0 = Ensemble(ref, coords0,\n",
    "    loggers=(\n",
    "        coords=CoordinateLogger(10; dims=2),\n",
    "    ),\n",
    ")"
   ]
  },
  {
   "cell_type": "code",
   "execution_count": null,
   "metadata": {},
   "outputs": [],
   "source": [
    "rbf = RBF(Euclidean(2), β=1.0, ℓ=1.0)\n",
    "sim_svgd = StochasticSVGD(\n",
    "            dt=0.001u\"ps\",\n",
    "            kernel=rbf,\n",
    "            kernel_bandwidth=median_kernel_bandwidth,\n",
    "            temperature=20.0u\"K\",\n",
    "            friction=1.0u\"ps^-1\")\n",
    "\n",
    "simulate!(ens0, sim_svgd, 10_000)\n"
   ]
  },
  {
   "cell_type": "code",
   "execution_count": null,
   "metadata": {},
   "outputs": [],
   "source": [
    "f = plot_md_trajectory(ens0, coord_grid, fill=false, lvls=ctr_lvls, showpath=false)"
   ]
  },
  {
   "cell_type": "code",
   "execution_count": null,
   "metadata": {},
   "outputs": [],
   "source": [
    "coords_train = coords0\n",
    "sys_train = Ensemble(ref, coords_train,\n",
    "    data=Dict(\n",
    "        \"energy_descriptors\" => [],\n",
    "        \"force_descriptors\" => [],\n",
    "    )\n",
    ")"
   ]
  },
  {
   "cell_type": "code",
   "execution_count": null,
   "metadata": {},
   "outputs": [],
   "source": [
    "# define model\n",
    "basisfam = Jacobi{0.5,0.5} # ChebyshevU\n",
    "order = 8 # [5,10,15,20,25,30]\n",
    "pce = PolynomialChaos(order, 2, basisfam, xscl=limits)\n",
    "\n",
    "pce0 = deepcopy(pce)\n",
    "\n",
    "nens = 10\n",
    "ens0 = Ensemble(pce0, coords_train[1:nens],\n",
    "    loggers=(\n",
    "        coords=CoordinateLogger(10; dims=2),\n",
    "        steps=StepComponentLogger(10; dims=2),\n",
    "    ),\n",
    "    data=Dict(\n",
    "        \"energy_descriptors\" => Float64[],\n",
    "        \"force_descriptors\" => Vector[],\n",
    "        \"kernel\" => 1.0,\n",
    "        \"ksd\" => 1.0,\n",
    "    )\n",
    ")\n",
    "\n",
    "train!(ens0, sys_train, ref) # trains \n",
    "pce0.params = ens0[1].general_inters[1].params"
   ]
  },
  {
   "cell_type": "code",
   "execution_count": null,
   "metadata": {},
   "outputs": [],
   "source": [
    "ctr_lvls0 = -300:20:100\n",
    "f0, ax0 = plot_contours_2d(pce0, coord_grid; fill=true, lvls=ctr_lvls0)\n",
    "coordmat = reduce(hcat, [get_values(crd) for crd in coords_train])'\n",
    "scatter!(ax0, coordmat[:,1], coordmat[:,2], color=:red, label=\"training points\")\n",
    "axislegend(ax0)\n",
    "f0\n"
   ]
  },
  {
   "cell_type": "markdown",
   "metadata": {},
   "source": [
    "Already this example is kind of bricked because plot_contours_2d calls potential energy, which calls compute_local_descriptors, for which there is no longer the method handle of (coords, pce,) but instead (sys, pce)"
   ]
  },
  {
   "cell_type": "code",
   "execution_count": null,
   "metadata": {},
   "outputs": [],
   "source": [
    "rbf = RBF(Euclidean(2), β=0.2)\n",
    "\n",
    "\n",
    "# define simulator\n",
    "sim_svgd = StochasticSVGD(\n",
    "            dt=0.001u\"ps\",\n",
    "            kernel=rbf,\n",
    "            kernel_bandwidth=median_kernel_bandwidth,\n",
    "            sys_fix=sys_train,\n",
    "            temperature=temp,\n",
    "            friction=1.0u\"ps^-1\")\n",
    "\n",
    "# simulate\n",
    "ens = deepcopy(ens0)\n",
    "simulate!(ens, sim_svgd, 1_000)\n",
    "\n",
    "\n",
    "# define triggers\n",
    "trig1 = TimeInterval(interval=100)\n",
    "trig2 = MaxVol(thresh=1.22)"
   ]
  },
  {
   "cell_type": "code",
   "execution_count": null,
   "metadata": {},
   "outputs": [],
   "source": [
    "#this is totally undefined\n",
    "al = ActiveLearnRoutine(\n",
    "    ref=ref,\n",
    "    mlip=pce0,\n",
    "    trainset=sys_train,\n",
    "    triggers=(trig1, trig2),\n",
    "    dataselector=RandomSelector,\n",
    "    trainobj=LinearLeastSquares,\n",
    ")"
   ]
  },
  {
   "cell_type": "code",
   "execution_count": null,
   "metadata": {},
   "outputs": [],
   "source": []
  }
 ],
 "metadata": {
  "language_info": {
   "name": "julia"
  }
 },
 "nbformat": 4,
 "nbformat_minor": 2
}
