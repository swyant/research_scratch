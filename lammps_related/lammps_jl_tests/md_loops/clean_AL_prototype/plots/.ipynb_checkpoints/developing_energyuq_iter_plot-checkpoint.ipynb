{
 "cells": [
  {
   "cell_type": "code",
   "execution_count": 1,
   "metadata": {},
   "outputs": [
    {
     "data": {
      "text/plain": [
       "'/Users/swyant/cesmix/exploratory/new_public/lammps_related/lammps_jl_tests/md_loops/clean_AL_prototype/plots'"
      ]
     },
     "execution_count": 1,
     "metadata": {},
     "output_type": "execute_result"
    }
   ],
   "source": [
    "%matplotlib inline\n",
    "import numpy as np \n",
    "import matplotlib.pyplot as plt\n",
    "import os\n",
    "from matplotlib.collections import LineCollection\n",
    "\n",
    "os.getcwd()\n",
    "#os.chdir(\"./clean_AL_prototype/plots/\")\n"
   ]
  },
  {
   "cell_type": "code",
   "execution_count": 2,
   "metadata": {},
   "outputs": [],
   "source": [
    "num_iters = 4\n",
    "window = 20000"
   ]
  },
  {
   "cell_type": "code",
   "execution_count": 3,
   "metadata": {},
   "outputs": [],
   "source": [
    "steps_list =[]\n",
    "temps_list = []\n",
    "estds_list = []\n",
    "for i in range(num_iters):\n",
    "    data = np.loadtxt(f\"iteration{i+1}_data.csv\",delimiter=\",\",skiprows=1)\n",
    "    steps      = data[:,0]\n",
    "    temps      = data[:,1]\n",
    "    energy_std = data[:,2]\n",
    "\n",
    "    steps_list.append(steps)\n",
    "    temps_list.append(temps)\n",
    "    estds_list.append(energy_std)\n"
   ]
  },
  {
   "cell_type": "code",
   "execution_count": 4,
   "metadata": {},
   "outputs": [
    {
     "data": {
      "text/plain": [
       "200001"
      ]
     },
     "execution_count": 4,
     "metadata": {},
     "output_type": "execute_result"
    }
   ],
   "source": [
    "len(steps_list[3])"
   ]
  },
  {
   "cell_type": "code",
   "execution_count": 5,
   "metadata": {},
   "outputs": [
    {
     "data": {
      "image/png": "[encoded data removed]",
      "text/plain": [
       "<Figure size 640x480 with 4 Axes>"
      ]
     },
     "metadata": {},
     "output_type": "display_data"
    }
   ],
   "source": [
    "fig, axs = plt.subplots(num_iters,1,sharex=True,sharey=True)"
   ]
  },
  {
   "cell_type": "code",
   "execution_count": 7,
   "metadata": {},
   "outputs": [
    {
     "data": {
      "text/plain": [
       "(0.0, 200100.0)"
      ]
     },
     "execution_count": 7,
     "metadata": {},
     "output_type": "execute_result"
    }
   ],
   "source": [
    "norm = plt.Normalize(2800,4000)\n",
    "lw = 0.2\n",
    "cmap = \"magma\"\n",
    "for i in range(num_iters):\n",
    "    points = np.array([steps_list[i],estds_list[i]]).T.reshape(-1,1,2)\n",
    "    segments = np.concatenate([points[:-1],points[1:]],axis=1)\n",
    "    window_avg = np.convolve(temps_list[i], np.ones((window,))/window, mode=\"same\")\n",
    "\n",
    "    lc = LineCollection(segments,cmap=cmap, norm=norm)\n",
    "    lc.set_array(window_avg)\n",
    "    lc.set_linewidth(lw)\n",
    "    line = axs[i].add_collection(lc)\n",
    "\n",
    "axs[0].set_ylim([-0.01,0.2])\n",
    "axs[0].set_xlim(0,200100)\n"
   ]
  },
  {
   "cell_type": "code",
   "execution_count": 9,
   "metadata": {},
   "outputs": [],
   "source": [
    "plt.show()"
   ]
  },
  {
   "cell_type": "code",
   "execution_count": null,
   "metadata": {},
   "outputs": [],
   "source": []
  }
 ],
 "metadata": {
  "kernelspec": {
   "display_name": "Python 3 (ipykernel)",
   "language": "python",
   "name": "python3"
  },
  "language_info": {
   "codemirror_mode": {
    "name": "ipython",
    "version": 3
   },
   "file_extension": ".py",
   "mimetype": "text/x-python",
   "name": "python",
   "nbconvert_exporter": "python",
   "pygments_lexer": "ipython3",
   "version": "3.11.6"
  }
 },
 "nbformat": 4,
 "nbformat_minor": 4
}
