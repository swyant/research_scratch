{
 "cells": [
  {
   "cell_type": "code",
   "execution_count": null,
   "metadata": {},
   "outputs": [],
   "source": [
    "using Pkg; Pkg.activate(\".\")\n",
    "using SteinMD\n",
    "using Molly \n",
    "using PotentialLearning\n",
    "using LinearAlgebra\n",
    "using SpecialPolynomials\n",
    "\n",
    "# plotting scripts - these are kept separate from the package for now\n",
    "include(\"/Users/swyant/cesmix/dev/SteinMD.jl/src/makie/makie.jl\")"
   ]
  },
  {
   "cell_type": "code",
   "execution_count": null,
   "metadata": {},
   "outputs": [],
   "source": [
    "ref = MullerBrown()"
   ]
  },
  {
   "cell_type": "code",
   "execution_count": null,
   "metadata": {},
   "outputs": [],
   "source": [
    "pce = PolynomialChaos(4, 2, ChebyshevU)"
   ]
  },
  {
   "cell_type": "code",
   "execution_count": null,
   "metadata": {},
   "outputs": [],
   "source": [
    "# define properties\n",
    "atom_mass = 1.0u\"g/mol\"\n",
    "boundary = RectangularBoundary(Inf*u\"nm\")\n",
    "temp = 100.0u\"K\"\n",
    "\n",
    "# define initial system\n",
    "atoms = [Atom(mass=atom_mass)]\n",
    "coords = [SVector(-0.8, 1.2)u\"nm\"] # initial position\n",
    "sys = System(\n",
    "    atoms=atoms,\n",
    "    coords=coords,\n",
    "    boundary=boundary,\n",
    "    general_inters=(ref,),\n",
    "    loggers=(coords=CoordinateLogger(100; dims=2),),\n",
    ")\n",
    "\n",
    "# define simulator\n",
    "sim_langevin = OverdampedLangevin(\n",
    "            dt=0.002u\"ps\",\n",
    "            temperature=temp,\n",
    "            friction=4.0u\"ps^-1\")"
   ]
  },
  {
   "cell_type": "code",
   "execution_count": null,
   "metadata": {},
   "outputs": [],
   "source": [
    "# run simulation - this will take a few seconds\n",
    "simulate!(sys, sim_langevin, 5_000_000)"
   ]
  },
  {
   "cell_type": "code",
   "execution_count": null,
   "metadata": {},
   "outputs": [],
   "source": [
    "# subsample to obtain training data\n",
    "coords_train = [sys.loggers.coords.history[i][1] for i = 2:2000:length(sys.loggers.coords.history)]\n",
    "ntrain = length(coords_train)\n",
    "atoms_train = [Atom(mass=atom_mass) for i in 1:ntrain]\n",
    "\n",
    "sys_train = [System(\n",
    "    atoms=[atoms_i],\n",
    "    coords=[coords_i],\n",
    "    boundary=boundary,\n",
    "    general_inters=(ref,),\n",
    "    # k = 1.0u\"kJ * K^-1 * mol^-1\",\n",
    ") for (atoms_i, coords_i) in zip(atoms_train, coords_train)]"
   ]
  },
  {
   "cell_type": "code",
   "execution_count": null,
   "metadata": {},
   "outputs": [],
   "source": [
    "# ALT: subsample to obtain training data\n",
    "x_train = [[-0.85, 1.23], [-0.92, 1.1], [-0.78, 1.46], [-0.82, 1.57], [-0.6, 1.27],\n",
    "           [-0.51, 1.09], [-0.98, 1.72], [-0.54, 1.68], [-0.49, 1.26], [-0.80, 1.12]]\n",
    "coords_train = [SVector(x[1], x[2])u\"nm\" for x in x_train]\n",
    "ntrain = length(x_train)\n",
    "atoms_train = [Atom(mass=atom_mass) for i in 1:ntrain]\n",
    "\n",
    "# define initial ensemble\n",
    "sys_train = [System(\n",
    "    atoms=[atoms_i],\n",
    "    coords=[coords_i],\n",
    "    boundary=boundary,\n",
    "    general_inters=(ref,),\n",
    "    # k = 1.0u\"kJ * K^-1 * mol^-1\",\n",
    "    loggers=(\n",
    "        coords=CoordinateLogger(1; dims=2),\n",
    "        ksd=StepComponentLogger(1; dims=2),\n",
    "    )\n",
    ") for (atoms_i, coords_i) in zip(atoms_train, coords_train)]"
   ]
  },
  {
   "cell_type": "code",
   "execution_count": null,
   "metadata": {},
   "outputs": [],
   "source": [
    "\n",
    "# plot training samples\n",
    "dist_units = u\"nm\"\n",
    "xcoords = Vector(-3.5:0.05:1.5) .* dist_units\n",
    "ycoords = Vector(-1.5:0.05:3.5) .* dist_units\n",
    "ctr_grid = [xcoords, ycoords]\n",
    "ctr_lvls = -150:20:400\n",
    "\n",
    "f0 = plot_md_trajectory(sys, sys_train, ctr_grid, fill=true, lvls=ctr_lvls)"
   ]
  },
  {
   "cell_type": "code",
   "execution_count": null,
   "metadata": {},
   "outputs": [],
   "source": [
    "train_potential!(sys_train,ref,pce)\n",
    "pce.params"
   ]
  },
  {
   "cell_type": "code",
   "execution_count": null,
   "metadata": {},
   "outputs": [],
   "source": [
    "ctr_lvls2 = -10000:200:2000\n",
    "f0, ax0 = plot_contours_2D(pce,xcoords,ycoords; fill=true, lvls=ctr_lvls2)\n",
    "coordmat = transpose(reduce(hcat, get_values(coords_train)))\n",
    "scatter!(ax0, coordmat[:,1], coordmat[:,2], color=:red, label=\"training points\")\n",
    "axislegend(ax0)\n",
    "f0"
   ]
  },
  {
   "cell_type": "code",
   "execution_count": null,
   "metadata": {},
   "outputs": [],
   "source": [
    "rbf = RBF(Euclidean(2), β=1.0, ℓ = 0.1)\n",
    "# define simulator\n",
    "sim_svgd = StochasticSVGD(\n",
    "            dt=0.001u\"ps\",\n",
    "            kernel=rbf,\n",
    "            temperature=temp, #1.0u\"K\",\n",
    "            friction=4.0u\"ps^-1\")\n",
    "     "
   ]
  },
  {
   "cell_type": "code",
   "execution_count": null,
   "metadata": {},
   "outputs": [],
   "source": [
    "altrigger = TimeInterval(interval=200)"
   ]
  },
  {
   "cell_type": "code",
   "execution_count": null,
   "metadata": {},
   "outputs": [],
   "source": [
    "# define initial ensemble\n",
    "ens0 = [System(\n",
    "    atoms=[atoms_i],\n",
    "    coords=[coords_i],\n",
    "    boundary=boundary,\n",
    "    general_inters=(pce,),\n",
    "    # k = 1.0u\"kJ * K^-1 * mol^-1\",\n",
    "    loggers=(\n",
    "        coords=CoordinateLogger(1; dims=2),\n",
    "        ksd=StepComponentLogger(1; dims=2),\n",
    "        # trigger=TriggerLogger(altrigger, 1),\n",
    "        params=TrainingLogger(),\n",
    "    )\n",
    ") for (atoms_i, coords_i) in zip(atoms_train, coords_train)]"
   ]
  },
  {
   "cell_type": "code",
   "execution_count": null,
   "metadata": {},
   "outputs": [],
   "source": [
    "ens = deepcopy(ens0) # I guess so that you constantly have access to the initialized ensemble\n",
    "sys_final, alsteps = active_learn!(ens, sim_svgd, 2_000, sys_train, ref, altrigger)"
   ]
  },
  {
   "cell_type": "code",
   "execution_count": null,
   "metadata": {},
   "outputs": [],
   "source": []
  }
 ],
 "metadata": {
  "language_info": {
   "name": "julia"
  }
 },
 "nbformat": 4,
 "nbformat_minor": 2
}
