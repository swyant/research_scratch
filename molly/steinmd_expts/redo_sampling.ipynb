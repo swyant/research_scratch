{
 "cells": [
  {
   "cell_type": "code",
   "execution_count": null,
   "metadata": {},
   "outputs": [],
   "source": [
    "using Pkg; Pkg.activate(\".\")\n",
    "using SteinMD\n",
    "using Molly \n",
    "using PotentialLearning\n",
    "using LinearAlgebra"
   ]
  },
  {
   "cell_type": "code",
   "execution_count": null,
   "metadata": {},
   "outputs": [],
   "source": [
    "include(\"/Users/swyant/cesmix/dev/SteinMD.jl/src/makie/makie.jl\")"
   ]
  },
  {
   "cell_type": "code",
   "execution_count": null,
   "metadata": {},
   "outputs": [],
   "source": [
    "ref = MullerBrown()"
   ]
  },
  {
   "cell_type": "code",
   "execution_count": null,
   "metadata": {},
   "outputs": [],
   "source": [
    "# define properties\n",
    "atom_mass = 1.0u\"g/mol\"\n",
    "boundary = RectangularBoundary(Inf*u\"nm\")\n",
    "temp = 100.0u\"K\"\n",
    "\n",
    "# define initial system\n",
    "#atoms = [Atom(mass=atom_mass, σ=0.3u\"nm\", ϵ=0.2u\"kJ * mol^-1\")] # Do you need to specify the LJ params?\n",
    "atoms = [Atom(mass=atom_mass)] # No, I don't think so\n",
    "coords = [SVector(-0.8, 1.2)u\"nm\"] # initial position\n",
    "sys = System(\n",
    "    atoms=atoms,\n",
    "    coords=coords,\n",
    "    boundary=boundary,\n",
    "    general_inters=(ref,),\n",
    "    loggers=(coords=CoordinateLogger(100; dims=2),),\n",
    ")\n",
    "\n",
    "# define simulator\n",
    "sim_langevin = OverdampedLangevin(\n",
    "            dt=0.002u\"ps\",\n",
    "            temperature=temp,\n",
    "            friction=4.0u\"ps^-1\")"
   ]
  },
  {
   "cell_type": "code",
   "execution_count": null,
   "metadata": {},
   "outputs": [],
   "source": [
    "\n",
    "# run simulation - this will take a few seconds\n",
    "simulate!(sys, sim_langevin, 5_000_000)"
   ]
  },
  {
   "cell_type": "code",
   "execution_count": null,
   "metadata": {},
   "outputs": [],
   "source": [
    "# plot MD trajectory \n",
    "dist_units = u\"nm\"\n",
    "xcoords = Vector(-3.5:0.05:1.5) .* dist_units\n",
    "ycoords = Vector(-1.5:0.05:3.5) .* dist_units\n",
    "ctr_grid = [xcoords, ycoords]\n",
    "ctr_lvls = -150:20:400\n",
    "\n",
    "f0 = plot_md_trajectory(sys, ctr_grid, fill=true, lvls=ctr_lvls)"
   ]
  },
  {
   "cell_type": "code",
   "execution_count": null,
   "metadata": {},
   "outputs": [],
   "source": [
    "# define kernel\n",
    "#rbf = RBF(Euclidean(2), β=1.0, ℓ = 0.1) \n",
    "rbf = RBF(Euclidean(2), β=1.0, ℓ = 1.0) \n",
    "# define simulator\n",
    "sim_svgd = StochasticSVGD(\n",
    "            dt=0.002u\"ps\",\n",
    "            kernel=rbf,\n",
    "            #temperature=temp, # 1.0u\"K\",\n",
    "            temperature=200.0u\"K\", \n",
    "            friction=1.0u\"ps^-1\")"
   ]
  },
  {
   "cell_type": "code",
   "execution_count": null,
   "metadata": {},
   "outputs": [],
   "source": [
    "# subsample to obtain training data\n",
    "coords_train = [sys.loggers.coords.history[i][1] for i = 2:2000:length(sys.loggers.coords.history)]\n",
    "ntrain = length(coords_train)\n",
    "atoms_train = [Atom(mass=atom_mass) for i in 1:ntrain]\n",
    "\n",
    "# define initial ensemble\n",
    "ens1 = [System(\n",
    "    atoms=[atoms_i],\n",
    "    coords=[coords_i],\n",
    "    boundary=boundary,\n",
    "    general_inters=(ref,),\n",
    "    # k = 1.0u\"kJ * K^-1 * mol^-1\",\n",
    "    loggers=(\n",
    "        coords=CoordinateLogger(1; dims=2),\n",
    "        ksd=StepComponentLogger(1; dims=2),\n",
    "    )\n",
    ") for (atoms_i, coords_i) in zip(atoms_train, coords_train)]"
   ]
  },
  {
   "cell_type": "code",
   "execution_count": null,
   "metadata": {},
   "outputs": [],
   "source": [
    "# run simulation - this will take a few seconds\n",
    "simulate!(ens1, sim_svgd, 10_000) # Note number of simulations chosen to lead to roughly equivalent sim run times as running the full trajectory"
   ]
  },
  {
   "cell_type": "code",
   "execution_count": null,
   "metadata": {},
   "outputs": [],
   "source": [
    "f1 = plot_md_trajectory(ens1, ctr_grid, fill=true, lvls=ctr_lvls, showpath=false)"
   ]
  },
  {
   "cell_type": "code",
   "execution_count": null,
   "metadata": {},
   "outputs": [],
   "source": [
    "\n",
    "f1b, _ = plot_step(ens1, \"Kernel Stein discrepancy\", logscl=true)\n",
    "f1b"
   ]
  },
  {
   "cell_type": "code",
   "execution_count": null,
   "metadata": {},
   "outputs": [],
   "source": [
    "# subsample to obtain training data\n",
    "x_train = [[1.0, 0.0], [0.5, 0.0], [0.0, 0.0], [-0.5, 0.0], [-1.0, 0.0],\n",
    "           [1.0, 0.5], [0.5, 0.5], [0.0, 0.5], [-0.5, 0.5], [-1.0, 0.5],\n",
    "           [0.5, 1.0], [0.0, 1.0], [-0.5, 1.0], [-1.0, 1.0], [-1.5, 1.0],\n",
    "           [0.5, 1.5], [0.0, 1.5], [-0.5, 1.5], [-1.0, 1.5], [-1.5, 1.5], \n",
    "           [0.0, 2.0], [-0.5, 2.0], [-1.0, 2.0], [-1.5, 2.0], [-2.0, 2.0]]\n",
    "coords_train = [SVector(x[1], x[2])u\"nm\" for x in x_train]\n",
    "ntrain = length(x_train)\n",
    "atoms_train = [Atom(mass=atom_mass, σ=1.0u\"nm\", ϵ=1.0u\"kJ * mol^-1\") for i in 1:ntrain]\n",
    "\n",
    "# define initial ensemble\n",
    "ens2 = [System(\n",
    "    atoms=[atoms_i],\n",
    "    coords=[coords_i],\n",
    "    boundary=boundary,\n",
    "    general_inters=(ref,),\n",
    "    # k = 1.0u\"kJ * K^-1 * mol^-1\",\n",
    "    loggers=(\n",
    "        coords=CoordinateLogger(1; dims=2),\n",
    "        ksd=StepComponentLogger(1; dims=2),\n",
    "    )\n",
    ") for (atoms_i, coords_i) in zip(atoms_train, coords_train)]"
   ]
  },
  {
   "cell_type": "code",
   "execution_count": null,
   "metadata": {},
   "outputs": [],
   "source": [
    "# run simulation - this will take a few seconds\n",
    "simulate!(ens2, sim_svgd, 10_000)"
   ]
  },
  {
   "cell_type": "code",
   "execution_count": null,
   "metadata": {},
   "outputs": [],
   "source": [
    "f2 = plot_md_trajectory(ens2, ctr_grid, fill=true, lvls=ctr_lvls, showpath=false)\n"
   ]
  },
  {
   "cell_type": "code",
   "execution_count": null,
   "metadata": {},
   "outputs": [],
   "source": [
    "f2b, _ = plot_step(ens2, \"Kernel Stein discrepancy\", logscl=true)\n",
    "f2b"
   ]
  },
  {
   "cell_type": "code",
   "execution_count": null,
   "metadata": {},
   "outputs": [],
   "source": []
  }
 ],
 "metadata": {
  "language_info": {
   "name": "julia"
  }
 },
 "nbformat": 4,
 "nbformat_minor": 2
}
