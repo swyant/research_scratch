{
 "cells": [
  {
   "cell_type": "code",
   "execution_count": null,
   "id": "e3f15907",
   "metadata": {},
   "outputs": [],
   "source": [
    "from pymatgen.io.vasp.outputs import Vasprun"
   ]
  },
  {
   "cell_type": "code",
   "execution_count": null,
   "id": "05f31019",
   "metadata": {},
   "outputs": [],
   "source": [
    "ref_vasprun = \"/Users/swyant/cesmix/datasets/al-al2o3_phd/xml_collection/1_29_20_encut_720_ediff_1.e-8/sample_titep/set_1-nve/200K/vasprun4.xml\""
   ]
  },
  {
   "cell_type": "code",
   "execution_count": null,
   "id": "98637dff",
   "metadata": {},
   "outputs": [],
   "source": [
    "vasprun = Vasprun(ref_vasprun, parse_potcar_file=False)"
   ]
  },
  {
   "cell_type": "code",
   "execution_count": null,
   "id": "84d8a23e",
   "metadata": {},
   "outputs": [],
   "source": [
    "vr_struct_final = vasprun.ionic_steps[-1]"
   ]
  },
  {
   "cell_type": "code",
   "execution_count": null,
   "id": "9f20f877",
   "metadata": {},
   "outputs": [],
   "source": [
    "vr_struct_final['e_fr_energy']"
   ]
  },
  {
   "cell_type": "code",
   "execution_count": null,
   "id": "4bbf21c6",
   "metadata": {},
   "outputs": [],
   "source": [
    "vr_struct_final['stress']"
   ]
  },
  {
   "cell_type": "code",
   "execution_count": null,
   "id": "f89245db",
   "metadata": {},
   "outputs": [],
   "source": [
    "vasprun.__dict__"
   ]
  },
  {
   "cell_type": "code",
   "execution_count": null,
   "id": "a6ef5a80",
   "metadata": {},
   "outputs": [],
   "source": [
    "from ase.io import read"
   ]
  },
  {
   "cell_type": "code",
   "execution_count": null,
   "id": "8203e73d",
   "metadata": {},
   "outputs": [],
   "source": [
    "atoms = read(ref_vasprun, index='-1')"
   ]
  },
  {
   "cell_type": "code",
   "execution_count": null,
   "id": "c90f4be5",
   "metadata": {},
   "outputs": [],
   "source": [
    "atoms.get_stress()"
   ]
  },
  {
   "cell_type": "code",
   "execution_count": null,
   "id": "99b393f0",
   "metadata": {},
   "outputs": [],
   "source": []
  }
 ],
 "metadata": {
  "language_info": {
   "name": "python"
  }
 },
 "nbformat": 4,
 "nbformat_minor": 5
}
