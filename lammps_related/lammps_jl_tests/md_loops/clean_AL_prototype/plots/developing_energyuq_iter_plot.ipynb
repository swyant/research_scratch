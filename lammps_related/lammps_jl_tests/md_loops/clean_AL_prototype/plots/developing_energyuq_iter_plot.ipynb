{
 "cells": [
  {
   "cell_type": "code",
   "execution_count": null,
   "metadata": {},
   "outputs": [],
   "source": [
    "%matplotlib inline\n",
    "import numpy as np \n",
    "import matplotlib.pyplot as plt\n",
    "import os\n",
    "from matplotlib.collections import LineCollection\n",
    "\n",
    "os.getcwd()\n",
    "#os.chdir(\"./clean_AL_prototype/plots/\")\n"
   ]
  },
  {
   "cell_type": "code",
   "execution_count": null,
   "metadata": {},
   "outputs": [],
   "source": [
    "num_iters = 4\n",
    "window = 4000"
   ]
  },
  {
   "cell_type": "code",
   "execution_count": null,
   "metadata": {},
   "outputs": [],
   "source": [
    "steps_list =[]\n",
    "temps_list = []\n",
    "estds_list = []\n",
    "for i in range(num_iters):\n",
    "    data = np.loadtxt(f\"iteration{i+1}_data.csv\",delimiter=\",\",skiprows=1)\n",
    "    steps      = data[:,0]\n",
    "    temps      = data[:,1]\n",
    "    energy_std = data[:,2]\n",
    "\n",
    "    steps_list.append(steps)\n",
    "    temps_list.append(temps)\n",
    "    estds_list.append(energy_std)\n"
   ]
  },
  {
   "cell_type": "code",
   "execution_count": null,
   "metadata": {},
   "outputs": [],
   "source": [
    "len(steps_list[3])"
   ]
  },
  {
   "cell_type": "markdown",
   "metadata": {},
   "source": [
    "This whole business of prepending the window avg is a bit hand-wavy, and would need to be fixed if this were ever to be published.\n",
    "But because it's just about getting the coloring qualitiatively correct, I'm not too worried"
   ]
  },
  {
   "cell_type": "code",
   "execution_count": null,
   "metadata": {},
   "outputs": [],
   "source": [
    "fig, ax = plt.subplots()\n",
    "ax.plot(steps_list[3],temps_list[3],lw=0.5)\n",
    "window_avg = np.convolve(temps_list[3], np.ones((window,))/window, mode=\"valid\")\n",
    "window_steps = np.array([float(i+1) for i in range(len(window_avg))])\n",
    "num_pad_steps = len(steps_list[3]) - len(window_avg)\n",
    "pad_array = np.full((num_pad_steps),2800)\n",
    "window_avg = np.insert(window_avg, 0,pad_array)\n",
    "\n",
    "ax.plot(steps_list[3],window_avg,lw=0.5,color=\"r\")\n"
   ]
  },
  {
   "cell_type": "code",
   "execution_count": null,
   "metadata": {},
   "outputs": [],
   "source": [
    "fig, axs = plt.subplots(num_iters,1,sharex=True,sharey=True, figsize=(16,20))\n",
    "norm = plt.Normalize(2600,4100)\n",
    "lw = 0.2\n",
    "cmap = \"plasma\"\n",
    "for i in range(num_iters):\n",
    "    points = np.array([steps_list[i],estds_list[i]]).T.reshape(-1,1,2)\n",
    "    segments = np.concatenate([points[:-1],points[1:]],axis=1)\n",
    "    window_avg = np.convolve(temps_list[i], np.ones((window,))/window, mode=\"valid\")\n",
    "    num_pad_steps = len(steps_list[i]) - len(window_avg)\n",
    "    pad_array = np.full((num_pad_steps),2800)\n",
    "    window_avg = np.insert(window_avg,0,pad_array)\n",
    "\n",
    "    lc = LineCollection(segments,cmap=cmap, norm=norm)\n",
    "    lc.set_array(window_avg)\n",
    "    lc.set_linewidth(lw)\n",
    "    line = axs[i].add_collection(lc)\n",
    "    axs[i].axhline(0.1,linestyle=\"--\",lw=0.8,color=\"darkgrey\")\n",
    "    axs[i].set_yticks([0.0,0.05,0.1,0.15])\n",
    "    axs[i].set_yticklabels([0.0,0.05,0.1,0.15])\n",
    "    axs[i].tick_params(axis=\"both\", labelsize=20)\n",
    "\n",
    "cbar = plt.colorbar(line, ticks=[2800,3000,3200,3400,3600,3800,4000])\n",
    "tick_font_size = 20\n",
    "cbar.ax.tick_params(labelsize=tick_font_size)\n",
    "axs[0].set_ylim([-0.005,0.16])\n",
    "axs[0].set_xlim(0,201000)\n",
    "\n",
    "axs[3].set_xticks([0,25000,50000,75000,100000,125000,150000,175000,200000])\n",
    "axs[3].set_xticklabels([0,25,50,75,100,125,150,175,200])\n",
    "\n",
    "plt.subplots_adjust(top=0.97,\n",
    "                    bottom=0.05,\n",
    "                    left=0.125,\n",
    "                    right=0.95)\n",
    "#plt.savefig(\"large_iteration.png\",dpi=1000)\n",
    "plt.savefig(\"large_with_color_bar.png\",dpi=1000)\n",
    "\n",
    "#plt.savefig(\"with_color_bar.png\",dpi=1000)"
   ]
  },
  {
   "cell_type": "code",
   "execution_count": null,
   "metadata": {},
   "outputs": [],
   "source": [
    "plt.savefig(\"test.png\",dpi=1000)"
   ]
  },
  {
   "cell_type": "code",
   "execution_count": null,
   "metadata": {},
   "outputs": [],
   "source": []
  }
 ],
 "metadata": {
  "language_info": {
   "name": "python"
  }
 },
 "nbformat": 4,
 "nbformat_minor": 4
}
