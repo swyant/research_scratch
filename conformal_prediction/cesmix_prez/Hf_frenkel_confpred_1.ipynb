{
 "cells": [
  {
   "cell_type": "code",
   "execution_count": null,
   "metadata": {},
   "outputs": [],
   "source": [
    "using Revise\n",
    "using Pkg; Pkg.activate(\".\")"
   ]
  },
  {
   "cell_type": "code",
   "execution_count": null,
   "metadata": {},
   "outputs": [],
   "source": [
    "using Unitful\n",
    "using PotentialLearning\n",
    "using Random: randperm\n",
    "using JLD2\n",
    "using InteratomicPotentials\n",
    "using AtomsBase, AtomsCalculators\n",
    "using Statistics\n",
    "using GLMakie"
   ]
  },
  {
   "cell_type": "markdown",
   "metadata": {},
   "source": [
    "1. load ensemble members, create committee potential \n",
    "2. read in the 5+5 calib/test trials. Subsample every 300 again and record indices.  \n",
    "3. for both pristine/frenkle, 50% is calib 50% is test. Can combine each into combined calib/test\n",
    "4. Conformalize against energies, standard procedure\n",
    "5. Conformalize against delta E's, explore different heuristic uncertainty metrics\n",
    "6. Assess extensivity issues "
   ]
  },
  {
   "cell_type": "code",
   "execution_count": null,
   "metadata": {},
   "outputs": [],
   "source": [
    "pristine_base_calibtest = Vector{DataSet}()\n",
    "frenkel_base_calibtest = Vector{DataSet}()\n",
    "base_calibtest_idxs = Dict{Tuple{Symbol, Int64}, Vector{Int64}}()\n",
    "\n",
    "#pristine\n",
    "for i in 6:10\n",
    "    println(i)\n",
    "    configs = load_data(\"./data/pristine_$(i).xyz\", ExtXYZ(u\"eV\", u\"Å\"))\n",
    "    indxs = randperm(1001)[1:300]\n",
    "\n",
    "    push!(pristine_base_calibtest, configs[indxs])\n",
    "\n",
    "    base_calibtest_idxs[(:pristine, i)] = indxs\n",
    "end\n",
    "\n",
    "#frenkel\n",
    "for i in 6:10\n",
    "    println(i)\n",
    "    configs = load_data(\"./data/frenkel_$(i).xyz\", ExtXYZ(u\"eV\", u\"Å\"))\n",
    "    indxs = randperm(1001)[1:300]\n",
    "\n",
    "    push!(frenkel_base_calibtest, configs[indxs])\n",
    "\n",
    "    base_calibtest_idxs[(:frenkel, i)] = indxs\n",
    "end"
   ]
  },
  {
   "cell_type": "code",
   "execution_count": null,
   "metadata": {},
   "outputs": [],
   "source": [
    "# from subsampling_dpp.jl in PL.jl examples\n",
    "function concat_dataset(confs::Vector{DataSet})\n",
    "    N = length(confs)\n",
    "    confs_vec = [[confs[i][j] for j = 1:length(confs[i])] for i = 1:N]\n",
    "    confs_all = reduce(vcat, confs_vec)\n",
    "    return DataSet(confs_all)\n",
    "end"
   ]
  },
  {
   "cell_type": "code",
   "execution_count": null,
   "metadata": {},
   "outputs": [],
   "source": [
    "pristine_base_calibtest = concat_dataset(pristine_base_calibtest)\n",
    "frenkel_base_calibtest = concat_dataset(frenkel_base_calibtest)"
   ]
  },
  {
   "cell_type": "code",
   "execution_count": null,
   "metadata": {},
   "outputs": [],
   "source": [
    "pristine_idxs = randperm(1500)\n",
    "frenkel_idxs = randperm(1500)\n",
    "\n",
    "pristine_base_calib = pristine_base_calibtest[pristine_idxs[1:750]]\n",
    "pristine_base_test = pristine_base_calibtest[pristine_idxs[751:1500]]\n",
    "\n",
    "frenkel_base_calib = frenkel_base_calibtest[frenkel_idxs[1:750]]\n",
    "frenkel_base_test = frenkel_base_calibtest[frenkel_idxs[751:1500]]"
   ]
  },
  {
   "cell_type": "code",
   "execution_count": null,
   "metadata": {},
   "outputs": [],
   "source": [
    "combined_calib = concat_dataset([pristine_base_calib; frenkel_base_calib])\n",
    "combined_test = concat_dataset([pristine_base_test; frenkel_base_test])"
   ]
  },
  {
   "cell_type": "code",
   "execution_count": null,
   "metadata": {},
   "outputs": [],
   "source": [
    "ensemble_members = load(\"ace_cmte1.jld2\", \"members\")"
   ]
  },
  {
   "cell_type": "code",
   "execution_count": null,
   "metadata": {},
   "outputs": [],
   "source": [
    "include(\"../files/committee_potentials.jl\")\n",
    "include(\"../files/committee_qois.jl\")"
   ]
  },
  {
   "cell_type": "code",
   "execution_count": null,
   "metadata": {},
   "outputs": [],
   "source": [
    "my_cmte = CommitteePotential(ensemble_members; energy_units=u\"eV\", length_units=u\"Å\")\n",
    "cmte_energy = CmteEnergy(Statistics.std, strip_units=true)"
   ]
  },
  {
   "cell_type": "code",
   "execution_count": null,
   "metadata": {},
   "outputs": [],
   "source": [
    "test_edescr = compute_local_descriptors(combined_calib[1:10], my_cmte.members[1].basis)\n",
    "test_ds = DataSet(combined_calib[1:10] .+ test_edescr)"
   ]
  },
  {
   "cell_type": "code",
   "execution_count": null,
   "metadata": {},
   "outputs": [],
   "source": [
    "test_energies = [PotentialLearning.potential_energy(config, my_cmte) for config in test_ds]\n",
    "test_calib = [ustrip(compute(cmte_energy,config,my_cmte)) for config in test_ds]"
   ]
  },
  {
   "cell_type": "code",
   "execution_count": null,
   "metadata": {},
   "outputs": [],
   "source": [
    "pristine_base_calib_edescr = compute_local_descriptors(pristine_base_calib, my_cmte.members[1].basis)\n",
    "pristine_base_calib_ds = DataSet(pristine_base_calib .+ pristine_base_calib_edescr)"
   ]
  },
  {
   "cell_type": "code",
   "execution_count": null,
   "metadata": {},
   "outputs": [],
   "source": [
    "pristine_base_test_edescr = compute_local_descriptors(pristine_base_test, my_cmte.members[1].basis)\n",
    "pristine_base_test_ds = DataSet(pristine_base_test .+ pristine_base_test_edescr)\n",
    "\n",
    "frenkel_base_calib_edescr = compute_local_descriptors(frenkel_base_calib, my_cmte.members[1].basis)\n",
    "frenkel_base_calib_ds = DataSet(frenkel_base_calib .+ frenkel_base_calib_edescr)\n",
    "\n",
    "frenkel_base_test_edescr = compute_local_descriptors(frenkel_base_test, my_cmte.members[1].basis)\n",
    "frenkel_base_test_ds = DataSet(frenkel_base_test .+ frenkel_base_test_edescr)"
   ]
  },
  {
   "cell_type": "code",
   "execution_count": null,
   "metadata": {},
   "outputs": [],
   "source": [
    "save(\"datasets_with_descriptors.jld2\", Dict(\"pristine_base_calib_ds\" => pristine_base_calib_ds,\n",
    "                                            \"pristine_base_test_ds\"  => pristine_base_test_ds,\n",
    "                                            \"frenkel_base_calib_ds\"  => frenkel_base_calib_ds,\n",
    "                                            \"frenkel_base_test_ds\"   => frenkel_base_test_ds))"
   ]
  },
  {
   "cell_type": "markdown",
   "metadata": {},
   "source": [
    "Just doing a single qhat for a single energy"
   ]
  },
  {
   "cell_type": "code",
   "execution_count": null,
   "metadata": {},
   "outputs": [],
   "source": [
    "include(\"../files/conformal_prediction_utils.jl\")"
   ]
  },
  {
   "cell_type": "code",
   "execution_count": null,
   "metadata": {},
   "outputs": [],
   "source": [
    "combined_calib_ds = concat_dataset([pristine_base_calib_ds; frenkel_base_calib_ds])\n",
    "combined_test_ds = concat_dataset([pristine_base_test_ds; frenkel_base_test_ds])"
   ]
  },
  {
   "cell_type": "markdown",
   "metadata": {},
   "source": [
    "Old slow way"
   ]
  },
  {
   "cell_type": "code",
   "execution_count": null,
   "metadata": {},
   "outputs": [],
   "source": [
    "ecalib_pred = [ustrip(AtomsCalculators.potential_energy(sys,my_cmte)) for sys in get_system.(combined_calib)]\n",
    "ecalib_ref = [get_values(get_energy(config)) for config in combined_calib]"
   ]
  },
  {
   "cell_type": "markdown",
   "metadata": {},
   "source": [
    "Faster way"
   ]
  },
  {
   "cell_type": "code",
   "execution_count": null,
   "metadata": {},
   "outputs": [],
   "source": [
    "ecalib_pred = [ustrip(PotentialLearning.potential_energy(sys,my_cmte)) for sys in combined_calib_ds]\n",
    "ecalib_ref = [get_values(get_energy(config)) for config in combined_calib_ds]"
   ]
  },
  {
   "cell_type": "code",
   "execution_count": null,
   "metadata": {},
   "outputs": [],
   "source": [
    "save(\"calib_energies.jld2\", Dict(\"ecalib_pred\" => ecalib_pred,\n",
    "                                 \"ecalib_ref\" => ecalib_ref))"
   ]
  },
  {
   "cell_type": "code",
   "execution_count": null,
   "metadata": {},
   "outputs": [],
   "source": [
    "calib_uq = [ustrip(compute(cmte_energy,config,my_cmte)) for config in combined_calib_ds]"
   ]
  },
  {
   "cell_type": "code",
   "execution_count": null,
   "metadata": {},
   "outputs": [],
   "source": [
    "qhat = calibrate(ecalib_pred, ecalib_ref, calib_uq, 0.05)"
   ]
  },
  {
   "cell_type": "code",
   "execution_count": null,
   "metadata": {},
   "outputs": [],
   "source": [
    "etest_pred = [ustrip(PotentialLearning.potential_energy(config,my_cmte)) for config in combined_test_ds]\n",
    "etest_ref = [ustrip(get_values(get_energy(config))) for config in combined_test_ds]\n",
    "test_uq = [ustrip(compute(cmte_energy, config, my_cmte)) for config in combined_test_ds]\n",
    "\n",
    "num_test = length(etest_pred)\n",
    "test_abs_residuals = abs.(etest_pred .- etest_ref)"
   ]
  },
  {
   "cell_type": "code",
   "execution_count": null,
   "metadata": {},
   "outputs": [],
   "source": [
    "qhat_scores = qhat*test_uq\n",
    "coverage = sum(test_abs_residuals .> qhat_scores) / num_test"
   ]
  },
  {
   "cell_type": "code",
   "execution_count": null,
   "metadata": {},
   "outputs": [],
   "source": [
    "hist(qhat_scores, bins=500)"
   ]
  },
  {
   "cell_type": "code",
   "execution_count": null,
   "metadata": {},
   "outputs": [],
   "source": [
    "uncertainty_vs_residuals(test_uq,test_abs_residuals, limits=(0.0,0.05,-0.001,0.5))"
   ]
  },
  {
   "cell_type": "code",
   "execution_count": null,
   "metadata": {},
   "outputs": [],
   "source": [
    "calib_scores = abs.(ecalib_pred .- ecalib_ref) ./ calib_uq\n",
    "alpha_complements = collect(range(0.01,0.99,step=0.01))\n",
    "alpha_refs = 1 .- alpha_complements\n",
    "\n",
    "alpha_pred = generate_predicted_alphas(calib_scores,test_uq, test_abs_residuals)"
   ]
  },
  {
   "cell_type": "code",
   "execution_count": null,
   "metadata": {},
   "outputs": [],
   "source": [
    "make_calibration_plot(alpha_refs,alpha_pred)"
   ]
  },
  {
   "cell_type": "code",
   "execution_count": null,
   "metadata": {},
   "outputs": [],
   "source": [
    "compute_miscalibration_area(alpha_refs,alpha_pred)"
   ]
  },
  {
   "cell_type": "code",
   "execution_count": null,
   "metadata": {},
   "outputs": [],
   "source": [
    "cmte_cov_energy = CmteEnergyCov(true)"
   ]
  },
  {
   "cell_type": "code",
   "execution_count": null,
   "metadata": {},
   "outputs": [],
   "source": [
    "# Already random, so just take every two\n",
    "ediff_combined_calib_ref = Float64[]\n",
    "ediff_combined_calib_pred = Float64[]\n",
    "ediff_combined_calib_uq = Float64[]\n",
    "ediff_combined_calib_cov_uq = Float64[]\n",
    "sys1_combined_calib_uqs = Float64[]\n",
    "sys2_combined_calib_uqs = Float64[]\n",
    "\n",
    "sys1_combined_calib_epreds = Float64[]\n",
    "sys2_combined_calib_epreds = Float64[]\n",
    "for i in 1:2:length(combined_calib_ds)\n",
    "    sys1 = combined_calib_ds[i]\n",
    "    sys2 = combined_calib_ds[i+1]\n",
    "    e1_ref = ustrip(get_values(get_energy(sys1)))\n",
    "    e2_ref = ustrip(get_values(get_energy(sys2)))\n",
    "\n",
    "    push!(ediff_combined_calib_ref, e2_ref - e1_ref)\n",
    "\n",
    "    e1_pred = ustrip(PotentialLearning.potential_energy(sys1, my_cmte))\n",
    "    push!(sys1_combined_calib_epreds,e1_pred)\n",
    "    e2_pred = ustrip(PotentialLearning.potential_energy(sys2, my_cmte))\n",
    "    sys2_epreds = push!(sys2_combined_calib_epreds,e2_pred)\n",
    "\n",
    "    push!(ediff_combined_calib_pred, e2_pred - e1_pred)\n",
    "\n",
    "    sys1_uq = ustrip(compute(cmte_energy,sys1,my_cmte))\n",
    "    push!(sys1_combined_calib_uqs,sys1_uq)\n",
    "    sys2_uq = ustrip(compute(cmte_energy,sys2,my_cmte))\n",
    "    push!(sys2_combined_calib_uqs,sys2_uq)\n",
    "    push!(ediff_combined_calib_uq, sys1_uq+sys2_uq)\n",
    "\n",
    "    cov_uq = ustrip(compute(cmte_cov_energy,sys1,sys2,my_cmte; flip_second_sign=true))\n",
    "    push!(ediff_combined_calib_cov_uq, cov_uq)\n",
    "\n",
    "end"
   ]
  },
  {
   "cell_type": "code",
   "execution_count": null,
   "metadata": {},
   "outputs": [],
   "source": [
    "# Already random, so just take every two\n",
    "ediff_combined_test_ref = Float64[]\n",
    "ediff_combined_test_pred = Float64[]\n",
    "ediff_combined_test_uq = Float64[]\n",
    "ediff_combined_test_cov_uq = Float64[]\n",
    "sys1_combined_test_uqs = Float64[]\n",
    "sys2_combined_test_uqs = Float64[]\n",
    "\n",
    "sys1_combined_test_epreds = Float64[]\n",
    "sys2_combined_test_epreds = Float64[]\n",
    "for i in 1:2:length(combined_test_ds)\n",
    "    sys1 = combined_test_ds[i]\n",
    "    sys2 = combined_test_ds[i+1]\n",
    "    e1_ref = ustrip(get_values(get_energy(sys1)))\n",
    "    e2_ref = ustrip(get_values(get_energy(sys2)))\n",
    "\n",
    "    push!(ediff_combined_test_ref, e2_ref - e1_ref)\n",
    "\n",
    "    e1_pred = ustrip(PotentialLearning.potential_energy(sys1, my_cmte))\n",
    "    push!(sys1_combined_test_epreds,e1_pred)\n",
    "    e2_pred = ustrip(PotentialLearning.potential_energy(sys2, my_cmte))\n",
    "    sys2_epreds = push!(sys2_combined_test_epreds,e2_pred)\n",
    "\n",
    "    push!(ediff_combined_test_pred, e2_pred - e1_pred)\n",
    "\n",
    "    sys1_uq = ustrip(compute(cmte_energy,sys1,my_cmte))\n",
    "    push!(sys1_combined_test_uqs,sys1_uq)\n",
    "    sys2_uq = ustrip(compute(cmte_energy,sys2,my_cmte))\n",
    "    push!(sys2_combined_test_uqs,sys2_uq)\n",
    "    push!(ediff_combined_test_uq, sys1_uq+sys2_uq)\n",
    "\n",
    "    cov_uq = ustrip(compute(cmte_cov_energy,sys1,sys2,my_cmte; flip_second_sign=true))\n",
    "    push!(ediff_combined_test_cov_uq, cov_uq)\n",
    "end"
   ]
  },
  {
   "cell_type": "code",
   "execution_count": null,
   "metadata": {},
   "outputs": [],
   "source": [
    "# these should be the same as ediff_combined_test/calib_uq\n",
    "test_ediff_uq1 = sys1_combined_test_uqs .+ sys2_combined_test_uqs\n",
    "calib_ediff_uq1 = sys1_combined_calib_uqs .+ sys2_combined_calib_uqs\n",
    "\n",
    "\n",
    "test_ediff_uq2 = sys1_combined_test_uqs .+ sys2_combined_test_uqs .+ 2*ediff_combined_test_cov_uq\n",
    "calib_ediff_uq2 = sys1_combined_calib_uqs .+ sys2_combined_calib_uqs .+ 2*ediff_combined_calib_cov_uq"
   ]
  },
  {
   "cell_type": "code",
   "execution_count": null,
   "metadata": {},
   "outputs": [],
   "source": [
    "ediff_combined_calib_scores = abs.(ediff_combined_calib_pred .- ediff_combined_calib_ref) ./ calib_ediff_uq1\n",
    "test_abs_residuals_combined = abs.(ediff_combined_test_pred .- ediff_combined_test_ref)\n",
    "alpha_complements = collect(range(0.01,0.99,step=0.01))\n",
    "alpha_refs = 1 .- alpha_complements\n",
    "\n",
    "alpha_pred = generate_predicted_alphas(ediff_combined_calib_scores,test_ediff_uq1, test_abs_residuals_combined)"
   ]
  },
  {
   "cell_type": "code",
   "execution_count": null,
   "metadata": {},
   "outputs": [],
   "source": [
    "make_calibration_plot(alpha_refs,alpha_pred)"
   ]
  },
  {
   "cell_type": "code",
   "execution_count": null,
   "metadata": {},
   "outputs": [],
   "source": [
    "compute_miscalibration_area(alpha_refs,alpha_pred)"
   ]
  }
 ],
 "metadata": {
  "language_info": {
   "name": "julia"
  }
 },
 "nbformat": 4,
 "nbformat_minor": 2
}
