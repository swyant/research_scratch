{
 "cells": [
  {
   "cell_type": "markdown",
   "id": "66a58a04",
   "metadata": {},
   "source": [
    "Checking the committee Atomic energies qoi"
   ]
  },
  {
   "cell_type": "code",
   "execution_count": null,
   "id": "2504a0a7",
   "metadata": {},
   "outputs": [],
   "source": [
    "using Revise\n",
    "using Pkg; Pkg.activate(\".\")"
   ]
  },
  {
   "cell_type": "code",
   "execution_count": null,
   "id": "61102cc7",
   "metadata": {},
   "outputs": [],
   "source": [
    "using Unitful\n",
    "using PotentialLearning\n",
    "using Random: randperm\n",
    "using JLD2\n",
    "using InteratomicPotentials\n",
    "using AtomsBase, AtomsCalculators\n",
    "using Statistics\n",
    "using CairoMakie, ColorSchemes\n",
    "using LinearAlgebra"
   ]
  },
  {
   "cell_type": "code",
   "execution_count": null,
   "id": "2498e326",
   "metadata": {},
   "outputs": [],
   "source": [
    "includet(\"../files/conformal_prediction_utils.jl\")\n",
    "includet(\"../files/committee_potentials.jl\")\n",
    "includet(\"../files/committee_qois.jl\")"
   ]
  },
  {
   "cell_type": "code",
   "execution_count": null,
   "id": "4a75d3d1",
   "metadata": {},
   "outputs": [],
   "source": [
    "training_data_dict = load(\"training_data.jld2\")\n",
    "frenkel_train_ds = training_data_dict[\"frenkel_train_ds\"]\n",
    "pristine_train_ds = training_data_dict[\"pristine_train_ds\"]"
   ]
  },
  {
   "cell_type": "code",
   "execution_count": null,
   "id": "ca71b226",
   "metadata": {},
   "outputs": [],
   "source": [
    "calibtest_datasets = load(\"../cesmix_prez/datasets_with_descriptors.jld2\")\n",
    "pristine_base_calib_ds = calibtest_datasets[\"pristine_base_calib_ds\"]\n",
    "pristine_base_test_ds = calibtest_datasets[\"pristine_base_test_ds\"]\n",
    "frenkel_base_calib_ds = calibtest_datasets[\"frenkel_base_calib_ds\"]\n",
    "frenkel_base_test_ds = calibtest_datasets[\"frenkel_base_test_ds\"]"
   ]
  },
  {
   "cell_type": "code",
   "execution_count": null,
   "id": "692f1b43",
   "metadata": {},
   "outputs": [],
   "source": [
    "combined_calib_ds = concat_dataset([pristine_base_calib_ds; frenkel_base_calib_ds])\n",
    "combined_test_ds = concat_dataset([pristine_base_test_ds; frenkel_base_test_ds])"
   ]
  },
  {
   "cell_type": "code",
   "execution_count": null,
   "id": "5f73292b",
   "metadata": {},
   "outputs": [],
   "source": [
    "ace_cmte_dict = load(\"../cesmix_prez/ace_cmte1.jld2\")\n",
    "ensemble_members = ace_cmte_dict[\"members\"]"
   ]
  },
  {
   "cell_type": "code",
   "execution_count": null,
   "id": "0f2b206d",
   "metadata": {},
   "outputs": [],
   "source": [
    "ace = ACE(species            = [:Hf],\n",
    "          body_order         = 4,\n",
    "          polynomial_degree  = 10,\n",
    "          wL                 = 1.5,\n",
    "          csp                = 1.0,\n",
    "          r0                 = 2.15,\n",
    "          rcutoff            = 5.0)"
   ]
  },
  {
   "cell_type": "code",
   "execution_count": null,
   "id": "2f53b254",
   "metadata": {},
   "outputs": [],
   "source": [
    "my_cmte = CommitteePotential(ensemble_members; energy_units=u\"eV\", length_units=u\"Å\")\n",
    "cmte_energy = CmteEnergy(Statistics.std, strip_units=true)"
   ]
  },
  {
   "cell_type": "code",
   "execution_count": null,
   "id": "59e0d168",
   "metadata": {},
   "outputs": [],
   "source": [
    "get_values(get_local_descriptors(pristine_train_ds[1]))"
   ]
  },
  {
   "cell_type": "code",
   "execution_count": null,
   "id": "29d1170c",
   "metadata": {},
   "outputs": [],
   "source": [
    "check_configs = load_data(\"./data/pristine_1.xyz\", ExtXYZ(u\"eV\", u\"Å\"))"
   ]
  },
  {
   "cell_type": "code",
   "execution_count": null,
   "id": "9817d228",
   "metadata": {},
   "outputs": [],
   "source": [
    "get_local_descriptors(check_configs[1])"
   ]
  },
  {
   "cell_type": "code",
   "execution_count": null,
   "id": "7febe4e8",
   "metadata": {},
   "outputs": [],
   "source": [
    "all_atomic_energies = compute_all_atomic_energies(pristine_train_ds[1], my_cmte)"
   ]
  },
  {
   "cell_type": "code",
   "execution_count": null,
   "id": "5f8215f2",
   "metadata": {},
   "outputs": [],
   "source": [
    "sum.(all_atomic_energies)"
   ]
  },
  {
   "cell_type": "code",
   "execution_count": null,
   "id": "5efc6297",
   "metadata": {},
   "outputs": [],
   "source": [
    "compute_all_energies(pristine_train_ds[1],my_cmte) # note this is also just a different configuration"
   ]
  },
  {
   "cell_type": "code",
   "execution_count": null,
   "id": "56926605",
   "metadata": {},
   "outputs": [],
   "source": [
    "trial_atomic_energies = compute_all_atomic_energies(check_configs[1], my_cmte)"
   ]
  },
  {
   "cell_type": "code",
   "execution_count": null,
   "id": "ea2a36ea",
   "metadata": {},
   "outputs": [],
   "source": [
    "mapslices(Statistics.var, stack(trial_atomic_energies), dims=2)"
   ]
  },
  {
   "cell_type": "code",
   "execution_count": null,
   "id": "d1a8551c",
   "metadata": {},
   "outputs": [],
   "source": [
    "maximum(Statistics.var([ae[1] for ae in trial_atomic_energies]))"
   ]
  },
  {
   "cell_type": "code",
   "execution_count": null,
   "id": "02b4ebff",
   "metadata": {},
   "outputs": [],
   "source": [
    "atomic_energies_qoi = CmteAtomicEnergies(Statistics.var, true)"
   ]
  },
  {
   "cell_type": "code",
   "execution_count": null,
   "id": "749c7db3",
   "metadata": {},
   "outputs": [],
   "source": [
    "compute(atomic_energies_qoi, check_configs[1], my_cmte)"
   ]
  },
  {
   "cell_type": "code",
   "execution_count": null,
   "id": "a69451d4",
   "metadata": {},
   "outputs": [],
   "source": []
  }
 ],
 "metadata": {
  "language_info": {
   "name": "julia"
  }
 },
 "nbformat": 4,
 "nbformat_minor": 5
}
