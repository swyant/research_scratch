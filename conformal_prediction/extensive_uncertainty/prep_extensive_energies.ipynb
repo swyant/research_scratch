{
 "cells": [
  {
   "cell_type": "code",
   "execution_count": null,
   "id": "cc5cbba9",
   "metadata": {},
   "outputs": [],
   "source": [
    "using Revise\n",
    "using Pkg; Pkg.activate(\".\")"
   ]
  },
  {
   "cell_type": "code",
   "execution_count": null,
   "id": "fd569b05",
   "metadata": {},
   "outputs": [],
   "source": [
    "using Unitful\n",
    "using PotentialLearning\n",
    "using Random: randperm\n",
    "using JLD2\n",
    "using InteratomicPotentials\n",
    "using AtomsBase, AtomsCalculators\n",
    "using Statistics\n",
    "using CairoMakie, ColorSchemes"
   ]
  },
  {
   "cell_type": "code",
   "execution_count": null,
   "id": "04dc6bf2",
   "metadata": {},
   "outputs": [],
   "source": [
    "# from subsampling_dpp.jl in PL.jl examples\n",
    "function concat_dataset(confs::Vector{DataSet})\n",
    "    N = length(confs)\n",
    "    confs_vec = [[confs[i][j] for j = 1:length(confs[i])] for i = 1:N]\n",
    "    confs_all = reduce(vcat, confs_vec)\n",
    "    return DataSet(confs_all)\n",
    "end"
   ]
  },
  {
   "cell_type": "code",
   "execution_count": null,
   "id": "d3fd68f8",
   "metadata": {},
   "outputs": [],
   "source": [
    "ace = ACE(species            = [:Hf],\n",
    "          body_order         = 4,\n",
    "          polynomial_degree  = 10,\n",
    "          wL                 = 1.5,\n",
    "          csp                = 1.0,\n",
    "          r0                 = 2.15,\n",
    "          rcutoff            = 5.0)"
   ]
  },
  {
   "cell_type": "code",
   "execution_count": null,
   "id": "a571c304",
   "metadata": {},
   "outputs": [],
   "source": [
    "pristine_8x_config_sets = Vector{DataSet}()\n",
    "frenkel_8x_config_sets = Vector{DataSet}()\n",
    "dilute_8x_config_sets = Vector{DataSet}()\n",
    "\n",
    "# large_8x frenkel\n",
    "for i in 1:5\n",
    "    println(i)\n",
    "    configs = load_data(\"./data/pod_Hf_frenkel_large/large_8x_frenkel_$(i).xyz\", ExtXYZ(u\"eV\", u\"Å\"))\n",
    "    push!(frenkel_8x_config_sets, configs)\n",
    "end\n",
    "\n",
    "# large_8x dilute frenkel\n",
    "for i in 1:5\n",
    "    println(i)\n",
    "    configs = load_data(\"./data/pod_Hf_frenkel_large/large_dilute_frenkel_$(i).xyz\", ExtXYZ(u\"eV\", u\"Å\"))\n",
    "    push!(dilute_8x_config_sets, configs)\n",
    "end\n",
    "\n",
    "# large_8x pristine\n",
    "for i in 1:5\n",
    "    println(i)\n",
    "    configs = load_data(\"./data/pod_Hf_frenkel_large/large_pristine_$(i).xyz\", ExtXYZ(u\"eV\", u\"Å\"))\n",
    "    push!(pristine_8x_config_sets, configs)\n",
    "end"
   ]
  },
  {
   "cell_type": "code",
   "execution_count": null,
   "id": "7aed599b",
   "metadata": {},
   "outputs": [],
   "source": [
    "pristine_8x_configs = concat_dataset(pristine_8x_config_sets)\n",
    "frenkel_8x_configs = concat_dataset(frenkel_8x_config_sets)\n",
    "dilute_8x_configs = concat_dataset(dilute_8x_config_sets)"
   ]
  },
  {
   "cell_type": "code",
   "execution_count": null,
   "id": "f9ebbf6d",
   "metadata": {},
   "outputs": [],
   "source": [
    "edescr_pristine_8x = compute_local_descriptors(pristine_8x_configs,ace)\n",
    "fdescr_pristine_8x = compute_local_descriptors(pristine_8x_configs,ace)"
   ]
  },
  {
   "cell_type": "code",
   "execution_count": null,
   "id": "cba4d4f3",
   "metadata": {},
   "outputs": [],
   "source": [
    "edescr_frenkel_8x = compute_local_descriptors(frenkel_8x_configs,ace)\n",
    "fdescr_frenkel_8x = compute_local_descriptors(frenkel_8x_configs,ace)"
   ]
  },
  {
   "cell_type": "code",
   "execution_count": null,
   "id": "f6337832",
   "metadata": {},
   "outputs": [],
   "source": [
    "edescr_dilute_frenkel_8x = compute_local_descriptors(dilute_8x_configs,ace)\n",
    "fdescr_dilute_frenkel_8x = compute_local_descriptors(dilute_8x_configs,ace)"
   ]
  },
  {
   "cell_type": "code",
   "execution_count": null,
   "id": "7aeb4b61",
   "metadata": {},
   "outputs": [],
   "source": [
    "pristine_8x_ds = DataSet(pristine_8x_configs .+ edescr_pristine_8x .+ fdescr_pristine_8x)\n",
    "frenkel_8x_ds = DataSet(frenkel_8x_configs .+ edescr_frenkel_8x .+ fdescr_frenkel_8x)\n",
    "dilute_8x_ds = DataSet(dilute_8x_configs .+ edescr_dilute_frenkel_8x .+ fdescr_dilute_frenkel_8x)"
   ]
  },
  {
   "cell_type": "code",
   "execution_count": null,
   "id": "ddcc3096",
   "metadata": {},
   "outputs": [],
   "source": [
    "save(\"large_8x_data.jld2\", Dict(\"pristine_8x_ds\" => pristine_8x_ds,\n",
    "                                \"frenkel_8x_ds\" => frenkel_8x_ds,\n",
    "                                \"dilute_8x_ds\" => dilute_8x_ds))"
   ]
  }
 ],
 "metadata": {
  "language_info": {
   "name": "julia"
  }
 },
 "nbformat": 4,
 "nbformat_minor": 5
}
