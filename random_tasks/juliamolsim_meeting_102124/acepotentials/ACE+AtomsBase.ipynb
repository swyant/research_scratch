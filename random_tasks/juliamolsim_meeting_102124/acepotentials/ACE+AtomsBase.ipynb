{
 "cells": [
  {
   "cell_type": "markdown",
   "metadata": {},
   "source": [
    "# ACEpotentials.jl + AtomsBase.jl Tutorial"
   ]
  },
  {
   "cell_type": "markdown",
   "metadata": {},
   "source": [
    "## Introduction\n",
    "\n",
    "This tutorial demonstrates how the ACEpotentials.jl package\n",
    "interoperates with the AtomsBase.jl ecosystem."
   ]
  },
  {
   "cell_type": "markdown",
   "metadata": {},
   "source": [
    "## Installation\n",
    "\n",
    "add and load general packages used in this notebook."
   ]
  },
  {
   "cell_type": "code",
   "execution_count": null,
   "metadata": {},
   "outputs": [],
   "source": [
    "using Pkg\n",
    "# Uncomment the next line if installing Julia for the first time\n",
    "# Pkg.Registry.add(\"General\")\n",
    "# Pkg.Registry.add\n",
    "Pkg.add([\"ExtXYZ\", \"Unitful\", \"Distributed\", \"AtomsCalculators\",\n",
    "         \"Molly\", \"AtomsCalculatorsUtilities\", \"AtomsBuilder\",\n",
    "         \"AtomsBase\", \"LinearAlgebra\",\n",
    "         ])\n",
    "\n",
    "# ACEpotentials installation:\n",
    "# If ACEpotentials has not been installed yet, uncomment the following lines\n",
    "# Add the ACE registry, which stores the ACEpotential package information\n",
    "Pkg.Registry.add(RegistrySpec(url=\"https://github.com/ACEsuit/ACEregistry\"))\n",
    "Pkg.add([\"GeomOpt\", ])\n",
    "# Pkg.add([\"ACEpotentials\",])"
   ]
  },
  {
   "cell_type": "markdown",
   "metadata": {},
   "source": [
    "  We can check the status of the installed packages."
   ]
  },
  {
   "cell_type": "code",
   "execution_count": null,
   "metadata": {},
   "outputs": [],
   "source": [
    "using Pkg; Pkg.activate(\".\")\n",
    "Pkg.status()"
   ]
  },
  {
   "cell_type": "markdown",
   "metadata": {},
   "source": [
    "  Import all the packages that we will be using, create some processes\n",
    "  for parallel model fitting"
   ]
  },
  {
   "cell_type": "code",
   "execution_count": null,
   "metadata": {},
   "outputs": [],
   "source": [
    "using ExtXYZ, Unitful, AtomsCalculators, Distributed, ACEpotentials,\n",
    "      AtomsCalculatorsUtilities\n",
    "using AtomsCalculatorsUtilities.SitePotentials: cutoff_radius\n",
    "addprocs(4, exeflags=\"--project=$(Base.active_project())\")\n",
    "@everywhere using ACEpotentials"
   ]
  },
  {
   "cell_type": "markdown",
   "metadata": {},
   "source": [
    "## Fit a potential for Cu\n",
    "\n",
    "The tutorial can be adapted trivially to use datasets for Ni, Cu, Li, Mo, Si, Ge.\n",
    "\n",
    "We generate a smallish model (about 300 basis functions) for Cu, using\n",
    "correlation-order 3 (body-order 4), and default for rcut. Then we estimate\n",
    "the model parameters using the standard BLR solver."
   ]
  },
  {
   "cell_type": "code",
   "execution_count": null,
   "metadata": {},
   "outputs": [],
   "source": [
    "# generate a model for Cu\n",
    "sym = :Cu\n",
    "model = ace1_model(elements = [sym,], order = 3, totaldegree = [ 20, 16, 12 ])\n",
    "@show length_basis(model)\n",
    "@show cutoff_radius(model)\n",
    "# estimate parameters\n",
    "train, test, _ = ACEpotentials.example_dataset(\"Zuo20_$sym\")\n",
    "solver = ACEfit.BLR(; factorization = :svd)\n",
    "acefit!(train, model;  solver=solver); GC.gc()\n",
    "# quickly check test errors => 0.5 meV/atom and 0.014 eV/A are ok\n",
    "ACEpotentials.compute_errors(test, model);"
   ]
  },
  {
   "cell_type": "markdown",
   "metadata": {},
   "source": [
    "## Geometry Optimization with GeomOpt\n",
    "\n",
    "( Note: we should use GeometryOptimization.jl, but this is not yet updated to\n",
    "  AtomsBase.jl version 0.4. )\n",
    "\n",
    "First import some stuff + a little hack to make GeomOpt play nice with\n",
    "the latest AtomsBase. This is a shortcoming of DecoratedParticles.jl\n",
    "and requires some updates to fully implement the AtomsBase interface."
   ]
  },
  {
   "cell_type": "code",
   "execution_count": null,
   "metadata": {},
   "outputs": [],
   "source": [
    "using AtomsBuilder, GeomOpt, AtomsCalculators, AtomsBase\n",
    "using AtomsBase: FlexibleSystem, FastSystem\n",
    "using AtomsCalculators: potential_energy\n",
    "function _flexiblesystem(sys)\n",
    "   c3ll = cell(sys)\n",
    "   particles = [ AtomsBase.Atom(species(sys, i), position(sys, i))\n",
    "                 for i = 1:length(sys) ]\n",
    "   return FlexibleSystem(particles, c3ll)\n",
    "end;"
   ]
  },
  {
   "cell_type": "markdown",
   "metadata": {},
   "source": [
    "We generate a cubic Cu unit cell, but our potential might not have the same\n",
    "equilibrium bond distance as the default in AtomsBuilder, so we optimize\n",
    "the unit cell."
   ]
  },
  {
   "cell_type": "code",
   "execution_count": null,
   "metadata": {},
   "outputs": [],
   "source": [
    "ucell = bulk(sym, cubic=true)\n",
    "ucell, _ = GeomOpt.minimise(ucell, model; variablecell=true)"
   ]
  },
  {
   "cell_type": "markdown",
   "metadata": {},
   "source": [
    "We keep the energy of the equilibrated unit cell to later compute the\n",
    "defect formation energy."
   ]
  },
  {
   "cell_type": "code",
   "execution_count": null,
   "metadata": {},
   "outputs": [],
   "source": [
    "Eperat = potential_energy(ucell, model) / length(ucell)\n",
    "@show Eperat;"
   ]
  },
  {
   "cell_type": "markdown",
   "metadata": {},
   "source": [
    "Now that we have an equilibrated unit cell we enlarge it, and then delete\n",
    "an atom to generate a vacancy defect."
   ]
  },
  {
   "cell_type": "code",
   "execution_count": null,
   "metadata": {},
   "outputs": [],
   "source": [
    "sys = _flexiblesystem(ucell) * (2,2,2)\n",
    "deleteat!(sys, 1)\n",
    "sys"
   ]
  },
  {
   "cell_type": "markdown",
   "metadata": {},
   "source": [
    "Now we do another geometry optimization to get the equilibrium geometry."
   ]
  },
  {
   "cell_type": "code",
   "execution_count": null,
   "metadata": {},
   "outputs": [],
   "source": [
    "vacancy_equil, result = GeomOpt.minimise(sys, model; variablecell = false)\n",
    "@show result.g_residual;"
   ]
  },
  {
   "cell_type": "markdown",
   "metadata": {},
   "source": [
    "We get an estimate of the formation energy. Note this is likely a poor\n",
    "estimate since we didn't train the model on vacancy configurations."
   ]
  },
  {
   "cell_type": "code",
   "execution_count": null,
   "metadata": {},
   "outputs": [],
   "source": [
    "E_def = potential_energy(vacancy_equil, model) - length(sys) * Eperat\n",
    "@show E_def;"
   ]
  },
  {
   "cell_type": "markdown",
   "metadata": {},
   "source": [
    "One of the most useful Julia packages is ForwardDiff. This is used in\n",
    "AtomsCalculatorsUtilities to implement hessians. ACEpotentials.jl only\n",
    "has to ensure that its site energies allow Dual numbers as inputs."
   ]
  },
  {
   "cell_type": "code",
   "execution_count": null,
   "metadata": {},
   "outputs": [],
   "source": [
    "using AtomsCalculatorsUtilities.SitePotentials: hessian\n",
    "using LinearAlgebra: Symmetric, eigvals\n",
    "\n",
    "H = ustrip.( hessian(vacancy_equil, model) )\n",
    "Λ = eigvals(Symmetric(H))\n",
    "S_vib = sum(λ -> λ > 1e-10 ? log(λ) : 0, Λ)"
   ]
  },
  {
   "cell_type": "markdown",
   "metadata": {},
   "source": [
    "## Molecular Dynamics with Molly"
   ]
  },
  {
   "cell_type": "code",
   "execution_count": null,
   "metadata": {},
   "outputs": [],
   "source": [
    "import Molly\n",
    "sys = rattle!(bulk(sym, cubic=true) * (2,2,2), 0.03)\n",
    "sys_md = Molly.System(sys; force_units=u\"eV/Å\", energy_units=u\"eV\")\n",
    "temp = 298.0u\"K\"\n",
    "sys_md = Molly.System(\n",
    "   sys_md;\n",
    "   general_inters = (model,),\n",
    "   velocities = Molly.random_velocities(sys_md, temp),\n",
    "   loggers=(temp = Molly.TemperatureLogger(100),\n",
    "          energy = Molly.PotentialEnergyLogger(typeof(1.0u\"eV\"), 100),), )\n",
    "simulator = Molly.VelocityVerlet(\n",
    "   dt = 1.0u\"fs\",\n",
    "   coupling = Molly.AndersenThermostat(temp, 3.0u\"fs\"), )\n",
    "\n",
    "Molly.simulate!(sys_md, simulator, 1000)\n",
    "\n",
    "# looks like a reasonably stable simulation.\n",
    "@info(\"Temperature history:\", sys_md.loggers.temp.history)\n",
    "@info(\"Energy history:\", sys_md.loggers.energy.history)"
   ]
  },
  {
   "cell_type": "markdown",
   "metadata": {},
   "source": [
    "---\n",
    "\n",
    "*This notebook was generated using [Literate.jl](https://github.com/fredrikekre/Literate.jl).*"
   ]
  }
 ],
 "metadata": {
  "language_info": {
   "name": "julia"
  }
 },
 "nbformat": 4,
 "nbformat_minor": 3
}
