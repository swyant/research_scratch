{
 "cells": [
  {
   "cell_type": "markdown",
   "metadata": {
    "id": "IJD9ZrhUbG8g"
   },
   "source": [
    "# Install the Quantum Espresso Binary"
   ]
  },
  {
   "cell_type": "code",
   "execution_count": null,
   "metadata": {},
   "outputs": [],
   "source": [
    "%%capture\n",
    "# Clone the QE git\n",
    "!git clone https://github.com/QEF/q-e.git\n",
    "# Install the dependencies\n",
    "!apt-get install -y libfftw3-3 libfftw3-dev libfftw3-doc\n",
    "# enter the q-e folder\n",
    "%cd q-e\n",
    "# run the configure file\n",
    "# !DFLAGS='-D__OPENMP -D__FFTW3 -D__MPI -D__SCALAPACK' FFT_LIBS='-lfftw3'  ./configure --enable-openmp\n",
    "!!DFLAGS='-D__FFTW3 ' FFT_LIBS='-lfftw3'  ./configure\n",
    "# computation time ~1 minute"
   ]
  },
  {
   "cell_type": "code",
   "execution_count": null,
   "metadata": {},
   "outputs": [],
   "source": [
    "!make pw #computation time ~5-7 minutes"
   ]
  },
  {
   "cell_type": "code",
   "execution_count": null,
   "metadata": {},
   "outputs": [],
   "source": [
    "from google.colab import drive\n",
    "drive.mount('/content/drive')"
   ]
  },
  {
   "cell_type": "code",
   "execution_count": null,
   "metadata": {},
   "outputs": [],
   "source": [
    "%cd \"/content/drive/MyDrive/colab_temp/mace_fine-tuning_expts/qe\""
   ]
  },
  {
   "cell_type": "code",
   "execution_count": null,
   "metadata": {},
   "outputs": [],
   "source": [
    "%%writefile test.in\n",
    "&CONTROL\n",
    "  calculation = 'scf',\n",
    "  prefix = 'Hf_atom',\n",
    "  pseudo_dir = './pp',\n",
    "  outdir = './tmp'\n",
    "/\n",
    "&SYSTEM\n",
    "  ibrav = 0,\n",
    "  nat = 1,\n",
    "  ntyp = 1,\n",
    "  ecutwfc = 90.0,\n",
    "  occupations = 'smearing',\n",
    "  smearing = 'marzari-vanderbilt',\n",
    "  degauss = 1.0d-3,\n",
    "/\n",
    "&ELECTRONS\n",
    "  conv_thr = 1.0d-6,\n",
    "  mixing_beta = 0.7,\n",
    "/\n",
    "ATOMIC_SPECIES\n",
    "  Hf 178.49 Hf.pbe_oncv_standard_0.5.upf\n",
    "\n",
    "CELL_PARAMETERS angstrom\n",
    "  25.0 0.0 0.0\n",
    "  0.0 25.0 0.0\n",
    "  0.0 0.0 25.0\n",
    "\n",
    "ATOMIC_POSITIONS angstrom\n",
    "  Hf 12.5 12.5 12.5\n",
    "\n",
    "K_POINTS automatic\n",
    "  1 1 1 0 0 0"
   ]
  },
  {
   "cell_type": "code",
   "execution_count": null,
   "metadata": {},
   "outputs": [],
   "source": [
    "! /content/q-e/bin/pw.x  -in test.in > test.out"
   ]
  },
  {
   "cell_type": "code",
   "execution_count": null,
   "metadata": {},
   "outputs": [],
   "source": [
    "!cat test.out"
   ]
  },
  {
   "cell_type": "code",
   "execution_count": null,
   "metadata": {},
   "outputs": [],
   "source": [
    "%%writefile Hf_single-atom-1.in\n",
    "&CONTROL\n",
    "  calculation = 'scf',\n",
    "  prefix = 'Hf_atom',\n",
    "  pseudo_dir = './pp',\n",
    "  outdir = './hf_single-atom_1'\n",
    "/\n",
    "&SYSTEM\n",
    "  ibrav = 0,\n",
    "  nat = 1,\n",
    "  ntyp = 1,\n",
    "  ecutwfc = 90.0,\n",
    "  occupations = 'smearing',\n",
    "  smearing = 'marzari-vanderbilt',\n",
    "  degauss = 1.0d-3,\n",
    "  nspin = 2,\n",
    "  starting_magnetization(1) = 0.5,\n",
    "/\n",
    "&ELECTRONS\n",
    "  conv_thr = 1.0d-6,\n",
    "  mixing_beta = 0.7,\n",
    "/\n",
    "ATOMIC_SPECIES\n",
    "  Hf 178.49 Hf.pbe_oncv_standard_0.5.upf\n",
    "\n",
    "CELL_PARAMETERS angstrom\n",
    "  25.0 0.0 0.0\n",
    "  0.0 25.0 0.0\n",
    "  0.0 0.0 25.0\n",
    "\n",
    "ATOMIC_POSITIONS angstrom\n",
    "  Hf 12.5 12.5 12.5\n",
    "\n",
    "K_POINTS automatic\n",
    "  1 1 1 0 0 0"
   ]
  },
  {
   "cell_type": "code",
   "execution_count": null,
   "metadata": {},
   "outputs": [],
   "source": [
    "! /content/q-e/bin/pw.x  -in Hf_single-atom-1.in | tee Hf_single-atom-1.out"
   ]
  },
  {
   "cell_type": "code",
   "execution_count": null,
   "metadata": {},
   "outputs": [],
   "source": [
    "%%writefile O_single-atom-0.in\n",
    "&CONTROL\n",
    "  calculation = 'scf',\n",
    "  prefix = 'O_atom',\n",
    "  pseudo_dir = './pp',\n",
    "  outdir = './o_single-atom_0'\n",
    "/\n",
    "&SYSTEM\n",
    "  ibrav = 0,\n",
    "  nat = 1,\n",
    "  ntyp = 1,\n",
    "  ecutwfc = 90.0,\n",
    "  occupations = 'smearing',\n",
    "  smearing = 'marzari-vanderbilt',\n",
    "  degauss = 1.0d-3,\n",
    "/\n",
    "&ELECTRONS\n",
    "  conv_thr = 1.0d-6,\n",
    "  mixing_beta = 0.7,\n",
    "/\n",
    "ATOMIC_SPECIES\n",
    "  O 15.999 O.pbe_oncv_standard_0.5.upf\n",
    "\n",
    "CELL_PARAMETERS angstrom\n",
    "  25.0 0.0 0.0\n",
    "  0.0 25.0 0.0\n",
    "  0.0 0.0 25.0\n",
    "\n",
    "ATOMIC_POSITIONS angstrom\n",
    "  O  12.5 12.5 12.5\n",
    "\n",
    "K_POINTS automatic\n",
    "  1 1 1 0 0 0"
   ]
  },
  {
   "cell_type": "code",
   "execution_count": null,
   "metadata": {},
   "outputs": [],
   "source": [
    "! /content/q-e/bin/pw.x  -in O_single-atom-0.in | tee O_single-atom-0.out"
   ]
  },
  {
   "cell_type": "code",
   "execution_count": null,
   "metadata": {},
   "outputs": [],
   "source": [
    "%%writefile O_single-atom-1.in\n",
    "&CONTROL\n",
    "  calculation = 'scf',\n",
    "  prefix = 'O_atom',\n",
    "  pseudo_dir = './pp',\n",
    "  outdir = './o_single-atom_1'\n",
    "/\n",
    "&SYSTEM\n",
    "  ibrav = 0,\n",
    "  nat = 1,\n",
    "  ntyp = 1,\n",
    "  ecutwfc = 90.0,\n",
    "  occupations = 'smearing',\n",
    "  smearing = 'marzari-vanderbilt',\n",
    "  degauss = 1.0d-3,\n",
    "  nspin = 2,                  ! enable collinear spin\n",
    "  starting_magnetization(1) = 0.33,\n",
    "/\n",
    "&ELECTRONS\n",
    "  conv_thr = 1.0d-6,\n",
    "  mixing_beta = 0.7,\n",
    "/\n",
    "ATOMIC_SPECIES\n",
    "  O 15.999 O.pbe_oncv_standard_0.5.upf\n",
    "\n",
    "CELL_PARAMETERS angstrom\n",
    "  25.0 0.0 0.0\n",
    "  0.0 25.0 0.0\n",
    "  0.0 0.0 25.0\n",
    "\n",
    "ATOMIC_POSITIONS angstrom\n",
    "  O  12.5 12.5 12.5\n",
    "\n",
    "K_POINTS automatic\n",
    "  1 1 1 0 0 0"
   ]
  },
  {
   "cell_type": "code",
   "execution_count": null,
   "metadata": {},
   "outputs": [],
   "source": [
    "! /content/q-e/bin/pw.x  -in O_single-atom-1.in | tee O_single-atom-1.out"
   ]
  },
  {
   "cell_type": "code",
   "execution_count": null,
   "metadata": {},
   "outputs": [],
   "source": [
    "!ls"
   ]
  },
  {
   "cell_type": "code",
   "execution_count": null,
   "metadata": {},
   "outputs": [],
   "source": [
    "!cat  o_single-atom_1/O_atom.xml"
   ]
  },
  {
   "cell_type": "code",
   "execution_count": null,
   "metadata": {},
   "outputs": [],
   "source": [
    "%%writefile O_single-atom-2.in\n",
    "&CONTROL\n",
    "  calculation = 'scf',\n",
    "  prefix = 'O_atom',\n",
    "  pseudo_dir = './pp',\n",
    "  outdir = './o_single-atom_2'\n",
    "/\n",
    "&SYSTEM\n",
    "  ibrav = 0,\n",
    "  nat = 1,\n",
    "  ntyp = 1,\n",
    "  ecutwfc = 90.0,\n",
    "  occupations = 'smearing',\n",
    "  smearing = 'marzari-vanderbilt',\n",
    "  degauss = 1.0d-3,\n",
    "  nspin = 2,                  ! enable collinear spin\n",
    "  starting_magnetization(1) = 0.33,\n",
    "  assume_isolated = 'makov-payne',\n",
    "/\n",
    "&ELECTRONS\n",
    "  conv_thr = 1.0d-6,\n",
    "  mixing_beta = 0.7,\n",
    "/\n",
    "ATOMIC_SPECIES\n",
    "  O 15.999 O.pbe_oncv_standard_0.5.upf\n",
    "\n",
    "CELL_PARAMETERS angstrom\n",
    "  25.0 0.0 0.0\n",
    "  0.0 25.0 0.0\n",
    "  0.0 0.0 25.0\n",
    "\n",
    "ATOMIC_POSITIONS angstrom\n",
    "  O  12.5 12.5 12.5\n",
    "\n",
    "K_POINTS automatic\n",
    "  1 1 1 0 0 0"
   ]
  },
  {
   "cell_type": "code",
   "execution_count": null,
   "metadata": {},
   "outputs": [],
   "source": [
    "! /content/q-e/bin/pw.x  -in O_single-atom-2.in | tee O_single-atom-2.out"
   ]
  },
  {
   "cell_type": "code",
   "execution_count": null,
   "metadata": {},
   "outputs": [],
   "source": []
  }
 ],
 "metadata": {},
 "nbformat": 4,
 "nbformat_minor": 0
}
