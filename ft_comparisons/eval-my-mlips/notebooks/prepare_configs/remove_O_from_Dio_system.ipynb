{
 "cells": [
  {
   "cell_type": "code",
   "execution_count": null,
   "id": "5dbc4c58",
   "metadata": {},
   "outputs": [],
   "source": [
    "from ase.io import read as ase_read"
   ]
  },
  {
   "cell_type": "code",
   "execution_count": null,
   "id": "2b21a121",
   "metadata": {},
   "outputs": [],
   "source": [
    "ref_polycrystal = ase_read(\"Hf.O.polycrystal.xyz\")"
   ]
  },
  {
   "cell_type": "code",
   "execution_count": null,
   "id": "407f7e0b",
   "metadata": {},
   "outputs": [],
   "source": [
    "ase_write(\"dio_original_polycrystal_DATA\", ref_polycrystal, format=\"lammps-data\")"
   ]
  },
  {
   "cell_type": "code",
   "execution_count": null,
   "id": "4bc86781",
   "metadata": {},
   "outputs": [],
   "source": [
    "ref_polycrystal_noO = ref_polycrystal[[atom.symbol != \"O\" for atom in ref_polycrystal]]"
   ]
  },
  {
   "cell_type": "code",
   "execution_count": null,
   "id": "6128b1ec",
   "metadata": {},
   "outputs": [],
   "source": [
    "len(ref_polycrystal)"
   ]
  },
  {
   "cell_type": "code",
   "execution_count": null,
   "id": "bd4d1110",
   "metadata": {},
   "outputs": [],
   "source": [
    "len(ref_polycrystal_noO)"
   ]
  },
  {
   "cell_type": "code",
   "execution_count": null,
   "id": "fcb8cd78",
   "metadata": {},
   "outputs": [],
   "source": [
    "from ase.io import write as ase_write\n",
    "ase_write(\"dio_polycrystal_noO.xyz\",ref_polycrystal_noO, format=\"xyz\")"
   ]
  },
  {
   "cell_type": "code",
   "execution_count": null,
   "id": "71acb386",
   "metadata": {},
   "outputs": [],
   "source": [
    "ase_write(\"dio_polycrystal_noO_DATA\",ref_polycrystal_noO, format=\"lammps-data\")"
   ]
  },
  {
   "cell_type": "code",
   "execution_count": null,
   "id": "135bc97b",
   "metadata": {},
   "outputs": [],
   "source": []
  }
 ],
 "metadata": {
  "language_info": {
   "name": "python"
  }
 },
 "nbformat": 4,
 "nbformat_minor": 5
}
