{
 "cells": [
  {
   "cell_type": "code",
   "execution_count": null,
   "metadata": {},
   "outputs": [],
   "source": [
    "using Revise\n",
    "using Pkg; Pkg.activate(\".\") # If I'm in new_muller_brown"
   ]
  },
  {
   "cell_type": "code",
   "execution_count": null,
   "metadata": {},
   "outputs": [],
   "source": [
    "using Cairn\n",
    "using LinearAlgebra, Random, Statistics, StatsBase # Do need StatsBase this time\n",
    "using PotentialLearning\n",
    "using Molly, AtomsCalculators\n",
    "using AtomisticQoIs\n",
    "using SpecialPolynomials\n",
    "using JLD2"
   ]
  },
  {
   "cell_type": "code",
   "execution_count": null,
   "metadata": {},
   "outputs": [],
   "source": [
    "include(\"/Users/swyant/cesmix/dev/Cairn.jl/src/makie/makie.jl\")\n",
    "includet(\"/Users/swyant/cesmix/dev/Cairn.jl/src/makie/plot_contours.jl\")"
   ]
  },
  {
   "cell_type": "code",
   "execution_count": null,
   "metadata": {},
   "outputs": [],
   "source": [
    "ref = MullerBrownRot()\n",
    "limits = [[-4.4,1.5],[-2,2]]\n",
    "coord_grid = coord_grid_2d(limits,0.05) # from the makie.jl file\n",
    "#ctr_lvls = -150:50:1000\n",
    "ctr_lvls = -150:2:1000"
   ]
  },
  {
   "cell_type": "code",
   "execution_count": null,
   "metadata": {},
   "outputs": [],
   "source": [
    "basisfam = Jacobi{0.5,0.5}\n",
    "#basisfam = Jacobi{2,2}\n",
    "\n",
    "#order=20\n",
    "order=50\n",
    "pce0 = PolynomialChaos(order,2,basisfam,xscl=limits)"
   ]
  },
  {
   "cell_type": "code",
   "execution_count": null,
   "metadata": {},
   "outputs": [],
   "source": [
    "coords_eval = potential_grid_2d(ref,limits,0.04,cutoff=800)\n",
    "#@show coords_eval\n",
    "#sys_eval = define_ens(ref,coords_eval) # This has been replaced with Ensemble()\n",
    "sys_eval = Ensemble(ref,coords_eval)"
   ]
  },
  {
   "cell_type": "code",
   "execution_count": null,
   "metadata": {},
   "outputs": [],
   "source": [
    "sys0 = System(ref,[0.5,0.5], loggers=(coords=CoordinateLogger(100;dims=2),))"
   ]
  },
  {
   "cell_type": "code",
   "execution_count": null,
   "metadata": {},
   "outputs": [],
   "source": [
    "# Training set 3: samples from high-T MD\n",
    "sim_highT = OverdampedLangevin(\n",
    "            dt=0.002u\"ps\",\n",
    "            temperature=1500.0u\"K\",\n",
    "            #temperature=1250.0u\"K\",\n",
    "            friction=4.0u\"ps^-1\",\n",
    ")\n",
    "# simulate\n",
    "sys = deepcopy(sys0)\n",
    "simulate!(sys, sim_highT, 10_000_000)\n",
    "\n",
    "id = StatsBase.sample(1:length(sys.loggers.coords.history), 50_000, replace=false)\n",
    "coords = [sys.loggers.coords.history[i][1] for i in id]\n",
    "trainset = Ensemble(deepcopy(pce0), coords)"
   ]
  },
  {
   "cell_type": "code",
   "execution_count": null,
   "metadata": {},
   "outputs": [],
   "source": [
    "f, ax = plot_contours_2d(ref, coord_grid; fill=true, lvls=ctr_lvls)\n",
    "coordmat = reduce(hcat, [get_values(crd) for crd in coords])'\n",
    "scatter!(ax, coordmat[:,1], coordmat[:,2], color=:red, markersize=1, label=\"train set 3\")\n",
    "axislegend(ax)\n",
    "f"
   ]
  },
  {
   "cell_type": "code",
   "execution_count": null,
   "metadata": {},
   "outputs": [],
   "source": [
    "trainsets = Vector{eltype(trainset)}()"
   ]
  },
  {
   "cell_type": "code",
   "execution_count": null,
   "metadata": {},
   "outputs": [],
   "source": [
    "pce = deepcopy(pce0)\n",
    "lpe = learn!(trainset, ref, pce; e_flag=true, f_flag=false)"
   ]
  },
  {
   "cell_type": "code",
   "execution_count": null,
   "metadata": {},
   "outputs": [],
   "source": [
    "pce.params = deepcopy(lpe.β)"
   ]
  },
  {
   "cell_type": "code",
   "execution_count": null,
   "metadata": {},
   "outputs": [],
   "source": [
    "Cairn.potential_pce(pce,coords[5])"
   ]
  },
  {
   "cell_type": "code",
   "execution_count": null,
   "metadata": {},
   "outputs": [],
   "source": [
    "Cairn.potential_muller_brown(ref, coords[5])"
   ]
  },
  {
   "cell_type": "code",
   "execution_count": null,
   "metadata": {},
   "outputs": [],
   "source": [
    "function generate_trainsets(sim, base_sys, base_pot;\n",
    "                            num_trainsets=10,\n",
    "                            num_run=10_000_000,\n",
    "                            num_sample=50_000)\n",
    "    trainsets = []\n",
    "    coordsets = []\n",
    "    for i in 1:num_trainsets\n",
    "        println(\"generating trainset $(i)\")\n",
    "        sys = deepcopy(base_sys)\n",
    "        simulate!(sys, sim, num_run)\n",
    "\n",
    "        id = StatsBase.sample(1:length(sys.loggers.coords.history), num_sample, replace=false)\n",
    "        coords = [sys.loggers.coords.history[k][1] for k in id]\n",
    "        push!(coordsets, coords)\n",
    "        trainset = Ensemble(deepcopy(base_pot), coords)\n",
    "        push!(trainsets, trainset)\n",
    "    end\n",
    "    identity.(trainsets), identity.(coordsets)\n",
    "end"
   ]
  },
  {
   "cell_type": "code",
   "execution_count": null,
   "metadata": {},
   "outputs": [],
   "source": [
    "# Training set 3: samples from high-T MD\n",
    "sim_highT = OverdampedLangevin(\n",
    "            dt=0.002u\"ps\",\n",
    "            temperature=1500.0u\"K\",\n",
    "            friction=4.0u\"ps^-1\",\n",
    ")\n",
    "\n",
    "my_trainsets, my_coordsets = generate_trainsets(sim_highT, sys0, pce0, num_trainsets=10)"
   ]
  },
  {
   "cell_type": "code",
   "execution_count": null,
   "metadata": {},
   "outputs": [],
   "source": [
    "#save(\"ten_1500K_trainsets.jld2\", Dict(\"coordsets\"=>my_coordsets))"
   ]
  },
  {
   "cell_type": "code",
   "execution_count": null,
   "metadata": {},
   "outputs": [],
   "source": [
    "my_coordsets = load(\"ten_1500K_trainsets.jld2\")[\"coordsets\"]\n",
    "my_trainsets = [Ensemble(deepcopy(pce0),coords) for coords in my_coordsets]"
   ]
  },
  {
   "cell_type": "code",
   "execution_count": null,
   "metadata": {},
   "outputs": [],
   "source": [
    "function plot_trainsets(ref_pot, coord_grid, ctr_lvls, coordsets)\n",
    "    f, ax = plot_contours_2d(ref_pot, coord_grid; fill=true, lvls=ctr_lvls)\n",
    "    cmap = :seaborn_bright\n",
    "    for (i,coords) in enumerate(coordsets)\n",
    "        coordmat = reduce(hcat, [get_values(crd) for crd in coords])'\n",
    "        scatter!(ax, coordmat[:,1], coordmat[:,2], colormap=cmap, color=i, colorrange=(1,10), markersize=1, label=\"trainset $(i)\")\n",
    "        axislegend(ax)\n",
    "    end\n",
    "    f\n",
    "end"
   ]
  },
  {
   "cell_type": "markdown",
   "metadata": {},
   "source": [
    "There's a bug here with the legend when I plot all ten, but fine if I plot the first 9"
   ]
  },
  {
   "cell_type": "code",
   "execution_count": null,
   "metadata": {},
   "outputs": [],
   "source": [
    "plot_trainsets(ref, coord_grid, ctr_lvls, my_coordsets)"
   ]
  },
  {
   "cell_type": "code",
   "execution_count": null,
   "metadata": {},
   "outputs": [],
   "source": [
    "ensemble_members = Vector{typeof(pce0)}()\n",
    "\n",
    "for trainset in my_trainsets\n",
    "    pce = deepcopy(pce0)\n",
    "    lpe = learn!(trainset, ref, pce; e_flag=true, f_flag=false)\n",
    "    pce.params = deepcopy(lpe.β)\n",
    "    push!(ensemble_members, pce)\n",
    "end"
   ]
  },
  {
   "cell_type": "code",
   "execution_count": null,
   "metadata": {},
   "outputs": [],
   "source": [
    "#save(\"ten_pce_ensembles.jld2\", Dict(\"ensemble_members\" => ensemble_members))"
   ]
  },
  {
   "cell_type": "code",
   "execution_count": null,
   "metadata": {},
   "outputs": [],
   "source": [
    "ensemble_members = load(\"ten_pce_ensembles.jld2\")[\"ensemble_members\"]"
   ]
  },
  {
   "cell_type": "code",
   "execution_count": null,
   "metadata": {},
   "outputs": [],
   "source": [
    "include(\"committee_potentials.jl\")\n",
    "include(\"committee_qois.jl\")"
   ]
  },
  {
   "cell_type": "code",
   "execution_count": null,
   "metadata": {},
   "outputs": [],
   "source": [
    "my_cmte = CommitteePotential(ensemble_members; energy_units=u\"kJ*mol^-1\", length_units=u\"nm\")"
   ]
  },
  {
   "cell_type": "code",
   "execution_count": null,
   "metadata": {},
   "outputs": [],
   "source": [
    "ustrip.(compute_all_energies(sys0,my_cmte))"
   ]
  },
  {
   "cell_type": "code",
   "execution_count": null,
   "metadata": {},
   "outputs": [],
   "source": [
    "cmte_energy = CmteEnergy(Statistics.std, strip_units=true)"
   ]
  },
  {
   "cell_type": "code",
   "execution_count": null,
   "metadata": {},
   "outputs": [],
   "source": [
    "compute(cmte_energy,sys0,my_cmte)"
   ]
  },
  {
   "cell_type": "code",
   "execution_count": null,
   "metadata": {},
   "outputs": [],
   "source": [
    "# test data\n",
    "sim_highT = OverdampedLangevin(\n",
    "            dt=0.002u\"ps\",\n",
    "            temperature=1500.0u\"K\",\n",
    "            friction=4.0u\"ps^-1\",\n",
    ")\n",
    "test_sys = deepcopy(sys0)\n",
    "simulate!(test_sys, sim_highT, 10_000_000)"
   ]
  },
  {
   "cell_type": "code",
   "execution_count": null,
   "metadata": {},
   "outputs": [],
   "source": [
    "# test/calibration split\n",
    "function obtain_test_cal_indxs(frac::Float64, set_size::Int64)\n",
    "    @assert frac <= 1.0\n",
    "    num_select = Int(floor(frac*set_size))\n",
    "\n",
    "    perm_idxs = randperm(set_size)\n",
    "    test_set_idxs = perm_idxs[begin:1:num_select]\n",
    "    calib_set_idxs = perm_idxs[num_select+1:end]\n",
    "\n",
    "    test_set_idxs, calib_set_idxs\n",
    "end"
   ]
  },
  {
   "cell_type": "code",
   "execution_count": null,
   "metadata": {},
   "outputs": [],
   "source": [
    "possible_test_idxs, possible_cal_idxs = obtain_test_cal_indxs(0.5,length(test_sys.loggers.coords.history))"
   ]
  },
  {
   "cell_type": "code",
   "execution_count": null,
   "metadata": {},
   "outputs": [],
   "source": [
    "test_idxs = possible_test_idxs[1:5000]\n",
    "test_coords = [test_sys.loggers.coords.history[i][1] for i in test_idxs]\n",
    "testset = Ensemble(deepcopy(pce0), test_coords)\n"
   ]
  },
  {
   "cell_type": "code",
   "execution_count": null,
   "metadata": {},
   "outputs": [],
   "source": [
    "using BenchmarkTools"
   ]
  },
  {
   "cell_type": "code",
   "execution_count": null,
   "metadata": {},
   "outputs": [],
   "source": [
    "@benchmark compute(cmte_energy,sys0,my_cmte)"
   ]
  },
  {
   "cell_type": "code",
   "execution_count": null,
   "metadata": {},
   "outputs": [],
   "source": [
    "test_cmte_stds = [compute(cmte_energy,sys,my_cmte) for sys in testset]"
   ]
  },
  {
   "cell_type": "code",
   "execution_count": null,
   "metadata": {},
   "outputs": [],
   "source": [
    "function plot_histogram(data; num_bins=500, xlow=0.0, xhigh=0.2)\n",
    "    fig = Figure()\n",
    "    ax = Axis(fig[1, 1],\n",
    "        xlabel = \"Value\",\n",
    "        ylabel = \"Frequency\",\n",
    "        title = \"Histogram\")\n",
    "\n",
    "    hist!(ax, data, bins = num_bins)\n",
    "\n",
    "    # Set the x-axis limits to 0 to 0.5\n",
    "    xlims!(ax, xlow,xhigh)\n",
    "\n",
    "    return fig\n",
    "end"
   ]
  },
  {
   "cell_type": "code",
   "execution_count": null,
   "metadata": {},
   "outputs": [],
   "source": [
    "maximum(test_cmte_stds)"
   ]
  },
  {
   "cell_type": "code",
   "execution_count": null,
   "metadata": {},
   "outputs": [],
   "source": [
    "plot_histogram([val for val in test_cmte_stds if val< 0.5]; num_bins=500)"
   ]
  },
  {
   "cell_type": "code",
   "execution_count": null,
   "metadata": {},
   "outputs": [],
   "source": [
    "out = sort(deepcopy(test_cmte_stds))"
   ]
  },
  {
   "cell_type": "code",
   "execution_count": null,
   "metadata": {},
   "outputs": [],
   "source": [
    "out[end-19:end]"
   ]
  },
  {
   "cell_type": "code",
   "execution_count": null,
   "metadata": {},
   "outputs": [],
   "source": [
    "calib_idxs = possible_cal_idxs[1:5000]\n",
    "calib_coords = [test_sys.loggers.coords.history[i][1] for i in calib_idxs]\n",
    "calib_set = Ensemble(deepcopy(pce0), calib_coords)"
   ]
  },
  {
   "cell_type": "code",
   "execution_count": null,
   "metadata": {},
   "outputs": [],
   "source": [
    "ecalib_pred = [ustrip(potential_energy(sys,my_cmte)) for sys in calib_set]\n",
    "ecalib_ref = [ustrip(potential_energy(sys,ref)) for sys in calib_set]\n",
    "calib_uq = [ustrip(compute(cmte_energy, sys, my_cmte)) for sys in calib_set]"
   ]
  },
  {
   "cell_type": "code",
   "execution_count": null,
   "metadata": {},
   "outputs": [],
   "source": [
    "includet(\"conformal_prediction_utils.jl\")"
   ]
  },
  {
   "cell_type": "code",
   "execution_count": null,
   "metadata": {},
   "outputs": [],
   "source": [
    "qhat = calibrate(ecalib_pred, ecalib_ref, calib_uq)"
   ]
  },
  {
   "cell_type": "code",
   "execution_count": null,
   "metadata": {},
   "outputs": [],
   "source": [
    "etest_pred = [ustrip(potential_energy(sys,my_cmte)) for sys in testset]\n",
    "etest_ref = [ustrip(potential_energy(sys,ref)) for sys in testset]\n",
    "test_uq = [ustrip(compute(cmte_energy, sys, my_cmte)) for sys in testset]\n",
    "\n",
    "num_test = length(etest_pred)\n",
    "test_abs_residuals = abs.(etest_pred .- etest_ref)"
   ]
  },
  {
   "cell_type": "code",
   "execution_count": null,
   "metadata": {},
   "outputs": [],
   "source": [
    "qhat_scores = qhat*test_uq\n",
    "coverage = sum(test_abs_residuals .> qhat_scores) / num_test"
   ]
  },
  {
   "cell_type": "code",
   "execution_count": null,
   "metadata": {},
   "outputs": [],
   "source": [
    "hist([score for score in qhat_scores if score <0.1], bins=500)"
   ]
  },
  {
   "cell_type": "code",
   "execution_count": null,
   "metadata": {},
   "outputs": [],
   "source": [
    "test_uq"
   ]
  },
  {
   "cell_type": "code",
   "execution_count": null,
   "metadata": {},
   "outputs": [],
   "source": [
    "uncertainty_vs_residuals(test_uq,test_abs_residuals)"
   ]
  },
  {
   "cell_type": "code",
   "execution_count": null,
   "metadata": {},
   "outputs": [],
   "source": [
    "calib_scores = abs.(ecalib_pred .- ecalib_ref) ./ calib_uq\n",
    "alpha_complements = collect(range(0.01,0.99,step=0.01))\n",
    "alpha_refs = 1 .- alpha_complements\n",
    "\n",
    "alpha_pred = generate_predicted_alphas(calib_scores,test_uq, test_abs_residuals)"
   ]
  },
  {
   "cell_type": "code",
   "execution_count": null,
   "metadata": {},
   "outputs": [],
   "source": [
    "make_calibration_plot(alpha_refs,alpha_pred)"
   ]
  },
  {
   "cell_type": "code",
   "execution_count": null,
   "metadata": {},
   "outputs": [],
   "source": [
    "compute_miscalibration_area(alpha_refs,alpha_pred)"
   ]
  },
  {
   "cell_type": "markdown",
   "metadata": {},
   "source": [
    "- [x] take 2x random test samples, randomly pair them, compute ref and predicted energy differences\n",
    "- [ ]to find conservative CI bounds, take high bound of first, low bound of second; low bound of first, high bound of second\n",
    "- [ ] assess coverage, i.e. is the residual within those bounds\n",
    "\n",
    "Then to conformalize against energy differences. \n",
    "- [ ] Double size of calibration data, randomly pair, and conformalize against energy difference. \n",
    "     (naive approach is to take sum of each point's std as the uq metric)\n",
    "- [ ] redo coverage check"
   ]
  },
  {
   "cell_type": "code",
   "execution_count": null,
   "metadata": {},
   "outputs": [],
   "source": [
    "ediff_test_idxs = possible_test_idxs[5001:15000]\n",
    "ediff_test_coords = [test_sys.loggers.coords.history[i][1] for i in ediff_test_idxs]\n",
    "ediff_testset = Ensemble(deepcopy(pce0), ediff_test_coords)"
   ]
  },
  {
   "cell_type": "code",
   "execution_count": null,
   "metadata": {},
   "outputs": [],
   "source": [
    "# Already random, so just take every two\n",
    "ediff_test_ref = Float64[]\n",
    "ediff_test_pred = Float64[]\n",
    "ediff_test_uq = Float64[]\n",
    "sys1_uqs = Float64[]\n",
    "sys2_uqs = Float64[]\n",
    "\n",
    "sys1_epreds = Float64[]\n",
    "sys2_epreds = Float64[]\n",
    "for i in 1:2:length(ediff_testset)\n",
    "    sys1 = ediff_testset[i]\n",
    "    sys2 = ediff_testset[i+1]\n",
    "    e1_ref = ustrip.(potential_energy(sys1,ref))\n",
    "    e2_ref = ustrip.(potential_energy(sys2, ref))\n",
    "\n",
    "    push!(ediff_test_ref, e2_ref - e1_ref)\n",
    "\n",
    "    e1_pred = ustrip.(potential_energy(sys1, my_cmte))\n",
    "    push!(sys1_epreds,e1_pred)\n",
    "    e2_pred = ustrip.(potential_energy(sys2, my_cmte))\n",
    "    sys2_epreds = push!(sys2_epreds,e2_pred)\n",
    "\n",
    "    push!(ediff_test_pred, e2_pred - e1_pred)\n",
    "\n",
    "    sys1_uq = ustrip(compute(cmte_energy,sys1,my_cmte))\n",
    "    push!(sys1_uqs,sys1_uq)\n",
    "    sys2_uq = ustrip(compute(cmte_energy,sys2,my_cmte))\n",
    "    push!(sys2_uqs,sys2_uq)\n",
    "    push!(ediff_test_uq, sys1_uq+sys2_uq)\n",
    "end"
   ]
  },
  {
   "cell_type": "code",
   "execution_count": null,
   "metadata": {},
   "outputs": [],
   "source": [
    "# for each (sys1,sys2) pair, output (low,high) for the prediction set of the energy difference\n",
    "function compute_ediff_prediction_sets(sys1_epreds,\n",
    "                                       sys2_epreds,\n",
    "                                       sys1_uqs,\n",
    "                                       sys2_uqs,\n",
    "                                       qhat)\n",
    "    ediff_prediction_sets = Vector{Tuple{Float64,Float64}}()\n",
    "    for idx in 1:length(sys1_epreds)\n",
    "        band1 = qhat*sys1_uqs[idx]\n",
    "        band2 = qhat*sys2_uqs[idx]\n",
    "\n",
    "        upper_2 = sys2_epreds[idx] + band2\n",
    "        lower_1 = sys1_epreds[idx] - band1\n",
    "        bound1 = upper_2 - lower_1\n",
    "\n",
    "        lower_2 = sys2_epreds[idx] - band2\n",
    "        upper_1 = sys1_epreds[idx] + band1\n",
    "        bound2 = lower_2 - upper_1\n",
    "\n",
    "        push!(ediff_prediction_sets, tuple(sort([bound1,bound2])...))\n",
    "    end\n",
    "\n",
    "    ediff_prediction_sets\n",
    "end"
   ]
  },
  {
   "cell_type": "code",
   "execution_count": null,
   "metadata": {},
   "outputs": [],
   "source": [
    "# for each (sys1,sys2) pair, output (low,high) for the prediction set of the energy difference\n",
    "function correct_conservative_ediff_pred_sets(sys1_epreds,\n",
    "                                            sys2_epreds,\n",
    "                                            sys1_uqs,\n",
    "                                            sys2_uqs,\n",
    "                                            qhat)\n",
    "    ediff_prediction_sets = Vector{Tuple{Float64,Float64}}()\n",
    "    for idx in 1:length(sys1_epreds)\n",
    "        band1 = qhat*sys1_uqs[idx]\n",
    "        band2 = qhat*sys2_uqs[idx]\n",
    "\n",
    "        upper_2 = sys2_epreds[idx] + band2\n",
    "        lower_1 = sys1_epreds[idx] - band1\n",
    "\n",
    "        lower_2 = sys2_epreds[idx] - band2\n",
    "        upper_1 = sys1_epreds[idx] + band1\n",
    "\n",
    "        bound1 = upper_2 - lower_1\n",
    "        bound2 = upper_2 - upper_1\n",
    "        bound3 = lower_2 - upper_1\n",
    "        bound4 = lower_2 - lower_1\n",
    "\n",
    "        max_bound = maximum([bound1,bound2,bound3,bound4])\n",
    "        min_bound = minimum([bound1,bound2,bound3,bound4])\n",
    "        push!(ediff_prediction_sets, (min_bound,max_bound))\n",
    "    end\n",
    "\n",
    "    ediff_prediction_sets\n",
    "end"
   ]
  },
  {
   "cell_type": "code",
   "execution_count": null,
   "metadata": {},
   "outputs": [],
   "source": [
    "qhat = calibrate(ecalib_pred, ecalib_ref, calib_uq)\n",
    "ediff_pred_sets = compute_ediff_prediction_sets(sys1_epreds,\n",
    "                                                sys2_epreds,\n",
    "                                                sys1_uqs,\n",
    "                                                sys2_uqs,\n",
    "                                                qhat)"
   ]
  },
  {
   "cell_type": "code",
   "execution_count": null,
   "metadata": {},
   "outputs": [],
   "source": [
    "ediff_test_pred"
   ]
  },
  {
   "cell_type": "code",
   "execution_count": null,
   "metadata": {},
   "outputs": [],
   "source": [
    "using GLMakie"
   ]
  },
  {
   "cell_type": "code",
   "execution_count": null,
   "metadata": {},
   "outputs": [],
   "source": [
    "ediff_low_bounds = [bound[1] for bound in ediff_pred_sets]\n",
    "ediff_high_bounds = [bound[2] for bound in ediff_pred_sets]\n",
    "parity_plot(ediff_test_ref, ediff_test_pred, ediff_test_pred .- ediff_low_bounds, ediff_high_bounds .- ediff_test_pred)"
   ]
  },
  {
   "cell_type": "code",
   "execution_count": null,
   "metadata": {},
   "outputs": [],
   "source": [
    "ediff_high_bounds[1:10]"
   ]
  },
  {
   "cell_type": "code",
   "execution_count": null,
   "metadata": {},
   "outputs": [],
   "source": [
    "ediff_low_bounds"
   ]
  },
  {
   "cell_type": "code",
   "execution_count": null,
   "metadata": {},
   "outputs": [],
   "source": [
    "num_test_ediff = length(ediff_test_ref)\n",
    "sum(ediff_low_bounds .<= ediff_test_ref .<= ediff_high_bounds)/num_ediff"
   ]
  },
  {
   "cell_type": "code",
   "execution_count": null,
   "metadata": {},
   "outputs": [],
   "source": [
    "\n",
    "alpha_compls = collect(range(0.01,0.99,step=0.01))\n",
    "alpha_refs = 1 .- alpha_compls # i.e. iterate 0.99..0.01, but will then plot as 1-0.99...1-0.01\n",
    "\n",
    "bad_predicted_alphas = Float64[]\n",
    "for alpha in alpha_refs\n",
    "    qh = calibrate(ecalib_pred, ecalib_ref, calib_uq, alpha)\n",
    "    ediff_pred_sets = compute_ediff_prediction_sets(sys1_epreds,\n",
    "                                                sys2_epreds,\n",
    "                                                sys1_uqs,\n",
    "                                                sys2_uqs,\n",
    "                                                qh)\n",
    "\n",
    "    ediff_low_bounds = [bound[1] for bound in ediff_pred_sets]\n",
    "    ediff_high_bounds = [bound[2] for bound in ediff_pred_sets]\n",
    "    predicted_alpha_compl = sum(ediff_low_bounds .<= ediff_test_ref .<= ediff_high_bounds) / num_test_ediff\n",
    "    push!(bad_predicted_alphas, 1.0 - predicted_alpha_compl)\n",
    "end"
   ]
  },
  {
   "cell_type": "code",
   "execution_count": null,
   "metadata": {},
   "outputs": [],
   "source": [
    "make_calibration_plot(alpha_refs, bad_predicted_alphas)"
   ]
  },
  {
   "cell_type": "code",
   "execution_count": null,
   "metadata": {},
   "outputs": [],
   "source": [
    "compute_miscalibration_area(alpha_refs,bad_predicted_alphas)"
   ]
  },
  {
   "cell_type": "code",
   "execution_count": null,
   "metadata": {},
   "outputs": [],
   "source": [
    "function check_alpha(alpha;\n",
    "                    ecalib_pred=ecalib_pred,\n",
    "                    ecalib_ref=ecalib_ref,\n",
    "                    calib_uq=calib_uq,\n",
    "                    sys1_epreds=sys1_epreds,\n",
    "                    sys2_epreds=sys2_epreds,\n",
    "                    sys1_uqs=sys2_uqs)\n",
    "    qh = calibrate(ecalib_pred, ecalib_ref, calib_uq, alpha)\n",
    "    ediff_pred_sets = compute_ediff_prediction_sets(sys1_epreds,\n",
    "                                                sys2_epreds,\n",
    "                                                sys1_uqs,\n",
    "                                                sys2_uqs,\n",
    "                                                qh)\n",
    "\n",
    "    ediff_low_bounds = [bound[1] for bound in ediff_pred_sets]\n",
    "    ediff_high_bounds = [bound[2] for bound in ediff_pred_sets]\n",
    "    predicted_alpha = sum(ediff_low_bounds .<= ediff_test_ref .<= ediff_high_bounds) / num_test_ediff\n",
    "    ediff_pred_sets, 1.0 -predicted_alpha\n",
    "end"
   ]
  },
  {
   "cell_type": "code",
   "execution_count": null,
   "metadata": {},
   "outputs": [],
   "source": [
    "pred_sets, my_alpha = check_alpha(0.05)"
   ]
  },
  {
   "cell_type": "code",
   "execution_count": null,
   "metadata": {},
   "outputs": [],
   "source": [
    "my_alpha"
   ]
  },
  {
   "cell_type": "code",
   "execution_count": null,
   "metadata": {},
   "outputs": [],
   "source": [
    "alpha_compls = collect(range(0.01,0.99,step=0.01))\n",
    "alpha_refs = 1 .- alpha_compls # i.e. iterate 0.99..0.01, but will then plot as 1-0.99...1-0.01\n",
    "\n",
    "conservative_predicted_alphas = Float64[]\n",
    "for alpha in alpha_refs\n",
    "    qh = calibrate(ecalib_pred, ecalib_ref, calib_uq, alpha)\n",
    "    ediff_pred_sets = correct_conservative_ediff_pred_sets(sys1_epreds,\n",
    "                                                sys2_epreds,\n",
    "                                                sys1_uqs,\n",
    "                                                sys2_uqs,\n",
    "                                                qh)\n",
    "\n",
    "    ediff_low_bounds = [bound[1] for bound in ediff_pred_sets]\n",
    "    ediff_high_bounds = [bound[2] for bound in ediff_pred_sets]\n",
    "    predicted_alpha_compl = sum(ediff_low_bounds .<= ediff_test_ref .<= ediff_high_bounds) / num_test_ediff\n",
    "    push!(conservative_predicted_alphas, 1.0 - predicted_alpha_compl)\n",
    "end"
   ]
  },
  {
   "cell_type": "code",
   "execution_count": null,
   "metadata": {},
   "outputs": [],
   "source": [
    "make_calibration_plot(alpha_refs, conservative_predicted_alphas)"
   ]
  },
  {
   "cell_type": "code",
   "execution_count": null,
   "metadata": {},
   "outputs": [],
   "source": [
    "compute_miscalibration_area(alpha_refs,conservative_predicted_alphas)"
   ]
  },
  {
   "cell_type": "markdown",
   "metadata": {},
   "source": [
    "OK actually it's the same, so suprisingly (to me), it's undercovered?\n"
   ]
  },
  {
   "cell_type": "code",
   "execution_count": null,
   "metadata": {},
   "outputs": [],
   "source": []
  }
 ],
 "metadata": {
  "language_info": {
   "name": "julia"
  }
 },
 "nbformat": 4,
 "nbformat_minor": 2
}
