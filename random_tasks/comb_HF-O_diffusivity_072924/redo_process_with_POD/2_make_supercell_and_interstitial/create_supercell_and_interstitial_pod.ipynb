{
 "cells": [
  {
   "cell_type": "code",
   "execution_count": null,
   "metadata": {},
   "outputs": [],
   "source": [
    "import ase.io\n",
    "from ase.build import make_supercell\n",
    "from ase import Atom"
   ]
  },
  {
   "cell_type": "code",
   "execution_count": null,
   "metadata": {},
   "outputs": [],
   "source": [
    "relaxed_atoms = ase.io.read(\"relaxed_Hf.lammpstrj\", specorder=[\"Hf\",\"O\"])\n",
    "relaxed_atoms.get_cell()"
   ]
  },
  {
   "cell_type": "markdown",
   "metadata": {},
   "source": [
    "These relaxed cell parameters (the first entry is a, the last entry is c) match what was obtained in the original Hf/HfO2 COMB paper https://journals.aps.org/prb/abstract/10.1103/PhysRevB.81.125328"
   ]
  },
  {
   "cell_type": "code",
   "execution_count": null,
   "metadata": {},
   "outputs": [],
   "source": [
    "supercell_atoms = make_supercell(relaxed_atoms, [[15.0,0.0,0.0],[0.0,9.0,0.0],[0.0,0.0,9.0]]) # 4*15*9*9= 4860 atoms"
   ]
  },
  {
   "cell_type": "code",
   "execution_count": null,
   "metadata": {},
   "outputs": [],
   "source": [
    "ase.io.write(\"temporary_Hf_DATA\", supercell_atoms,format=\"lammps-data\", specorder=[\"Hf\", \"O\"], masses=True, atom_style=\"atomic\")"
   ]
  },
  {
   "cell_type": "markdown",
   "metadata": {},
   "source": [
    "At this point, we can manually inspect this temporary_Hf_DATA file in OVITO to make sure it looks sensible. Then, we're going to manually add an O atom in the approximate middle of this block of atoms (just by visually looking at where the atoms are)"
   ]
  },
  {
   "cell_type": "code",
   "execution_count": null,
   "metadata": {},
   "outputs": [],
   "source": [
    "Oatom_x = 0.5*(22.5277+25.7473)\n",
    "Oatom_y = 0.5*(24.145+26.0041)\n",
    "Oatom_z = 0.5*(21.3305+23.8382)\n",
    "\n",
    "supercell_atoms.append(Atom(\"O\", [Oatom_x, Oatom_y, Oatom_z]))"
   ]
  },
  {
   "cell_type": "code",
   "execution_count": null,
   "metadata": {},
   "outputs": [],
   "source": [
    "len(supercell_atoms)"
   ]
  },
  {
   "cell_type": "code",
   "execution_count": null,
   "metadata": {},
   "outputs": [],
   "source": [
    "ase.io.write(\"orthog_Hf_15_9_9_singleOint_DATA\", supercell_atoms, format=\"lammps-data\", specorder=[\"Hf\", \"O\"], masses=True, atom_style=\"atomic\")"
   ]
  }
 ],
 "metadata": {
  "language_info": {
   "name": "python"
  }
 },
 "nbformat": 4,
 "nbformat_minor": 2
}
