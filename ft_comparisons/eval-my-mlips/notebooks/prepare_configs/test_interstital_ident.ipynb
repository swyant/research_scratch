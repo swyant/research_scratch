{
 "cells": [
  {
   "cell_type": "code",
   "execution_count": null,
   "id": "1a77b2c7",
   "metadata": {},
   "outputs": [],
   "source": [
    "from pymatgen.analysis.defects.generators import VoronoiInterstitialGenerator"
   ]
  },
  {
   "cell_type": "code",
   "execution_count": null,
   "id": "73d29356",
   "metadata": {},
   "outputs": [],
   "source": [
    "from pymatgen.core import Structure"
   ]
  },
  {
   "cell_type": "code",
   "execution_count": null,
   "id": "93b7c0f1",
   "metadata": {},
   "outputs": [],
   "source": [
    "struct = Structure.from_file(\"./polycrystals/Hf_hcp_polycystal-1.xsf\")"
   ]
  },
  {
   "cell_type": "code",
   "execution_count": null,
   "id": "dfbf73c9",
   "metadata": {},
   "outputs": [],
   "source": [
    "from ase.io import read, write\n",
    "atoms = read(\"./polycrystals/just_one_grain.xyz\")"
   ]
  },
  {
   "cell_type": "code",
   "execution_count": null,
   "id": "e44347dd",
   "metadata": {},
   "outputs": [],
   "source": [
    "write(\"just_one_grain.xsf\", atoms, format=\"xsf\")"
   ]
  },
  {
   "cell_type": "code",
   "execution_count": null,
   "id": "f15ca1bb",
   "metadata": {},
   "outputs": [],
   "source": [
    "alt_struct = Structure.from_file(\"just_one_grain.xsf\")"
   ]
  },
  {
   "cell_type": "code",
   "execution_count": null,
   "id": "a2958924",
   "metadata": {},
   "outputs": [],
   "source": [
    "generator = VoronoiInterstitialGenerator()"
   ]
  },
  {
   "cell_type": "code",
   "execution_count": null,
   "id": "4d94d781",
   "metadata": {},
   "outputs": [],
   "source": [
    "for site in generator.generate(alt_struct, 'O'):\n",
    "    print(site)"
   ]
  },
  {
   "cell_type": "code",
   "execution_count": null,
   "id": "62802e59",
   "metadata": {},
   "outputs": [],
   "source": [
    "sites = [site for site in generator.generate(struct, 'O')]"
   ]
  },
  {
   "cell_type": "markdown",
   "id": "c89929c5",
   "metadata": {},
   "source": [
    "1. Randomly sample a grain boundary atom \n",
    "2. make a cubic cut around that atom, feed it into voronoi \n",
    "3. map voronoi interstitials \n",
    "\n",
    "# Notes from constituitive modelling meeting psaaap iv\n",
    "distinguishing between variance between different microstructures, and for a given microstructures, many micro-level solutions but the same macro response\n",
    "all 4 permutation indices symmetries for elasticity tensor (21 degrees of freedom)\n",
    "in elasticity multiplicities of solutions goes away (it's a plasticity effect)\n",
    "\n",
    "voronoi cells have represent the key defining features (e.g. grain size distributions)\n",
    "graphite has strong tensor"
   ]
  },
  {
   "cell_type": "code",
   "execution_count": null,
   "id": "1b405b57",
   "metadata": {},
   "outputs": [],
   "source": []
  }
 ],
 "metadata": {
  "language_info": {
   "name": "python"
  }
 },
 "nbformat": 4,
 "nbformat_minor": 5
}
