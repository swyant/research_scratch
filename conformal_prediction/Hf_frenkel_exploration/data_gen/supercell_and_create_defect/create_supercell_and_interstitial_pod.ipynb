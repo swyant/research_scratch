{
 "cells": [
  {
   "cell_type": "code",
   "execution_count": null,
   "metadata": {},
   "outputs": [],
   "source": [
    "import ase.io\n",
    "from ase.build import make_supercell\n",
    "from ase import Atom"
   ]
  },
  {
   "cell_type": "code",
   "execution_count": null,
   "metadata": {},
   "outputs": [],
   "source": [
    "relaxed_atoms = ase.io.read(\"../relax_orthog/relaxed_Hf.lammpstrj\", specorder=[\"Hf\"])\n",
    "relaxed_atoms.get_cell()"
   ]
  },
  {
   "cell_type": "markdown",
   "metadata": {},
   "source": [
    "These relaxed cell parameters (the first entry is a, the last entry is c) match what was obtained in the original Hf/HfO2 COMB paper https://journals.aps.org/prb/abstract/10.1103/PhysRevB.81.125328"
   ]
  },
  {
   "cell_type": "code",
   "execution_count": null,
   "metadata": {},
   "outputs": [],
   "source": [
    "supercell_atoms = make_supercell(relaxed_atoms, [[7.0,0.0,0.0],[0.0,4.0,0.0],[0.0,0.0,4.0]]) # 4*15*9*9= 4860 atoms"
   ]
  },
  {
   "cell_type": "code",
   "execution_count": null,
   "metadata": {},
   "outputs": [],
   "source": [
    "len(supercell_atoms)"
   ]
  },
  {
   "cell_type": "code",
   "execution_count": null,
   "metadata": {},
   "outputs": [],
   "source": [
    "ase.io.write(\"temporary_Hf_DATA\", supercell_atoms,format=\"lammps-data\", specorder=[\"Hf\", \"O\"], masses=True, atom_style=\"atomic\")"
   ]
  },
  {
   "cell_type": "code",
   "execution_count": null,
   "metadata": {},
   "outputs": [],
   "source": [
    "del supercell_atoms[300]"
   ]
  },
  {
   "cell_type": "code",
   "execution_count": null,
   "metadata": {},
   "outputs": [],
   "source": [
    "len(supercell_atoms)"
   ]
  },
  {
   "cell_type": "code",
   "execution_count": null,
   "metadata": {},
   "outputs": [],
   "source": [
    "Hfint_x = 6.4009532250195766\n",
    "Hfint_y = 0.5*(4.614039541445209+ 6.4633928711068211)\n",
    "#Hfint_z = 0.5*(6.3328759127522352+3.7926391842507501)\n",
    "Hfint_z = 6.3328759127522352\n",
    "\n",
    "supercell_atoms.append(Atom(\"Hf\", [Hfint_x, Hfint_y, Hfint_z]))"
   ]
  },
  {
   "cell_type": "code",
   "execution_count": null,
   "metadata": {},
   "outputs": [],
   "source": [
    "#ase.io.write(\"orthog_Hf_7_4_4_Hfint_DATA\", supercell_atoms, format=\"lammps-data\", specorder=[\"Hf\"], masses=True, atom_style=\"atomic\")\n",
    "ase.io.write(\"orthog_Hf_7_4_4_Hfint_alt_DATA\", supercell_atoms, format=\"lammps-data\", specorder=[\"Hf\"], masses=True, atom_style=\"atomic\")"
   ]
  }
 ],
 "metadata": {
  "language_info": {
   "name": "python"
  }
 },
 "nbformat": 4,
 "nbformat_minor": 2
}
